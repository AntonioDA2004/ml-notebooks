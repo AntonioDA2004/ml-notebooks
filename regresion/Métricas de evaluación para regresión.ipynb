{
 "cells": [
  {
   "cell_type": "markdown",
   "metadata": {},
   "source": [
    "# Métricas de evaluación para regresión\n",
    "\n",
    "La forma más común de evaluar el ajuste global de un modelo lineal es por el valor $R^2$. $R^2$ es la proporción de la varianza explicada, es decir, la proporción de la varianza en los datos observados que es explicada por el modelo, o la reducción del error sobre el modelo nulo. El modelo nulo sólo predice la media de la respuesta observada, y por lo tanto tiene un *intercept* pero no una pendiente.\n",
    "\n",
    "$R^2$ está entre 0 y 1, y más alto es mejor porque significa que el modelo explica más varianza.\n",
    "\n",
    "Además de $R^2$ existen otras métricas para evaluar la calidad de los modelos de regresión. Las más utilizadas son las siguientes:\n",
    "\n",
    "* **Mean Absolute Error (MAE)** es la media de los valores absolutos de los errores\n",
    "$$\\frac{1}{n}\\sum^{n}_{i=1}\\left | y_i - \\widehat{y}_i  \\right |$$\n",
    "\n",
    "* **Mean Squared Error (MSE)** es la media de los cuadrados de los errores\n",
    "$$\\frac{1}{n}\\sum^{n}_{i=1}\\left ( y_i - \\widehat{y}_i  \\right )^2$$\n",
    "\n",
    "* **Root Mean Squared Error (RMSE)** es la raíz cuadrada de la media de los errores al cuadrado\n",
    "$$\\sqrt{\\frac{1}{n}\\sum^{n}_{i=1}\\left ( y_i - \\widehat{y}_i  \\right )^2}$$\n",
    "\n",
    "Todas estas métricas están implementadas en [scikit-learn](https://scikit-learn.org/stable/modules/classes.html#sklearn-metrics-metrics).\n",
    "\n",
    "El *MSE* es más popular que el *MAE* porque \"castiga\" los errores más grandes. Esto quiere decir que es una métrica más exigente con respecto a la calidad del modelo. Por otro lado, la *RMSE* es aún más popular que la *MSE* porque sus resultados son interpretables en unidades de la variable de salida.\n",
    "\n",
    "Observemos su funcionamiento sobre el conjunto de datos de las casas de Boston:"
   ]
  },
  {
   "cell_type": "code",
   "execution_count": 1,
   "metadata": {
    "ExecuteTime": {
     "end_time": "2021-04-14T14:30:03.421676Z",
     "start_time": "2021-04-14T14:30:02.826049Z"
    }
   },
   "outputs": [
    {
     "name": "stdout",
     "output_type": "stream",
     "text": [
      "MAE:  3.2645739551644364\n",
      "MSE:  22.044452243088205\n",
      "RMSE:  4.695151993608748\n",
      "R2:  0.7388703133867615\n"
     ]
    }
   ],
   "source": [
    "from sklearn.datasets import load_boston\n",
    "from sklearn.linear_model import Ridge\n",
    "from sklearn.metrics import mean_absolute_error, mean_squared_error\n",
    "\n",
    "X, y = load_boston(return_X_y=True)\n",
    "\n",
    "ridge = Ridge(alpha=1.0).fit(X, y)\n",
    "\n",
    "y_pred = ridge.predict(X)\n",
    "\n",
    "print(\"MAE: \", mean_absolute_error(y, y_pred))\n",
    "print(\"MSE: \", mean_squared_error(y, y_pred))\n",
    "print(\"RMSE: \", mean_squared_error(y, y_pred, squared=False))\n",
    "print(\"R2: \", ridge.score(X, y))"
   ]
  },
  {
   "attachments": {},
   "cell_type": "markdown",
   "metadata": {},
   "source": [
    "Observamos que el MAE es el error más interpretable, puesto de promedio nos equivocamos en 3200 dólares en el precio de una casa. El MSE no tiene un significado fácil de interpretar, pero el RMSE muestra valores similares al MAE, solo que, al ser más alto, denota que el error en las predicciones es dispar. Por último, el $R^2$ demuestra que se está explicando el 73\\% de la varianza."
   ]
  },
  {
   "attachments": {},
   "cell_type": "markdown",
   "metadata": {
    "id": "TVFstCLRFvot"
   },
   "source": [
    "## Evaluación justa de los modelos\n",
    "\n",
    "Hasta ahora hemos estado calculando las medidas de calidad de los modelos con el mismo conjunto de datos que se ha usado para su entrenamiento. Si bien evaluar los modelos de esta forma nos puede dar una aproximación de la dificultad que ha tenido el modelo para entrenarse, es una evaluación **nada justa** del modelo, puesto que estamos evaluando su rendimiento pidiendo que nos calcule la predicción de **los mismos datos** con los que ha realizado el ajuste. Por tanto, estamos confundiendo **rendimiento** con **overfitting**.\n",
    "\n",
    "Para realizar una evaluación más justa de cualquier modelo de *machine learning* se utiliza la división del conjunto de datos en dos conjuntos: uno para **entrenamiento** y otro para **test**.\n",
    "\n",
    "La idea básica es reservar un porcentaje de los datos de entrada para utilizarlos posteriormente en la fase de evaluación del modelo. Estos datos, al no participar en el entrenamiento de este, pueden considerarse como datos futuros. Por lo tanto, comprobar qué tal se comporta el modelo intentando predecir los datos de **test** es una forma justa de evaluar la capacidad de generalizar del modelo, lo que a fin de cuentas es la principal característica cuando se trata de *machine learning*.\n",
    "\n",
    "Un detalle importante es el mecanismo utilizado para realizar la división del conjunto de datos. Si se realiza *a mano* estamos inevitablemente introduciendo un sesgo en el proceso, ya que podría suceder que el subconjunto seleccionado no sea representativo del conjunto total. Por ello se suele dividir el conjunto de datos mediante un muestreo **aleatorio**.\n",
    "\n",
    "`sklearn` cuenta con una función para realizar la partición mediante muestreo aleatorio del conjunto de datos de entrada en dos subconjuntos, uno de entrenamiento y otro de test. La función en cuestión es `train_test_split`, y se encuentra en el módulo `model_selection`.\n",
    "\n",
    "Vamos a repetir la evaluación de las combinaciones de variables para el conjunto de datos del precio de las casas, aunque utilizando la división de los datos en entrenamiento y test:"
   ]
  },
  {
   "cell_type": "code",
   "execution_count": 2,
   "metadata": {
    "ExecuteTime": {
     "end_time": "2021-04-14T14:30:03.555795Z",
     "start_time": "2021-04-14T14:30:03.425422Z"
    },
    "id": "_zngLkfjFvou",
    "outputId": "d9c528f8-4353-4c7a-809d-4f95bf418e0e"
   },
   "outputs": [
    {
     "name": "stdout",
     "output_type": "stream",
     "text": [
      "MAE:  3.17853907603455\n",
      "MSE:  22.044053089860952\n",
      "RMSE:  4.6951094864615195\n",
      "R2:  0.7041586727559442\n"
     ]
    }
   ],
   "source": [
    "from sklearn.model_selection import train_test_split\n",
    "from sklearn.datasets import load_boston\n",
    "from sklearn.linear_model import Ridge\n",
    "from sklearn.metrics import mean_absolute_error, mean_squared_error\n",
    "\n",
    "X, y = load_boston(return_X_y=True)\n",
    "\n",
    "X_train, X_test, y_train, y_test = train_test_split(X, y, test_size=0.3, random_state=42)\n",
    "\n",
    "ridge = Ridge(alpha=1.0).fit(X_train, y_train)\n",
    "\n",
    "y_pred = ridge.predict(X_test)\n",
    "\n",
    "print(\"MAE: \", mean_absolute_error(y_test, y_pred))\n",
    "print(\"MSE: \", mean_squared_error(y_test, y_pred))\n",
    "print(\"RMSE: \", mean_squared_error(y_test, y_pred, squared=False))\n",
    "print(\"R2: \", ridge.score(X_test, y_test))"
   ]
  },
  {
   "cell_type": "markdown",
   "metadata": {
    "id": "Yy--3R4AFvow"
   },
   "source": [
    "## Cross-validation (validación cruzada)\n",
    "\n",
    "Aunque hemos dado un gran paso hacia una evaluación más justa de los modelos, todavía hay algunos detalles que se pueden mejorar. Y es que, si la separación del *dataset* en entrenamiento y test se realiza mediante un muestreo aleatorio, podría suceder que por casualidad todas las muestras que vayan al conjunto de test sean todas casas de 3 habitaciones, por poner un ejemplo. De esta forma se estaría introduciendo un sesgo en el proceso.\n",
    "\n",
    "Una forma de mitigar esto es realizar $K$ separaciones diferentes y aleatorias, calcular las medidas de calidad de cada una de estas separaciones y luego agruparlas con alguna función de agregación (media, mediana, ...). Este proceso se conoce como **K-fold cross-validation** y se puede considerar casi un estándar a la hora de evaluar el rendimiento de un modelo de aprendizaje computacional.\n",
    "\n",
    "La siguiente imagen muestra un proceso de 5-fold cross-validation, donde se observa que cada iteración usa unos conjuntos de entrenamiento y test distintos:\n",
    "\n",
    "![](https://i.imgur.com/R6nj4E9.png)\n",
    "\n",
    "`sklearn` cuenta con herramientas para realizar validación cruzada a la hora de evaluar los modelos. A continuación vamos a realizar la evaluación del modelo que tiene en cuenta todas las variables de entrada siguiendo el enfoque de **validación cruzada**:"
   ]
  },
  {
   "cell_type": "code",
   "execution_count": 3,
   "metadata": {
    "ExecuteTime": {
     "end_time": "2021-04-14T14:30:03.569570Z",
     "start_time": "2021-04-14T14:30:03.560454Z"
    }
   },
   "outputs": [],
   "source": [
    "from sklearn.datasets import load_boston\n",
    "from sklearn.linear_model import Ridge\n",
    "from sklearn.model_selection import cross_val_score\n",
    "\n",
    "X, y = load_boston(return_X_y=True)\n",
    "ridge = Ridge(alpha=1)"
   ]
  },
  {
   "cell_type": "code",
   "execution_count": 4,
   "metadata": {
    "ExecuteTime": {
     "end_time": "2021-04-14T14:30:03.586344Z",
     "start_time": "2021-04-14T14:30:03.571124Z"
    },
    "id": "X22KV7b7Fvow",
    "outputId": "32d93f36-cf76-4488-df14-2ce9dff8b775"
   },
   "outputs": [
    {
     "data": {
      "text/plain": [
       "array([-11.7110334 , -23.58316804, -29.69339407, -80.22988232,\n",
       "       -31.11617767])"
      ]
     },
     "execution_count": 4,
     "metadata": {},
     "output_type": "execute_result"
    }
   ],
   "source": [
    "cross_val_score(ridge, X, y, cv=5, scoring='neg_mean_squared_error')"
   ]
  },
  {
   "cell_type": "markdown",
   "metadata": {
    "id": "7hlrmNPHFvoy"
   },
   "source": [
    "Hay otras métricas interesantes, como por ejemplo el error máximo cometido en alguna de las predicciones, que nos da una medida de cómo de 'malo' es nuestro modelo en el peor de los casos:"
   ]
  },
  {
   "cell_type": "code",
   "execution_count": 5,
   "metadata": {
    "ExecuteTime": {
     "end_time": "2021-04-14T14:30:03.600913Z",
     "start_time": "2021-04-14T14:30:03.587719Z"
    },
    "id": "xwmQL6okFvoy",
    "outputId": "2f2bb200-63f1-49e8-80cd-deb3ba02be00"
   },
   "outputs": [
    {
     "data": {
      "text/plain": [
       "array([-10.87844828, -15.35836041, -15.79933142, -36.99334136,\n",
       "       -14.8295804 ])"
      ]
     },
     "execution_count": 5,
     "metadata": {},
     "output_type": "execute_result"
    }
   ],
   "source": [
    "cross_val_score(ridge, X, y, cv=5, scoring='max_error')"
   ]
  },
  {
   "cell_type": "markdown",
   "metadata": {
    "id": "mhp16EZYFvo1"
   },
   "source": [
    "O el error absoluto mediano, que es una métrica más robusta con respecto a las observaciones atípicas, también conocidas como *outliers*:"
   ]
  },
  {
   "cell_type": "code",
   "execution_count": 6,
   "metadata": {
    "ExecuteTime": {
     "end_time": "2021-04-14T14:30:03.616406Z",
     "start_time": "2021-04-14T14:30:03.602933Z"
    },
    "id": "N6SBbHOZFvo1",
    "outputId": "6de96f5b-4dfe-4764-ccd3-440d9111f51f"
   },
   "outputs": [
    {
     "data": {
      "text/plain": [
       "array([-1.72771703, -2.80656206, -3.30624995, -2.64389689, -4.93110367])"
      ]
     },
     "execution_count": 6,
     "metadata": {},
     "output_type": "execute_result"
    }
   ],
   "source": [
    "cross_val_score(ridge, X, y, cv=5, scoring='neg_median_absolute_error')"
   ]
  },
  {
   "cell_type": "markdown",
   "metadata": {},
   "source": [
    "Para conjunto de datos muy reducidos, podemos usar *leave one out*, realiza tanto entrenamientos como muestras tenga el conjunto de datos excluyendo, en cada uno de ellos, una muestra que luego será evaluada:"
   ]
  },
  {
   "cell_type": "code",
   "execution_count": 9,
   "metadata": {
    "ExecuteTime": {
     "end_time": "2021-04-14T14:30:26.445680Z",
     "start_time": "2021-04-14T14:30:25.525913Z"
    },
    "id": "yvFaGTkBFvo3"
   },
   "outputs": [
    {
     "data": {
      "text/plain": [
       "-3.3739675201395656"
      ]
     },
     "execution_count": 9,
     "metadata": {},
     "output_type": "execute_result"
    }
   ],
   "source": [
    "from sklearn.model_selection import LeaveOneOut\n",
    "import numpy as np\n",
    "\n",
    "scores = cross_val_score(ridge, X, y, cv=X.shape[0], scoring='neg_median_absolute_error')\n",
    "np.mean(scores)"
   ]
  },
  {
   "cell_type": "markdown",
   "metadata": {
    "id": "RKz3BhR2GeXX"
   },
   "source": [
    "---\n",
    "\n",
    "Creado por **Raúl Lara** (raul.lara@upm.es) y **Fernando Ortega** (fernando.ortega@upm.es)\n",
    "\n",
    "<img src=\"https://licensebuttons.net/l/by-nc-sa/3.0/88x31.png\">"
   ]
  }
 ],
 "metadata": {
  "author": "mes peso\\end{equation",
  "colab": {
   "collapsed_sections": [
    "Dwiq343MFvoI",
    "x9zXsY-oFvoP",
    "ULNfyoJZFvoY",
    "TVFstCLRFvot",
    "Yy--3R4AFvow"
   ],
   "name": "Regresion lineal.ipynb",
   "provenance": []
  },
  "kernelspec": {
   "display_name": "Python 3",
   "language": "python",
   "name": "python3"
  },
  "language_info": {
   "codemirror_mode": {
    "name": "ipython",
    "version": 3
   },
   "file_extension": ".py",
   "mimetype": "text/x-python",
   "name": "python",
   "nbconvert_exporter": "python",
   "pygments_lexer": "ipython3",
   "version": "3.8.5"
  },
  "latex_envs": {
   "LaTeX_envs_menu_present": true,
   "autoclose": true,
   "autocomplete": true,
   "bibliofile": "biblio.bib",
   "cite_by": "apalike",
   "current_citInitial": 1,
   "eqLabelWithNumbers": true,
   "eqNumInitial": 1,
   "hotkeys": {
    "equation": "Ctrl-E",
    "itemize": "Ctrl-I"
   },
   "labels_anchors": false,
   "latex_user_defs": false,
   "report_style_numbering": false,
   "user_envs_cfg": false
  },
  "toc": {
   "base_numbering": 1,
   "nav_menu": {},
   "number_sections": false,
   "sideBar": true,
   "skip_h1_title": false,
   "title_cell": "Table of Contents",
   "title_sidebar": "Contents",
   "toc_cell": false,
   "toc_position": {},
   "toc_section_display": true,
   "toc_window_display": false
  }
 },
 "nbformat": 4,
 "nbformat_minor": 1
}
