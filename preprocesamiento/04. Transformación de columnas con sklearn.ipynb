{
 "cells": [
  {
   "cell_type": "markdown",
   "metadata": {
    "id": "jnBqrAseiG4Y"
   },
   "source": [
    "# Transformación de columnas con `sklearn`\n",
    "\n",
    "Anteriormente hemos analizado cómo transformar datos continuos y datos discretos para poder ser utilizados por los algoritmos de *machine learning*. Cuando trabajamos en problema reales, normalmente encontramos conjuntos de datos (*datasets*, en inglés) que poseen características tanto discretas como continuas. En los ejemplos visto anteriormente, sólo podemos aplicar la transformación si todas las características del *dataset* son de idéntico tipo y si a todas las características del *datasets* queremos aplicarles el mismo pre-procesamiento.\n",
    "\n",
    "Para poder aplicar una transformación a cada una de las características de nuestro *dataset* debemos utilizar el objeto [compose.ColumTransformer](https://scikit-learn.org/stable/modules/generated/sklearn.compose.ColumnTransformer.html). Veamos cómo.\n"
   ]
  },
  {
   "cell_type": "markdown",
   "metadata": {
    "id": "U50y4dfa6eqm"
   },
   "source": [
    "Lo primero que debemos hacer es importar el modulo *compose* de *sklearn*:"
   ]
  },
  {
   "cell_type": "code",
   "execution_count": null,
   "metadata": {
    "id": "f3m_RlRh4LAx"
   },
   "outputs": [],
   "source": [
    "import sklearn.compose"
   ]
  },
  {
   "cell_type": "markdown",
   "metadata": {
    "id": "FCzoq4hd6pL3"
   },
   "source": [
    "Supongamos ahora que tenemos el siguiente conjunto de datos:\n",
    "\n",
    "| id | nombre | altura | peso | sexo |\n",
    "| :-: | :-: | :-: | :-: | :-: |\n",
    "| 1 | Alice | 160 | 59 | mujer |\n",
    "| 2 | Bob | 200 | 98 | hombre |\n",
    "| 3 | Carl | 175 | 63 | hombre |\n",
    "| 4 | Denna | 150 | 47 | mujer |\n",
    "\n",
    "Como observamos, tenemos columnas con datos discretos (*nombre* y *sexo*) y otras con datos continuos (*altura* y *peso*). Queremos aplicar la siguiente transformación:\n",
    "\n",
    "- Descartar la columna *id*.\n",
    "- Mantener inalterada la columna *nombre*.\n",
    "- Aplicar estandarización a la columna *altura*.\n",
    "- Re-escalar la columna *peso* a escala 0, 1.\n",
    "- Aplicar *one-hot-encoding* a la columna *sexo*.\n",
    "\n",
    "El parámetro *transformers* permite determinar el tipo de transformación aplicado a cada columna. Para ello, mediante un array de tuplas, indicaremos:\n",
    "\n",
    "- El nombre de la transformación.\n",
    "- La transformación que queremos realizar o *'drop'* si queremos descartar la columna o *'passthroug'* si no queremos alterar la columna.\n",
    "- El índice de la columna o los índices de las columnas que se ven afectadas."
   ]
  },
  {
   "cell_type": "markdown",
   "metadata": {
    "id": "xGq2BobR8nmj"
   },
   "source": [
    "Definimos, por tanto, nuestro *dataset*:"
   ]
  },
  {
   "cell_type": "code",
   "execution_count": null,
   "metadata": {
    "id": "EJU3GvTk2NUc"
   },
   "outputs": [],
   "source": [
    "import numpy as np\n",
    "\n",
    "X = np.array([[1, \"Alice\", 160, 59, 'mujer'],\n",
    "              [2, \"Bob\",   200, 98, 'hombre'],\n",
    "              [3, \"Carl\",  175, 63, 'hombre'],\n",
    "              [4, \"Denna\", 150, 47, 'mujer']]);"
   ]
  },
  {
   "cell_type": "markdown",
   "metadata": {
    "id": "-iO6XKup8tu7"
   },
   "source": [
    "Definimos la transformación:"
   ]
  },
  {
   "cell_type": "code",
   "execution_count": null,
   "metadata": {
    "id": "MyE2rW3f8vzP"
   },
   "outputs": [],
   "source": [
    "column_transformer = sklearn.compose.ColumnTransformer(transformers=[\n",
    "    (\"drop\", \"drop\", [0]),\n",
    "    (\"passthrough\", \"passthrough\", [1]),\n",
    "    (\"scale\", sklearn.preprocessing.StandardScaler(), [2]),\n",
    "    (\"min-max\", sklearn.preprocessing.MinMaxScaler(), [3]),\n",
    "    (\"one-hot\", sklearn.preprocessing.OneHotEncoder(), [4])\n",
    "]);"
   ]
  },
  {
   "cell_type": "markdown",
   "metadata": {
    "id": "T-mdEHy-8xC0"
   },
   "source": [
    "Aplicamos la transformación:"
   ]
  },
  {
   "cell_type": "code",
   "execution_count": null,
   "metadata": {
    "colab": {
     "base_uri": "https://localhost:8080/",
     "height": 86
    },
    "executionInfo": {
     "elapsed": 590,
     "status": "ok",
     "timestamp": 1600961674953,
     "user": {
      "displayName": "Fernando Ortega Requena",
      "photoUrl": "https://lh3.googleusercontent.com/a-/AOh14GgiZKcEyk_b-6E_dNg7_x20idZVEj0N7w-N6pwgBQ=s64",
      "userId": "02003917424124170753"
     },
     "user_tz": -120
    },
    "id": "PH-ZOEtN8yvS",
    "outputId": "f7195c8e-8f4a-4d83-932e-8a5ff0455feb"
   },
   "outputs": [
    {
     "name": "stdout",
     "output_type": "stream",
     "text": [
      "[['Alice' '-0.5973509804399748' '0.23529411764705876' '0.0' '1.0']\n",
      " ['Bob' '1.5265636166799355' '1.0' '1.0' '0.0']\n",
      " ['Carl' '0.1991169934799916' '0.31372549019607854' '1.0' '0.0']\n",
      " ['Denna' '-1.1283296297199523' '0.0' '0.0' '1.0']]\n"
     ]
    }
   ],
   "source": [
    "X_transform = column_transformer.fit_transform(X)\n",
    "print(X_transform)"
   ]
  },
  {
   "cell_type": "markdown",
   "metadata": {
    "id": "wHjffTKGvmaH"
   },
   "source": [
    "<hr>\n",
    "\n",
    "Creado por **Fernando Ortega** (fernando.ortega@upm.es)\n",
    "\n",
    "<img src=\"https://licensebuttons.net/l/by-nc-sa/3.0/88x31.png\">"
   ]
  }
 ],
 "metadata": {
  "colab": {
   "name": "04. Transformación de columnas con sklearn.ipynb",
   "provenance": []
  },
  "kernelspec": {
   "display_name": "Python 3",
   "language": "python",
   "name": "python3"
  },
  "language_info": {
   "codemirror_mode": {
    "name": "ipython",
    "version": 3
   },
   "file_extension": ".py",
   "mimetype": "text/x-python",
   "name": "python",
   "nbconvert_exporter": "python",
   "pygments_lexer": "ipython3",
   "version": "3.8.5"
  },
  "toc": {
   "base_numbering": 1,
   "nav_menu": {},
   "number_sections": false,
   "sideBar": true,
   "skip_h1_title": false,
   "title_cell": "Table of Contents",
   "title_sidebar": "Contents",
   "toc_cell": false,
   "toc_position": {},
   "toc_section_display": true,
   "toc_window_display": false
  }
 },
 "nbformat": 4,
 "nbformat_minor": 1
}
