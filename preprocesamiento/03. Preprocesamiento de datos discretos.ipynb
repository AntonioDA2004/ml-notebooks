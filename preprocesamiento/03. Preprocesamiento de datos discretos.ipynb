{
 "cells": [
  {
   "cell_type": "markdown",
   "metadata": {
    "id": "NpKbcDdvao7y"
   },
   "source": [
    "# Pre-procesamiento de datos discretos\n",
    "\n",
    "Entendemos por datos discretos a aquellos tipos de datos que sólo pueden tomar un valor prefijado entre un conjunto finito o infinito de valores. Algunos ejemplos de datos discretos son:\n",
    "\n",
    "- En el *método de pago de una compra online* hay que elegir entre pago contra-reembolso, pago con tarjeta, pago por trasferencia o pago con PayPal.\n",
    "- La *edad de una persona* puede tomar valores 0, 1, 2, 3... hasta infinito. Aunque el conjunto de valores no esté acotado superiormente, estos datos son discreto, ya que la edad de una persona no se mide en número decimales.\n",
    "- La *valoración de un usuario a un video de YouTube* se mide en me gusta o no me gusta.\n",
    "\n",
    "Este tipo de datos, especialmente cuando no son numéricos, suelen ser problemáticos para la gran mayoría de algoritmos de *machine learning*. Casi todos los algoritmos se fundamentan en expresiones matemáticas que requieren operar con las características de las muestras. Por lo tanto, cuando se quiere realizar el producto de un datos que representa a un \"*hombre*\"* con uno que representa a una \"*mujer*\" sencillamente es imposible, ya que existen operaciones matemáticas definidas para esos valores."
   ]
  },
  {
   "cell_type": "markdown",
   "metadata": {
    "id": "GUwU2dBvezVr"
   },
   "source": [
    "## *One-Hot-Encoding*\n",
    "\n",
    "Para solventar este problema se utiliza una técnica denominada como *One-Hot-Encoding* que consisten en dividir una característica en tantas características como posibles valores pueda tomar la característica original y asignar el valor 0 ó 1 a cada una de estas nuevas características en función del valor de la original.\n",
    "\n",
    "Veamos esto con un ejemplo. Supongamos que tenemos las siguientes muestras:\n",
    "\n",
    "| Nombre | Sexo |\n",
    "| :---: | :---: |\n",
    "| Alice | mujer |\n",
    "| Bob | hombre |\n",
    "| Carl | hombre |\n",
    "| Denna | mujer |\n",
    "\n",
    "La características *Sexo* se divide en las características *Hombre*  y *Mujer* que tomarán los siguientes valores:\n",
    "\n",
    "| Nombre | Hombre | Mujer |\n",
    "| :---: | :---: | :---: |\n",
    "| Alice | 0 | 1 |\n",
    "| Bob | 1 | 0 |\n",
    "| Carl | 1 | 0 |\n",
    "| Denna | 0 | 1 |\n",
    "\n",
    "Como vemos, las nuevas características toman el valor 1 en la columna que coincide con el valor de la característica original."
   ]
  },
  {
   "cell_type": "markdown",
   "metadata": {
    "id": "ag4WY89Qfb57"
   },
   "source": [
    "Esta codificación puede llevarse a cabo empleando el objeto [preprocessing.OneHotEncoder](https://scikit-learn.org/stable/modules/generated/sklearn.preprocessing.OneHotEncoder.html#sklearn.preprocessing.OneHotEncoder).\n",
    "\n",
    "Cargamos la característica anterior en un array de *NumPy*:"
   ]
  },
  {
   "cell_type": "code",
   "execution_count": null,
   "metadata": {
    "id": "Lg1GLq88f0xs"
   },
   "outputs": [],
   "source": [
    "import numpy as np\n",
    "\n",
    "X = np.array([['mujer' ],\n",
    "              ['hombre'],\n",
    "              ['hombre'],\n",
    "              ['mujer' ]])"
   ]
  },
  {
   "cell_type": "markdown",
   "metadata": {
    "id": "SXh0Fdk0gTTn"
   },
   "source": [
    "Y aplicamos la transformación:"
   ]
  },
  {
   "cell_type": "code",
   "execution_count": null,
   "metadata": {
    "colab": {
     "base_uri": "https://localhost:8080/",
     "height": 85
    },
    "executionInfo": {
     "elapsed": 1085,
     "status": "ok",
     "timestamp": 1600940454834,
     "user": {
      "displayName": "Fernando Ortega Requena",
      "photoUrl": "https://lh3.googleusercontent.com/a-/AOh14GgiZKcEyk_b-6E_dNg7_x20idZVEj0N7w-N6pwgBQ=s64",
      "userId": "02003917424124170753"
     },
     "user_tz": -120
    },
    "id": "CKNtmeONgVUL",
    "outputId": "ed5c1b81-c666-4288-f3af-80f9edc3d61b"
   },
   "outputs": [
    {
     "name": "stdout",
     "output_type": "stream",
     "text": [
      "[[0. 1.]\n",
      " [1. 0.]\n",
      " [1. 0.]\n",
      " [0. 1.]]\n"
     ]
    }
   ],
   "source": [
    "import sklearn\n",
    "from sklearn import preprocessing\n",
    "\n",
    "one_hot_encoder = sklearn.preprocessing.OneHotEncoder()\n",
    "one_hot_encoder.fit(X)\n",
    "X_transform = one_hot_encoder.transform(X).toarray()\n",
    "print(X_transform)"
   ]
  },
  {
   "cell_type": "markdown",
   "metadata": {
    "id": "zdkvxIJivjC0"
   },
   "source": [
    "<hr>\n",
    "\n",
    "Creado por **Fernando Ortega** (fernando.ortega@upm.es)\n",
    "\n",
    "<img src=\"https://licensebuttons.net/l/by-nc-sa/3.0/88x31.png\">"
   ]
  }
 ],
 "metadata": {
  "colab": {
   "name": "03. Preprocesamiento de datos discretos.ipynb",
   "provenance": []
  },
  "kernelspec": {
   "display_name": "Python 3",
   "language": "python",
   "name": "python3"
  },
  "language_info": {
   "codemirror_mode": {
    "name": "ipython",
    "version": 3
   },
   "file_extension": ".py",
   "mimetype": "text/x-python",
   "name": "python",
   "nbconvert_exporter": "python",
   "pygments_lexer": "ipython3",
   "version": "3.8.5"
  },
  "toc": {
   "base_numbering": 1,
   "nav_menu": {},
   "number_sections": false,
   "sideBar": true,
   "skip_h1_title": false,
   "title_cell": "Table of Contents",
   "title_sidebar": "Contents",
   "toc_cell": false,
   "toc_position": {},
   "toc_section_display": true,
   "toc_window_display": false
  }
 },
 "nbformat": 4,
 "nbformat_minor": 1
}
