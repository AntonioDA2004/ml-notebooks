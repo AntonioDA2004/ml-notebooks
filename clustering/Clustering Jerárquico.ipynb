{
 "cells": [
  {
   "cell_type": "markdown",
   "metadata": {
    "colab_type": "text",
    "id": "RpINl4Yv5lkQ"
   },
   "source": [
    "# Clustering Jerárquico\n",
    "\n",
    "Dentro de las técnicas de aprendizaje no supervisado nos encontramos con el **Clustering Jerárquico**. Esta técnica toma su nombre del modo de proceder a la hora de agrupar los puntos de datos de entrada, pues construye una jerarquía de clusters de varios niveles.\n",
    "\n",
    "Dicha jerarquía se puede construir según dos enfoques opuestos:\n",
    "\n",
    "- **Aglomerativa** (bottom-up)\n",
    "- **Divisiva** (top-down)\n"
   ]
  },
  {
   "cell_type": "markdown",
   "metadata": {
    "colab_type": "text",
    "id": "TTXOaq_gQ4gs"
   },
   "source": [
    "## Aglomerativo (bottom-up)\n",
    "\n",
    "Los puntos de datos se agrupan utilizando un enfoque de abajo hacia arriba que comienza con puntos de datos individuales y se van agrupando en clusters más grandes a medida que avanza el proceso.\n",
    "\n",
    "El algoritmo a seguir para realizar el clustering jerárquico aglomerativo se resume en los siguientes pasos:\n",
    "\n",
    "1. Cada punto de datos de entrada pertenece a su propio cluster.\n",
    "2. Se agrupan los dos puntos de datos más cercanos en un mismo cluster.\n",
    "3. Se van construyendo más clusters al unir los dos cluster más cercanos.\n",
    "4. Se repite el paso anterior hasta que solo queda un único cluster al cual pertenecen todos los puntos de entrada."
   ]
  },
  {
   "cell_type": "markdown",
   "metadata": {},
   "source": [
    "![](https://miro.medium.com/max/1440/1*oF00T9hCGpr6N-1zm2M1nw.gif)"
   ]
  },
  {
   "cell_type": "markdown",
   "metadata": {
    "colab_type": "text",
    "id": "TTXOaq_gQ4gs"
   },
   "source": [
    "### Medidas de similaridad y distancia entre clusters\n",
    "\n",
    "Observando el algoritmo anterior se aprecia que es necesario utilizar una medida de similaridad entre puntos para determinar cómo de cerca se encuentran. Pero no solo eso, además necesitamos una manera de medir la distancia entre clusters que pueden estar formados por más de un punto. Esta medida se conoce como el **criterio de vinculación** (_linkage criteria_), y en el caso de _sklearn_ puede realizarse de la siguiente manera:\n",
    "\n",
    "- **Ward**: minimiza la suma de las diferencias al cuadrado dentro de todos los clusters. Se trata de un enfoque de minimización de la varianza y, en este sentido, es similar a la función objetivo de `k-means`, pero abordada con un enfoque jerárquico aglomerativo.\n",
    "- **Vinculación máxima** o **completa**: minimiza la distancia máxima entre las observaciones de cada par de clusters.\n",
    "- **Vinculación media**: minimiza la media de las distancias entre las observaciones de cada par de clusters.\n",
    "- **Vinculación única**: minimiza la distancia más corta entre las observaciones de cada par de clusters.\n",
    "\n",
    "En las vinculaciones únicas, medias y máximas es posible configurar la métrica de similaridad que se usa para calcular las distancias:\n",
    "\n",
    "- Distancia euclídea (L2)\n",
    "- Distancia Manhattan (L1), \n",
    "- Distancia coseno\n",
    "- Cualquier matriz de afinidad precalculada.\n",
    "\n",
    "La distancia L1 suele funcionar bien para conjuntos de datos dispersos, donde muchas variables tienen valores nulos para muchas observaciones. Por otro lado,\n",
    "la distancia del coseno es interesante porque es independiente de las escalas."
   ]
  },
  {
   "cell_type": "markdown",
   "metadata": {
    "colab_type": "text",
    "id": "TTXOaq_gQ4gs"
   },
   "source": [
    "### Dendogramas\n",
    "\n",
    "Estos agrupamientos secuenciales y por niveles forman lo que se conoce como un [Dendograma](https://en.wikipedia.org/wiki/Dendrogram), que es una estructura arbórea.\n",
    "\n",
    "Para entender cómo funciona el clustering jerárquico aglomerativo y cómo se construye el dendograma, comenzamos con un conjunto de datos de entrada de dos variables:"
   ]
  },
  {
   "cell_type": "code",
   "execution_count": null,
   "metadata": {
    "ExecuteTime": {
     "end_time": "2021-11-02T11:18:30.097123Z",
     "start_time": "2021-11-02T11:18:30.092953Z"
    },
    "colab": {},
    "colab_type": "code",
    "id": "u51qrAnS5d89"
   },
   "outputs": [],
   "source": [
    "# Ejemplo obtenido de: https://www.instintoprogramador.com.mx/2019/07/clustering-jerarquico-con-python-y.html\n",
    "import numpy as np\n",
    "\n",
    "X = np.array([[5,3],  \n",
    "    [10,15],\n",
    "    [15,12],\n",
    "    [24,10],\n",
    "    [30,30],\n",
    "    [85,70],\n",
    "    [71,80],\n",
    "    [60,78],\n",
    "    [70,55],\n",
    "    [80,91],])"
   ]
  },
  {
   "cell_type": "markdown",
   "metadata": {
    "colab_type": "text",
    "id": "zb6Jn4D6XCzP"
   },
   "source": [
    "Vamos a representar gráficamente los puntos de entrada, indexándolos según la posición que ocupan en la matriz `X`:"
   ]
  },
  {
   "cell_type": "code",
   "execution_count": null,
   "metadata": {
    "ExecuteTime": {
     "end_time": "2021-11-02T11:18:30.693933Z",
     "start_time": "2021-11-02T11:18:30.099135Z"
    },
    "colab": {},
    "colab_type": "code",
    "id": "prF869KQXBzn"
   },
   "outputs": [],
   "source": [
    "import matplotlib.pyplot as plt\n",
    "\n",
    "labels = range(1, 11)  \n",
    "plt.figure(figsize=(10, 7))  \n",
    "plt.subplots_adjust(bottom=0.1)  \n",
    "plt.scatter(X[:,0],X[:,1], label='True Position')\n",
    "\n",
    "for label, x, y in zip(labels, X[:, 0], X[:, 1]):  \n",
    "    plt.annotate(\n",
    "        label,\n",
    "        xy=(x, y), xytext=(-3, 3),\n",
    "        textcoords='offset points', ha='right', va='bottom')\n",
    "plt.show()"
   ]
  },
  {
   "cell_type": "markdown",
   "metadata": {
    "colab_type": "text",
    "id": "yH6kiMfgXUF9"
   },
   "source": [
    "Para representar gráficamente los dendogramas, podemos usar la librería [scipy](https://www.scipy.org/):"
   ]
  },
  {
   "cell_type": "code",
   "execution_count": null,
   "metadata": {
    "ExecuteTime": {
     "end_time": "2021-11-02T11:18:30.967578Z",
     "start_time": "2021-11-02T11:18:30.701063Z"
    },
    "colab": {},
    "colab_type": "code",
    "id": "qBrCLR_sXPN0"
   },
   "outputs": [],
   "source": [
    "from scipy.cluster.hierarchy import dendrogram, linkage  \n",
    "from matplotlib import pyplot as plt\n",
    "\n",
    "linked = linkage(X, 'single')\n",
    "\n",
    "labelList = range(1, 11)\n",
    "\n",
    "plt.figure(figsize=(10, 7))  \n",
    "dendrogram(linked,  \n",
    "            orientation='top',\n",
    "            labels=labelList,\n",
    "            distance_sort='descending',\n",
    "            show_leaf_counts=True)\n",
    "plt.show()"
   ]
  },
  {
   "cell_type": "markdown",
   "metadata": {
    "colab_type": "text",
    "id": "IOt1lHnXX9KD"
   },
   "source": [
    "## Divisivo (top-down)\n",
    "\n",
    "Este enfoque, complementario al agregativo, comienza con todos los puntos de entrada agrupados en el mismo cluster. Iterativamente va particionando un cluster que se elige según una estrategia.\n",
    "\n",
    "En otras palabras, el algoritmo sería el siguiente:\n",
    "\n",
    "1. Se agrupan todos los puntos de entrada en el mismo cluster.\n",
    "2. Se decide cuál es el cluster que se va a particionar según la estrategia elegida.\n",
    "3. Se divide ese cluster usando otro algoritmo de clustering (por ejemplo *k-means*).\n",
    "4. Se repiten los pasos 2-3 hasta que cada punto de entrada pertenezca a su propio cluster o hasta que se alcancen el número de clusters deseados.\n",
    "\n",
    "Para elegir qué cluster se va a particionar, se suelen utilizar los siguientes enfoques:\n",
    "\n",
    "- Se particionan todos los clusters que haya.\n",
    "- Se particiona el cluster que esté formado por más elementos\n",
    "- Se elige el cluster que tenga la mayor varianza con respecto a su centroide\n",
    "\n",
    "### Divisivo vs Aglomerativo:\n",
    "\n",
    "- El **clustering divisivo** es más complejo que el **aglomerativo**, pues hay que lanzar un algoritmo adicional de clustering cada vez que se quiere particionar un cluster existente.\n",
    "- Sin embargo, el **divisivo** puede ser más eficiente si no se llegan a particionar todos los clusteres hasta que cada punto de entrada forme uno.\n",
    "- El **clustering divisivo** también es más _preciso_ que el **aglomerativo**, pues éste último toma decisiones de agrupación basada en la información local de los puntos (se van agrupando puntos cercanos) sin tener en cuenta la distribución global de los puntos de entrada, cosa que sí hace el **clustering divisivo**.\n"
   ]
  },
  {
   "cell_type": "markdown",
   "metadata": {},
   "source": [
    "## Ejemplo de funcionamiento\n",
    "\n",
    "En `sklearn` únicamente se encuentra implementado el enfoque aglomerativo a través de la clase [`AgglomerativeClustering`](https://scikit-learn.org/stable/modules/generated/sklearn.cluster.AgglomerativeClustering.html).\n",
    "\n",
    "Veamos su funcionamiento sobre diferentes conjuntos de datos al variar los parámetros `n_clusters` y `linkage`.\n",
    "\n",
    "Definimos la función para pintar los resultados:"
   ]
  },
  {
   "cell_type": "code",
   "execution_count": null,
   "metadata": {
    "ExecuteTime": {
     "end_time": "2021-11-02T11:18:31.756593Z",
     "start_time": "2021-11-02T11:18:30.969176Z"
    }
   },
   "outputs": [],
   "source": [
    "import matplotlib.pyplot as plt\n",
    "import numpy as np\n",
    "from sklearn.cluster import AgglomerativeClustering\n",
    "\n",
    "def plot_agglomerative(X, n_clusters, linkage):\n",
    "\n",
    "  min = np.amin(X, axis=0)\n",
    "  max = np.amax(X, axis=0)\n",
    "\n",
    "  diff = max - min\n",
    "\n",
    "  min = min - 0.1 * diff\n",
    "  max = max + 0.1 * diff\n",
    "\n",
    "  fig, axs = plt.subplots(len(linkage), len(n_clusters), figsize=(5*len(n_clusters), 5*len(linkage)))\n",
    "  fig.tight_layout(pad=4.0)\n",
    "\n",
    "  for i in range(len(linkage)):\n",
    "    for j in range(len(n_clusters)):\n",
    "\n",
    "      ac = AgglomerativeClustering(n_clusters=n_clusters[j], linkage=linkage[i]).fit(X)\n",
    "\n",
    "      axs[i,j].set_title('n_clusters=' + format(n_clusters[j]) + ', linkage=\\'' + linkage[i] + '\\'')\n",
    "\n",
    "      axs[i,j].set_xlabel('X1')\n",
    "      axs[i,j].set_ylabel('X2')\n",
    "\n",
    "      axs[i,j].set_xlim(min[0], max[0])\n",
    "      axs[i,j].set_ylim(min[1], max[1])\n",
    "\n",
    "      axs[i,j].scatter(X[:,0], X[:,1], c=ac.labels_, cmap='rainbow')"
   ]
  },
  {
   "cell_type": "markdown",
   "metadata": {},
   "source": [
    "Comprobamos el funcionamiento cuando se dispone de 3 *blobs* de diferente varianza:"
   ]
  },
  {
   "cell_type": "code",
   "execution_count": null,
   "metadata": {
    "ExecuteTime": {
     "end_time": "2021-11-02T11:18:33.823623Z",
     "start_time": "2021-11-02T11:18:31.762239Z"
    }
   },
   "outputs": [],
   "source": [
    "from sklearn.datasets import make_blobs\n",
    "\n",
    "X, y = make_blobs(n_samples=500, cluster_std=[1.0, 2.0, 0.5], random_state=42)\n",
    "\n",
    "plot_agglomerative(X=X, n_clusters=[2, 3, 4], linkage=['ward', 'average', 'complete', 'single'])"
   ]
  },
  {
   "cell_type": "markdown",
   "metadata": {},
   "source": [
    "Funcionamiento con las lunas:"
   ]
  },
  {
   "cell_type": "code",
   "execution_count": null,
   "metadata": {
    "ExecuteTime": {
     "end_time": "2021-11-02T11:18:35.101660Z",
     "start_time": "2021-11-02T11:18:33.825300Z"
    }
   },
   "outputs": [],
   "source": [
    "from sklearn.datasets import make_moons\n",
    "\n",
    "X, y = make_moons(n_samples=500, noise=0.1, random_state=42)\n",
    "\n",
    "plot_agglomerative(X=X, n_clusters=[2, 3], linkage=['ward', 'average', 'complete', 'single'])"
   ]
  },
  {
   "cell_type": "markdown",
   "metadata": {},
   "source": [
    "Funcionamiento con 3 *blobs* de igual varianza:"
   ]
  },
  {
   "cell_type": "code",
   "execution_count": null,
   "metadata": {
    "ExecuteTime": {
     "end_time": "2021-11-02T11:18:37.009884Z",
     "start_time": "2021-11-02T11:18:35.104423Z"
    }
   },
   "outputs": [],
   "source": [
    "from sklearn.datasets import make_blobs\n",
    "\n",
    "X, y = make_blobs(n_samples=500, cluster_std=2.0, random_state=42)\n",
    "\n",
    "plot_agglomerative(X=X, n_clusters=[2, 3, 4], linkage=['ward', 'average', 'complete', 'single'])"
   ]
  },
  {
   "cell_type": "markdown",
   "metadata": {},
   "source": [
    "Funcionamiento con características de desigual varianza:"
   ]
  },
  {
   "cell_type": "code",
   "execution_count": null,
   "metadata": {
    "ExecuteTime": {
     "end_time": "2021-11-02T11:18:39.176441Z",
     "start_time": "2021-11-02T11:18:37.011851Z"
    }
   },
   "outputs": [],
   "source": [
    "from sklearn.datasets import make_blobs\n",
    "\n",
    "X, y = make_blobs(n_samples=500, cluster_std=2.0, random_state=42)\n",
    "\n",
    "transformation = [[0.6, -0.6], [-0.4, 1.0]]\n",
    "X = np.dot(X, transformation)\n",
    "\n",
    "plot_agglomerative(X=X, n_clusters=[2, 3, 4], linkage=['ward', 'average', 'complete', 'single'])"
   ]
  },
  {
   "cell_type": "markdown",
   "metadata": {
    "ExecuteTime": {
     "end_time": "2021-11-02T11:18:39.188310Z",
     "start_time": "2021-11-02T11:18:39.179787Z"
    }
   },
   "source": [
    "Funcionamiento con datos uniformes:"
   ]
  },
  {
   "cell_type": "code",
   "execution_count": null,
   "metadata": {
    "ExecuteTime": {
     "end_time": "2021-11-02T11:18:58.261780Z",
     "start_time": "2021-11-02T11:18:55.888157Z"
    }
   },
   "outputs": [],
   "source": [
    "X = np.random.rand(500, 2)\n",
    "\n",
    "plot_agglomerative(X=X, n_clusters=[2, 3, 4], linkage=['ward', 'average', 'complete', 'single'])"
   ]
  },
  {
   "cell_type": "markdown",
   "metadata": {
    "colab_type": "text",
    "id": "zQZAToQQjgic"
   },
   "source": [
    "## Caso de estudio: intención de compra\n",
    "Vamos a cargar un dataset del repositorio [UCI](https://archive.ics.uci.edu/ml/datasets/Online+Shoppers+Purchasing+Intention+Dataset). Es un conjunto de datos de características sobre las sesiones online de compradores en una tienda virtual.\n",
    "\n",
    "Según la propia descripción del conjunto de datos:\n",
    "\n",
    "\n",
    "\n",
    "> The dataset consists of 10 numerical and 8 categorical attributes.\n",
    "The 'Revenue' attribute can be used as the class label.\n",
    ">\n",
    "> \"Administrative\", \"Administrative Duration\", \"Informational\", \"Informational Duration\", \"Product Related\" and \"Product Related Duration\" represent the number of different types of pages visited by the visitor in that session and total time spent in each of these page categories. The values of these features are derived from the URL information of the pages visited by the user and updated in real time when a user takes an action, e.g. moving from one page to another.\n",
    ">\n",
    "> The \"Bounce Rate\", \"Exit Rate\" and \"Page Value\" features represent the metrics measured by \"Google Analytics\" for each page in the e-commerce site. The value of \"Bounce Rate\" feature for a web page refers to the percentage of visitors who enter the site from that page and then leave (\"bounce\") without triggering any other requests to the analytics server during that session. The value of \"Exit Rate\" feature for a specific web page is calculated as for all pageviews to the page, the percentage that were the last in the session. The \"Page Value\" feature represents the average value for a web page that a user visited before completing an e-commerce transaction. The \"Special Day\" feature indicates the closeness of the site visiting time to a specific special day (e.g. Mother’s Day, Valentine's Day) in which the sessions are more likely to be finalized with transaction. The value of this attribute is determined by considering the dynamics of e-commerce such as the duration between the order date and delivery date.\n",
    ">\n",
    ">The dataset also includes operating system, browser, region, traffic type, visitor type as returning or new visitor, a Boolean value indicating whether the date of the visit is weekend, and month of the year.\n",
    "\n",
    "Por tanto, tenemos 7 variables categóricas que habrá que transformar.\n"
   ]
  },
  {
   "cell_type": "code",
   "execution_count": null,
   "metadata": {
    "ExecuteTime": {
     "end_time": "2021-11-02T11:18:39.195449Z",
     "start_time": "2021-11-02T11:18:30.078Z"
    },
    "colab": {},
    "colab_type": "code",
    "id": "1tQhlsUQXzFr"
   },
   "outputs": [],
   "source": [
    "import pandas as pd\n",
    "\n",
    "raw = pd.read_csv('https://archive.ics.uci.edu/ml/machine-learning-databases/00468/online_shoppers_intention.csv')\n",
    "target = raw['Revenue']\n",
    "raw.drop('Revenue', axis=1, inplace=True)\n",
    "raw.head(5)"
   ]
  },
  {
   "cell_type": "code",
   "execution_count": null,
   "metadata": {
    "ExecuteTime": {
     "end_time": "2021-11-02T11:18:39.196376Z",
     "start_time": "2021-11-02T11:18:30.079Z"
    },
    "colab": {},
    "colab_type": "code",
    "id": "Ee1LZz3Kj6c0"
   },
   "outputs": [],
   "source": [
    "from sklearn.compose import ColumnTransformer\n",
    "from sklearn.preprocessing import MinMaxScaler, OneHotEncoder\n",
    "\n",
    "nominal_features = ['Month', 'OperatingSystems', 'Browser', 'Region', 'TrafficType', 'VisitorType', 'Weekend']\n",
    "numeric_features = list(set(raw.columns) - set(nominal_features))\n",
    "preprocessor = ColumnTransformer(\n",
    "    transformers=[\n",
    "        ('num', MinMaxScaler(copy=False), numeric_features),\n",
    "        ('cat', OneHotEncoder(categories='auto'), nominal_features)])\n",
    "\n",
    "datos = preprocessor.fit_transform(raw)"
   ]
  },
  {
   "cell_type": "code",
   "execution_count": null,
   "metadata": {
    "ExecuteTime": {
     "end_time": "2021-11-02T11:18:39.197668Z",
     "start_time": "2021-11-02T11:18:30.081Z"
    },
    "colab": {},
    "colab_type": "code",
    "id": "wNjp5FhKpm09"
   },
   "outputs": [],
   "source": [
    "datos.shape"
   ]
  },
  {
   "cell_type": "code",
   "execution_count": null,
   "metadata": {
    "ExecuteTime": {
     "end_time": "2021-11-02T11:18:39.198667Z",
     "start_time": "2021-11-02T11:18:30.083Z"
    },
    "colab": {},
    "colab_type": "code",
    "id": "BYR6bplFpuoT"
   },
   "outputs": [],
   "source": [
    "from sklearn.decomposition import TruncatedSVD \n",
    "tsvd = TruncatedSVD(n_components=2) \n",
    "X_principal = tsvd.fit_transform(datos) \n",
    "X_principal = pd.DataFrame(X_principal) \n",
    "X_principal.columns = ['P1', 'P2']\n",
    "X_principal.plot.scatter(x='P1', y='P2')"
   ]
  },
  {
   "cell_type": "markdown",
   "metadata": {
    "colab_type": "text",
    "id": "vhYDeJT1q7Xv"
   },
   "source": [
    "Y ahora aplicamos **clustering jerárquico aglomerativo** para intentar extraer conocimiento del problema:"
   ]
  },
  {
   "cell_type": "code",
   "execution_count": null,
   "metadata": {
    "ExecuteTime": {
     "end_time": "2021-11-02T11:18:39.199645Z",
     "start_time": "2021-11-02T11:18:30.085Z"
    },
    "colab": {},
    "colab_type": "code",
    "id": "6vWnG5A8p4ck"
   },
   "outputs": [],
   "source": [
    "from sklearn.cluster import AgglomerativeClustering\n",
    "\n",
    "modelo = AgglomerativeClustering(n_clusters=2, affinity='cosine', linkage='single')"
   ]
  },
  {
   "cell_type": "code",
   "execution_count": null,
   "metadata": {
    "ExecuteTime": {
     "end_time": "2021-11-02T11:18:39.200590Z",
     "start_time": "2021-11-02T11:18:30.086Z"
    },
    "colab": {},
    "colab_type": "code",
    "id": "uyfd7Anhr3be"
   },
   "outputs": [],
   "source": [
    "from sklearn.metrics import silhouette_score, adjusted_rand_score\n",
    "\n",
    "labels = modelo.fit_predict(datos.toarray())\n",
    "\n",
    "print('Silhouette: ', silhouette_score(datos, labels))\n",
    "print('Rand Index (con ground truth): ', adjusted_rand_score(target, labels))"
   ]
  },
  {
   "cell_type": "code",
   "execution_count": null,
   "metadata": {
    "ExecuteTime": {
     "end_time": "2021-11-02T11:18:39.201505Z",
     "start_time": "2021-11-02T11:18:30.088Z"
    }
   },
   "outputs": [],
   "source": [
    "from sklearn.metrics import calinski_harabasz_score, davies_bouldin_score\n",
    "\n",
    "print('Calinski-Harabasz: ', calinski_harabasz_score(datos.toarray(), labels))\n",
    "print('Davies-Bouldin: ', davies_bouldin_score(datos.toarray(), labels))"
   ]
  }
 ],
 "metadata": {
  "colab": {
   "collapsed_sections": [],
   "name": "Clustering Jerárquico y DBSCAN.ipynb",
   "private_outputs": true,
   "provenance": []
  },
  "kernelspec": {
   "display_name": "Python 3",
   "language": "python",
   "name": "python3"
  },
  "language_info": {
   "codemirror_mode": {
    "name": "ipython",
    "version": 3
   },
   "file_extension": ".py",
   "mimetype": "text/x-python",
   "name": "python",
   "nbconvert_exporter": "python",
   "pygments_lexer": "ipython3",
   "version": "3.8.5"
  },
  "latex_envs": {
   "LaTeX_envs_menu_present": true,
   "autoclose": true,
   "autocomplete": true,
   "bibliofile": "biblio.bib",
   "cite_by": "apalike",
   "current_citInitial": 1,
   "eqLabelWithNumbers": false,
   "eqNumInitial": 1,
   "hotkeys": {
    "equation": "Ctrl-E",
    "itemize": "Ctrl-I"
   },
   "labels_anchors": false,
   "latex_user_defs": false,
   "report_style_numbering": false,
   "user_envs_cfg": false
  },
  "toc": {
   "base_numbering": 1,
   "nav_menu": {},
   "number_sections": false,
   "sideBar": true,
   "skip_h1_title": true,
   "title_cell": "Table of Contents",
   "title_sidebar": "Índice",
   "toc_cell": false,
   "toc_position": {
    "height": "calc(100% - 180px)",
    "left": "10px",
    "top": "150px",
    "width": "231.6px"
   },
   "toc_section_display": true,
   "toc_window_display": true
  }
 },
 "nbformat": 4,
 "nbformat_minor": 1
}
