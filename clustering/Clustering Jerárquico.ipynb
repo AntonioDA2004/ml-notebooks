{
 "cells": [
  {
   "cell_type": "markdown",
   "metadata": {
    "colab_type": "text",
    "id": "RpINl4Yv5lkQ"
   },
   "source": [
    "# Clustering Jerárquico\n",
    "\n",
    "Dentro de las técnicas de aprendizaje no supervisado nos encontramos con el **Clustering Jerárquico**. Esta técnica toma su nombre del modo de proceder a la hora de agrupar los puntos de datos de entrada, pues construye una jerarquía de clusters de varios niveles.\n",
    "\n",
    "Dicha jerarquía se puede construir según dos enfoques opuestos:\n",
    "\n",
    "- **Aglomerativa** (bottom-up)\n",
    "- **Divisiva** (top-down)\n"
   ]
  },
  {
   "cell_type": "markdown",
   "metadata": {
    "colab_type": "text",
    "id": "TTXOaq_gQ4gs"
   },
   "source": [
    "## Aglomerativo (bottom-up)\n",
    "\n",
    "Los puntos de datos se agrupan utilizando un enfoque de abajo hacia arriba que comienza con puntos de datos individuales y se van agrupando en clusters más grandes a medida que avanza el proceso.\n",
    "\n",
    "El algoritmo a seguir para realizar el clustering jerárquico aglomerativo se resume en los siguientes pasos:\n",
    "\n",
    "1. Cada punto de datos de entrada pertenece a su propio cluster.\n",
    "2. Se agrupan los dos puntos de datos más cercanos en un mismo cluster.\n",
    "3. Se van construyendo más clusters al unir los dos cluster más cercanos.\n",
    "4. Se repite el paso anterior hasta que solo queda un único cluster al cual pertenecen todos los puntos de entrada."
   ]
  },
  {
   "cell_type": "markdown",
   "metadata": {},
   "source": [
    "![](https://miro.medium.com/max/1440/1*oF00T9hCGpr6N-1zm2M1nw.gif)"
   ]
  },
  {
   "cell_type": "markdown",
   "metadata": {
    "colab_type": "text",
    "id": "TTXOaq_gQ4gs"
   },
   "source": [
    "### Medidas de similaridad y distancia entre clusters\n",
    "\n",
    "Observando el algoritmo anterior se aprecia que es necesario utilizar una medida de similaridad entre puntos para determinar cómo de cerca se encuentran. Pero no solo eso, además necesitamos una manera de medir la distancia entre clusters que pueden estar formados por más de un punto. Esta medida se conoce como el **criterio de vinculación** (_linkage criteria_), y en el caso de _sklearn_ puede realizarse de la siguiente manera:\n",
    "\n",
    "- **Ward**: minimiza la suma de las diferencias al cuadrado dentro de todos los clusters. Se trata de un enfoque de minimización de la varianza y, en este sentido, es similar a la función objetivo de `k-means`, pero abordada con un enfoque jerárquico aglomerativo.\n",
    "- **Vinculación máxima** o **completa**: minimiza la distancia máxima entre las observaciones de cada par de clusters.\n",
    "- **Vinculación media**: minimiza la media de las distancias entre las observaciones de cada par de clusters.\n",
    "- **Vinculación única**: minimiza la distancia más corta entre las observaciones de cada par de clusters.\n",
    "\n",
    "En las vinculaciones únicas, medias y máximas es posible configurar la métrica de similaridad que se usa para calcular las distancias:\n",
    "\n",
    "- Distancia euclídea (L2)\n",
    "- Distancia Manhattan (L1), \n",
    "- Distancia coseno\n",
    "- Cualquier matriz de afinidad precalculada.\n",
    "\n",
    "La distancia L1 suele funcionar bien para conjuntos de datos dispersos, donde muchas variables tienen valores nulos para muchas observaciones. Por otro lado,\n",
    "la distancia del coseno es interesante porque es independiente de las escalas."
   ]
  },
  {
   "cell_type": "markdown",
   "metadata": {
    "colab_type": "text",
    "id": "TTXOaq_gQ4gs"
   },
   "source": [
    "### Dendogramas\n",
    "\n",
    "Estos agrupamientos secuenciales y por niveles forman lo que se conoce como un [Dendograma](https://en.wikipedia.org/wiki/Dendrogram), que es una estructura arbórea.\n",
    "\n",
    "Para entender cómo funciona el clustering jerárquico aglomerativo y cómo se construye el dendograma, comenzamos con un conjunto de datos de entrada de dos variables:"
   ]
  },
  {
   "cell_type": "code",
   "execution_count": 2,
   "metadata": {
    "ExecuteTime": {
     "end_time": "2020-05-19T16:23:30.750412Z",
     "start_time": "2020-05-19T16:23:30.747017Z"
    },
    "colab": {},
    "colab_type": "code",
    "id": "u51qrAnS5d89"
   },
   "outputs": [],
   "source": [
    "# Ejemplo obtenido de: https://www.instintoprogramador.com.mx/2019/07/clustering-jerarquico-con-python-y.html\n",
    "import numpy as np\n",
    "\n",
    "X = np.array([[5,3],  \n",
    "    [10,15],\n",
    "    [15,12],\n",
    "    [24,10],\n",
    "    [30,30],\n",
    "    [85,70],\n",
    "    [71,80],\n",
    "    [60,78],\n",
    "    [70,55],\n",
    "    [80,91],])"
   ]
  },
  {
   "cell_type": "markdown",
   "metadata": {
    "colab_type": "text",
    "id": "zb6Jn4D6XCzP"
   },
   "source": [
    "Vamos a representar gráficamente los puntos de entrada, indexándolos según la posición que ocupan en la matriz `X`:"
   ]
  },
  {
   "cell_type": "code",
   "execution_count": 3,
   "metadata": {
    "ExecuteTime": {
     "end_time": "2020-05-19T16:23:40.043554Z",
     "start_time": "2020-05-19T16:23:39.865399Z"
    },
    "colab": {},
    "colab_type": "code",
    "id": "prF869KQXBzn"
   },
   "outputs": [
    {
     "data": {
      "image/png": "[encoded data removed]",
      "text/plain": [
       "<Figure size 720x504 with 1 Axes>"
      ]
     },
     "metadata": {
      "needs_background": "light"
     },
     "output_type": "display_data"
    }
   ],
   "source": [
    "import matplotlib.pyplot as plt\n",
    "\n",
    "labels = range(1, 11)  \n",
    "plt.figure(figsize=(10, 7))  \n",
    "plt.subplots_adjust(bottom=0.1)  \n",
    "plt.scatter(X[:,0],X[:,1], label='True Position')\n",
    "\n",
    "for label, x, y in zip(labels, X[:, 0], X[:, 1]):  \n",
    "    plt.annotate(\n",
    "        label,\n",
    "        xy=(x, y), xytext=(-3, 3),\n",
    "        textcoords='offset points', ha='right', va='bottom')\n",
    "plt.show()"
   ]
  },
  {
   "cell_type": "markdown",
   "metadata": {
    "colab_type": "text",
    "id": "yH6kiMfgXUF9"
   },
   "source": [
    "Para representar gráficamente los dendogramas, podemos usar la librería [scipy](https://www.scipy.org/):"
   ]
  },
  {
   "cell_type": "code",
   "execution_count": 4,
   "metadata": {
    "ExecuteTime": {
     "end_time": "2020-05-19T16:23:44.407237Z",
     "start_time": "2020-05-19T16:23:44.194857Z"
    },
    "colab": {},
    "colab_type": "code",
    "id": "qBrCLR_sXPN0"
   },
   "outputs": [
    {
     "data": {
      "image/png": "[encoded data removed]",
      "text/plain": [
       "<Figure size 720x504 with 1 Axes>"
      ]
     },
     "metadata": {
      "needs_background": "light"
     },
     "output_type": "display_data"
    }
   ],
   "source": [
    "from scipy.cluster.hierarchy import dendrogram, linkage  \n",
    "from matplotlib import pyplot as plt\n",
    "\n",
    "linked = linkage(X, 'single')\n",
    "\n",
    "labelList = range(1, 11)\n",
    "\n",
    "plt.figure(figsize=(10, 7))  \n",
    "dendrogram(linked,  \n",
    "            orientation='top',\n",
    "            labels=labelList,\n",
    "            distance_sort='descending',\n",
    "            show_leaf_counts=True)\n",
    "plt.show()"
   ]
  },
  {
   "cell_type": "markdown",
   "metadata": {
    "colab_type": "text",
    "id": "IOt1lHnXX9KD"
   },
   "source": [
    "## Divisivo (top-down)\n",
    "\n",
    "Este enfoque, complementario al agregativo, comienza con todos los puntos de entrada agrupados en el mismo cluster. Iterativamente va particionando un cluster que se elige según una estrategia.\n",
    "\n",
    "En otras palabras, el algoritmo sería el siguiente:\n",
    "\n",
    "1. Se agrupan todos los puntos de entrada en el mismo cluster.\n",
    "2. Se decide cuál es el cluster que se va a particionar según la estrategia elegida.\n",
    "3. Se divide ese cluster usando otro algoritmo de clustering (por ejemplo *k-means*).\n",
    "4. Se repiten los pasos 2-3 hasta que cada punto de entrada pertenezca a su propio cluster o hasta que se alcancen el número de clusters deseados.\n",
    "\n",
    "Para elegir qué cluster se va a particionar, se suelen utilizar los siguientes enfoques:\n",
    "\n",
    "- Se particionan todos los clusters que haya.\n",
    "- Se particiona el cluster que esté formado por más elementos\n",
    "- Se elige el cluster que tenga la mayor varianza con respecto a su centroide\n",
    "\n",
    "### Divisivo vs Aglomerativo:\n",
    "\n",
    "- El **clustering divisivo** es más complejo que el **aglomerativo**, pues hay que lanzar un algoritmo adicional de clustering cada vez que se quiere particionar un cluster existente.\n",
    "- Sin embargo, el **divisivo** puede ser más eficiente si no se llegan a particionar todos los clusteres hasta que cada punto de entrada forme uno.\n",
    "- El **clustering divisivo** también es más _preciso_ que el **aglomerativo**, pues éste último toma decisiones de agrupación basada en la información local de los puntos (se van agrupando puntos cercanos) sin tener en cuenta la distribución global de los puntos de entrada, cosa que sí hace el **clustering divisivo**.\n"
   ]
  },
  {
   "cell_type": "markdown",
   "metadata": {
    "colab_type": "text",
    "id": "zQZAToQQjgic"
   },
   "source": [
    "## Caso de estudio: intención de compra\n",
    "Vamos a cargar un dataset del repositorio [UCI](https://archive.ics.uci.edu/ml/datasets/Online+Shoppers+Purchasing+Intention+Dataset). Es un conjunto de datos de características sobre las sesiones online de compradores en una tienda virtual.\n",
    "\n",
    "Según la propia descripción del conjunto de datos:\n",
    "\n",
    "\n",
    "\n",
    "> The dataset consists of 10 numerical and 8 categorical attributes.\n",
    "The 'Revenue' attribute can be used as the class label.\n",
    ">\n",
    "> \"Administrative\", \"Administrative Duration\", \"Informational\", \"Informational Duration\", \"Product Related\" and \"Product Related Duration\" represent the number of different types of pages visited by the visitor in that session and total time spent in each of these page categories. The values of these features are derived from the URL information of the pages visited by the user and updated in real time when a user takes an action, e.g. moving from one page to another.\n",
    ">\n",
    "> The \"Bounce Rate\", \"Exit Rate\" and \"Page Value\" features represent the metrics measured by \"Google Analytics\" for each page in the e-commerce site. The value of \"Bounce Rate\" feature for a web page refers to the percentage of visitors who enter the site from that page and then leave (\"bounce\") without triggering any other requests to the analytics server during that session. The value of \"Exit Rate\" feature for a specific web page is calculated as for all pageviews to the page, the percentage that were the last in the session. The \"Page Value\" feature represents the average value for a web page that a user visited before completing an e-commerce transaction. The \"Special Day\" feature indicates the closeness of the site visiting time to a specific special day (e.g. Mother’s Day, Valentine's Day) in which the sessions are more likely to be finalized with transaction. The value of this attribute is determined by considering the dynamics of e-commerce such as the duration between the order date and delivery date.\n",
    ">\n",
    ">The dataset also includes operating system, browser, region, traffic type, visitor type as returning or new visitor, a Boolean value indicating whether the date of the visit is weekend, and month of the year.\n",
    "\n",
    "Por tanto, tenemos 7 variables categóricas que habrá que transformar.\n"
   ]
  },
  {
   "cell_type": "code",
   "execution_count": 1,
   "metadata": {
    "ExecuteTime": {
     "end_time": "2020-05-20T14:36:44.406840Z",
     "start_time": "2020-05-20T14:36:41.246402Z"
    },
    "colab": {},
    "colab_type": "code",
    "id": "1tQhlsUQXzFr"
   },
   "outputs": [
    {
     "data": {
      "text/html": [
       "<div>\n",
       "<style scoped>\n",
       "    .dataframe tbody tr th:only-of-type {\n",
       "        vertical-align: middle;\n",
       "    }\n",
       "\n",
       "    .dataframe tbody tr th {\n",
       "        vertical-align: top;\n",
       "    }\n",
       "\n",
       "    .dataframe thead th {\n",
       "        text-align: right;\n",
       "    }\n",
       "</style>\n",
       "<table border=\"1\" class=\"dataframe\">\n",
       "  <thead>\n",
       "    <tr style=\"text-align: right;\">\n",
       "      <th></th>\n",
       "      <th>Administrative</th>\n",
       "      <th>Administrative_Duration</th>\n",
       "      <th>Informational</th>\n",
       "      <th>Informational_Duration</th>\n",
       "      <th>ProductRelated</th>\n",
       "      <th>ProductRelated_Duration</th>\n",
       "      <th>BounceRates</th>\n",
       "      <th>ExitRates</th>\n",
       "      <th>PageValues</th>\n",
       "      <th>SpecialDay</th>\n",
       "      <th>Month</th>\n",
       "      <th>OperatingSystems</th>\n",
       "      <th>Browser</th>\n",
       "      <th>Region</th>\n",
       "      <th>TrafficType</th>\n",
       "      <th>VisitorType</th>\n",
       "      <th>Weekend</th>\n",
       "    </tr>\n",
       "  </thead>\n",
       "  <tbody>\n",
       "    <tr>\n",
       "      <th>0</th>\n",
       "      <td>0</td>\n",
       "      <td>0.0</td>\n",
       "      <td>0</td>\n",
       "      <td>0.0</td>\n",
       "      <td>1</td>\n",
       "      <td>0.000000</td>\n",
       "      <td>0.20</td>\n",
       "      <td>0.20</td>\n",
       "      <td>0.0</td>\n",
       "      <td>0.0</td>\n",
       "      <td>Feb</td>\n",
       "      <td>1</td>\n",
       "      <td>1</td>\n",
       "      <td>1</td>\n",
       "      <td>1</td>\n",
       "      <td>Returning_Visitor</td>\n",
       "      <td>False</td>\n",
       "    </tr>\n",
       "    <tr>\n",
       "      <th>1</th>\n",
       "      <td>0</td>\n",
       "      <td>0.0</td>\n",
       "      <td>0</td>\n",
       "      <td>0.0</td>\n",
       "      <td>2</td>\n",
       "      <td>64.000000</td>\n",
       "      <td>0.00</td>\n",
       "      <td>0.10</td>\n",
       "      <td>0.0</td>\n",
       "      <td>0.0</td>\n",
       "      <td>Feb</td>\n",
       "      <td>2</td>\n",
       "      <td>2</td>\n",
       "      <td>1</td>\n",
       "      <td>2</td>\n",
       "      <td>Returning_Visitor</td>\n",
       "      <td>False</td>\n",
       "    </tr>\n",
       "    <tr>\n",
       "      <th>2</th>\n",
       "      <td>0</td>\n",
       "      <td>0.0</td>\n",
       "      <td>0</td>\n",
       "      <td>0.0</td>\n",
       "      <td>1</td>\n",
       "      <td>0.000000</td>\n",
       "      <td>0.20</td>\n",
       "      <td>0.20</td>\n",
       "      <td>0.0</td>\n",
       "      <td>0.0</td>\n",
       "      <td>Feb</td>\n",
       "      <td>4</td>\n",
       "      <td>1</td>\n",
       "      <td>9</td>\n",
       "      <td>3</td>\n",
       "      <td>Returning_Visitor</td>\n",
       "      <td>False</td>\n",
       "    </tr>\n",
       "    <tr>\n",
       "      <th>3</th>\n",
       "      <td>0</td>\n",
       "      <td>0.0</td>\n",
       "      <td>0</td>\n",
       "      <td>0.0</td>\n",
       "      <td>2</td>\n",
       "      <td>2.666667</td>\n",
       "      <td>0.05</td>\n",
       "      <td>0.14</td>\n",
       "      <td>0.0</td>\n",
       "      <td>0.0</td>\n",
       "      <td>Feb</td>\n",
       "      <td>3</td>\n",
       "      <td>2</td>\n",
       "      <td>2</td>\n",
       "      <td>4</td>\n",
       "      <td>Returning_Visitor</td>\n",
       "      <td>False</td>\n",
       "    </tr>\n",
       "    <tr>\n",
       "      <th>4</th>\n",
       "      <td>0</td>\n",
       "      <td>0.0</td>\n",
       "      <td>0</td>\n",
       "      <td>0.0</td>\n",
       "      <td>10</td>\n",
       "      <td>627.500000</td>\n",
       "      <td>0.02</td>\n",
       "      <td>0.05</td>\n",
       "      <td>0.0</td>\n",
       "      <td>0.0</td>\n",
       "      <td>Feb</td>\n",
       "      <td>3</td>\n",
       "      <td>3</td>\n",
       "      <td>1</td>\n",
       "      <td>4</td>\n",
       "      <td>Returning_Visitor</td>\n",
       "      <td>True</td>\n",
       "    </tr>\n",
       "  </tbody>\n",
       "</table>\n",
       "</div>"
      ],
      "text/plain": [
       "   Administrative  Administrative_Duration  Informational  \\\n",
       "0               0                      0.0              0   \n",
       "1               0                      0.0              0   \n",
       "2               0                      0.0              0   \n",
       "3               0                      0.0              0   \n",
       "4               0                      0.0              0   \n",
       "\n",
       "   Informational_Duration  ProductRelated  ProductRelated_Duration  \\\n",
       "0                     0.0               1                 0.000000   \n",
       "1                     0.0               2                64.000000   \n",
       "2                     0.0               1                 0.000000   \n",
       "3                     0.0               2                 2.666667   \n",
       "4                     0.0              10               627.500000   \n",
       "\n",
       "   BounceRates  ExitRates  PageValues  SpecialDay Month  OperatingSystems  \\\n",
       "0         0.20       0.20         0.0         0.0   Feb                 1   \n",
       "1         0.00       0.10         0.0         0.0   Feb                 2   \n",
       "2         0.20       0.20         0.0         0.0   Feb                 4   \n",
       "3         0.05       0.14         0.0         0.0   Feb                 3   \n",
       "4         0.02       0.05         0.0         0.0   Feb                 3   \n",
       "\n",
       "   Browser  Region  TrafficType        VisitorType  Weekend  \n",
       "0        1       1            1  Returning_Visitor    False  \n",
       "1        2       1            2  Returning_Visitor    False  \n",
       "2        1       9            3  Returning_Visitor    False  \n",
       "3        2       2            4  Returning_Visitor    False  \n",
       "4        3       1            4  Returning_Visitor     True  "
      ]
     },
     "execution_count": 1,
     "metadata": {},
     "output_type": "execute_result"
    }
   ],
   "source": [
    "import pandas as pd\n",
    "\n",
    "raw = pd.read_csv('https://archive.ics.uci.edu/ml/machine-learning-databases/00468/online_shoppers_intention.csv')\n",
    "target = raw['Revenue']\n",
    "raw.drop('Revenue', axis=1, inplace=True)\n",
    "raw.head(5)"
   ]
  },
  {
   "cell_type": "code",
   "execution_count": 2,
   "metadata": {
    "ExecuteTime": {
     "end_time": "2020-05-20T14:38:56.414743Z",
     "start_time": "2020-05-20T14:38:56.211683Z"
    },
    "colab": {},
    "colab_type": "code",
    "id": "Ee1LZz3Kj6c0"
   },
   "outputs": [],
   "source": [
    "from sklearn.compose import ColumnTransformer\n",
    "from sklearn.preprocessing import MinMaxScaler, OneHotEncoder\n",
    "\n",
    "nominal_features = ['Month', 'OperatingSystems', 'Browser', 'Region', 'TrafficType', 'VisitorType', 'Weekend']\n",
    "numeric_features = list(set(raw.columns) - set(nominal_features))\n",
    "preprocessor = ColumnTransformer(\n",
    "    transformers=[\n",
    "        ('num', MinMaxScaler(copy=False), numeric_features),\n",
    "        ('cat', OneHotEncoder(categories='auto'), nominal_features)])\n",
    "\n",
    "datos = preprocessor.fit_transform(raw)"
   ]
  },
  {
   "cell_type": "code",
   "execution_count": 3,
   "metadata": {
    "ExecuteTime": {
     "end_time": "2020-05-20T14:38:58.712994Z",
     "start_time": "2020-05-20T14:38:58.702344Z"
    },
    "colab": {},
    "colab_type": "code",
    "id": "wNjp5FhKpm09"
   },
   "outputs": [
    {
     "data": {
      "text/plain": [
       "(12330, 75)"
      ]
     },
     "execution_count": 3,
     "metadata": {},
     "output_type": "execute_result"
    }
   ],
   "source": [
    "datos.shape"
   ]
  },
  {
   "cell_type": "code",
   "execution_count": 11,
   "metadata": {
    "ExecuteTime": {
     "end_time": "2020-05-19T16:27:17.367599Z",
     "start_time": "2020-05-19T16:27:17.057119Z"
    },
    "colab": {},
    "colab_type": "code",
    "id": "BYR6bplFpuoT"
   },
   "outputs": [
    {
     "data": {
      "text/plain": [
       "<matplotlib.axes._subplots.AxesSubplot at 0x7f4c977ede50>"
      ]
     },
     "execution_count": 11,
     "metadata": {},
     "output_type": "execute_result"
    },
    {
     "data": {
      "image/png": "[encoded data removed]",
      "text/plain": [
       "<Figure size 432x288 with 1 Axes>"
      ]
     },
     "metadata": {
      "needs_background": "light"
     },
     "output_type": "display_data"
    }
   ],
   "source": [
    "from sklearn.decomposition import TruncatedSVD \n",
    "tsvd = TruncatedSVD(n_components=2) \n",
    "X_principal = tsvd.fit_transform(datos) \n",
    "X_principal = pd.DataFrame(X_principal) \n",
    "X_principal.columns = ['P1', 'P2']\n",
    "X_principal.plot.scatter(x='P1', y='P2')"
   ]
  },
  {
   "cell_type": "markdown",
   "metadata": {
    "colab_type": "text",
    "id": "vhYDeJT1q7Xv"
   },
   "source": [
    "Y ahora aplicamos **clustering jerárquico aglomerativo** para intentar extraer conocimiento del problema:"
   ]
  },
  {
   "cell_type": "code",
   "execution_count": 13,
   "metadata": {
    "ExecuteTime": {
     "end_time": "2020-05-20T15:08:12.324422Z",
     "start_time": "2020-05-20T15:08:12.316283Z"
    },
    "colab": {},
    "colab_type": "code",
    "id": "6vWnG5A8p4ck"
   },
   "outputs": [],
   "source": [
    "from sklearn.cluster import AgglomerativeClustering\n",
    "\n",
    "modelo = AgglomerativeClustering(n_clusters=2, affinity='cosine', linkage='single')"
   ]
  },
  {
   "cell_type": "code",
   "execution_count": 10,
   "metadata": {
    "ExecuteTime": {
     "end_time": "2020-05-20T15:00:02.384962Z",
     "start_time": "2020-05-20T14:59:49.960913Z"
    },
    "colab": {},
    "colab_type": "code",
    "id": "uyfd7Anhr3be"
   },
   "outputs": [
    {
     "name": "stdout",
     "output_type": "stream",
     "text": [
      "Silhouette:  0.13336036142870958\n",
      "Rand Index (con ground truth):  -0.003534853347774761\n"
     ]
    }
   ],
   "source": [
    "from sklearn.metrics import silhouette_score, adjusted_rand_score\n",
    "\n",
    "labels = modelo.fit_predict(datos.toarray())\n",
    "\n",
    "print('Silhouette: ', silhouette_score(datos, labels))\n",
    "print('Rand Index (con ground truth): ', adjusted_rand_score(target, labels))"
   ]
  },
  {
   "cell_type": "code",
   "execution_count": 12,
   "metadata": {
    "ExecuteTime": {
     "end_time": "2020-05-20T15:02:38.981163Z",
     "start_time": "2020-05-20T15:02:38.918688Z"
    }
   },
   "outputs": [
    {
     "name": "stdout",
     "output_type": "stream",
     "text": [
      "Calinski-Harabasz:  1427.3618310006975\n",
      "Davies-Bouldin:  2.4876401554177274\n"
     ]
    }
   ],
   "source": [
    "from sklearn.metrics import calinski_harabasz_score, davies_bouldin_score\n",
    "\n",
    "print('Calinski-Harabasz: ', calinski_harabasz_score(datos.toarray(), labels))\n",
    "print('Davies-Bouldin: ', davies_bouldin_score(datos.toarray(), labels))"
   ]
  }
 ],
 "metadata": {
  "colab": {
   "collapsed_sections": [],
   "name": "Clustering Jerárquico y DBSCAN.ipynb",
   "private_outputs": true,
   "provenance": []
  },
  "kernelspec": {
   "display_name": "Python 3",
   "language": "python",
   "name": "python3"
  },
  "language_info": {
   "codemirror_mode": {
    "name": "ipython",
    "version": 3
   },
   "file_extension": ".py",
   "mimetype": "text/x-python",
   "name": "python",
   "nbconvert_exporter": "python",
   "pygments_lexer": "ipython3",
   "version": "3.7.6"
  },
  "latex_envs": {
   "LaTeX_envs_menu_present": true,
   "autoclose": true,
   "autocomplete": true,
   "bibliofile": "biblio.bib",
   "cite_by": "apalike",
   "current_citInitial": 1,
   "eqLabelWithNumbers": false,
   "eqNumInitial": 1,
   "hotkeys": {
    "equation": "Ctrl-E",
    "itemize": "Ctrl-I"
   },
   "labels_anchors": false,
   "latex_user_defs": false,
   "report_style_numbering": false,
   "user_envs_cfg": false
  },
  "toc": {
   "base_numbering": 1,
   "nav_menu": {},
   "number_sections": false,
   "sideBar": true,
   "skip_h1_title": true,
   "title_cell": "Table of Contents",
   "title_sidebar": "Índice",
   "toc_cell": false,
   "toc_position": {
    "height": "calc(100% - 180px)",
    "left": "10px",
    "top": "150px",
    "width": "231.6px"
   },
   "toc_section_display": true,
   "toc_window_display": true
  }
 },
 "nbformat": 4,
 "nbformat_minor": 1
}
