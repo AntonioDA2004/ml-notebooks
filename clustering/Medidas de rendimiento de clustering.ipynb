{
 "cells": [
  {
   "attachments": {},
   "cell_type": "markdown",
   "metadata": {
    "ExecuteTime": {
     "end_time": "2021-05-19T13:49:45.153163Z",
     "start_time": "2021-05-19T13:49:45.036499Z"
    }
   },
   "source": [
    "# Medidas de rendimiento de clustering\n",
    "\n",
    "Cuando trabajamos con algoritmos de clustering, al igual que sucedía al trabajar en aprendizaje supervisado con los algoritmos de regresión y clasificación, es necesario ser capaces de cuantificar cómo de bueno resulta un modelo al realizar clustering sobre un conjunto de datos.\n",
    "\n",
    "Definir una medida de calidad de clustering es un reto ya que todas las medidas de calidad de clasificación y regresión se basan en comparar los resultados obtenidos ($\\hat{y}$) con las etiquetas reales ($y$). En clustering, al ser aprendizaje no supervisado, no existen las etiquetas reales ($y$) y, por tanto, no tenemos con qué comparar las predicciones ($\\hat{y}$).\n",
    "\n",
    "Para poder evaluar los algoritmos de clustering existen dos enfoques:\n",
    "\n",
    "- Medidas de calidad **SIN _ground truth_**.\n",
    "- Medidas de calidad **CON _ground truth_**.\n",
    "\n",
    "El _ground truth_ hace referencia a un conjunto de datos **etiquetados** que se utilizan como conjunto de test. Es decir, el entrenamiento se realiza con datos no etiquetados, pero, para poder hacer la evaluación, se etiqueta un reducido conjunto de los datos que son usados como conjunto de test.\n",
    "\n",
    "## Silhoutte Coefficient\n",
    "\n",
    "El *Silhoutte Coefficient* es el máximo representante de las medidas de calidad de clustering sin *ground truth*. Esta medida de calidad representa la definición propia del concepto de clustering llevada a una ecuación: las muestras que se parezcan deben estar cerca y las que no alejadas.\n",
    "\n",
    "Matemáticamente el *Silhoutte Coefficient* se define como:\n",
    "\n",
    "$$\n",
    "s = \\frac{b-a}{max(a,b)}\n",
    "$$\n",
    "\n",
    "Donde $a$ es la distancia media entre una muestra y todos los puntos de este cluster y $b$ es la distancia media entre una muestra y todos los puntos del cluster más cercano diferente al suyo.\n",
    "\n",
    "En `sklearn` se encuentra implementada en la función [`silhouette_score`](https://scikit-learn.org/stable/modules/clustering.html#silhouette-coefficient).\n",
    "\n",
    "## ARI\n",
    "\n",
    "El *Adjusted Rand Index* (ARI) es una medida de calidad que emplea el *ground truth* para evaluar si el proceso de clustering se ha llevado a cabo de forma correcta. Para su cálculo se apoya en el *Rand Index* (RI) que es definido como:\n",
    "\n",
    "$$\n",
    "RI = \\frac{a+b}{a+b+c+d}\n",
    "$$\n",
    "\n",
    "Donde:\n",
    "\n",
    "- $a$ es el número de muestras que pertenecen al mismo cluster tanto en la predicción del modelo como en el *ground truth*.\n",
    "- $b$ es el número de muestras que pertenecen a diferente cluster tanto en la predicción del modelo como en el *ground truth*.\n",
    "- $c$ es el número de muestras que pertenecen al mismo cluster en la predicción del modelo, pero a diferente cluster en el *ground truth*.\n",
    "- $d$ es el número de muestras que pertenecen a diferente cluster en la predicción del modelo, pero al mismo cluster en el *ground truth*.\n",
    "\n",
    "Es decir, se evalúan las agrupaciones acertadas respecto del total de agrupaciones.\n",
    "\n",
    "El problema de RI es que no contempla las posibles permutaciones de las etiquetas asignadas a los clusters al no conocer el valor real de las mismas. ARI corrige este problema combinando todas las posibles permutaciones.\n",
    "\n",
    "En `sklearn` se encuentra implementada en la función [`adjusted_rand_score`](https://scikit-learn.org/stable/modules/generated/sklearn.metrics.adjusted_rand_score.html#sklearn.metrics.adjusted_rand_score).\n",
    "\n",
    "---\n",
    "\n",
    "Creado por **Fernando Ortega** (fernando.ortega@upm.es)\n",
    "\n",
    "<img src=\"https://licensebuttons.net/l/by-nc-sa/3.0/88x31.png\">"
   ]
  }
 ],
 "metadata": {
  "kernelspec": {
   "display_name": "Python 3",
   "language": "python",
   "name": "python3"
  },
  "language_info": {
   "codemirror_mode": {
    "name": "ipython",
    "version": 3
   },
   "file_extension": ".py",
   "mimetype": "text/x-python",
   "name": "python",
   "nbconvert_exporter": "python",
   "pygments_lexer": "ipython3",
   "version": "3.8.5"
  },
  "toc": {
   "base_numbering": 1,
   "nav_menu": {},
   "number_sections": false,
   "sideBar": true,
   "skip_h1_title": false,
   "title_cell": "Table of Contents",
   "title_sidebar": "Contents",
   "toc_cell": false,
   "toc_position": {},
   "toc_section_display": true,
   "toc_window_display": false
  }
 },
 "nbformat": 4,
 "nbformat_minor": 4
}
