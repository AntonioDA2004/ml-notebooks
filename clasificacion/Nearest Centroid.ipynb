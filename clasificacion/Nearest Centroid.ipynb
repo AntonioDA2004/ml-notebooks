{
 "cells": [
  {
   "cell_type": "code",
   "execution_count": null,
   "metadata": {
    "ExecuteTime": {
     "end_time": "2021-05-17T10:25:41.626780Z",
     "start_time": "2021-05-17T10:25:37.004048Z"
    }
   },
   "outputs": [],
   "source": [
    "!pip install make-spirals"
   ]
  },
  {
   "cell_type": "markdown",
   "metadata": {
    "id": "FPocsTEAM7UL"
   },
   "source": [
    "## Nearest Centroid Classifier\n",
    "\n",
    "El clasificador `NearestCentroid` es un algoritmo sencillo que representa cada clase por el centroide de sus miembros. Su funcionamiento se rige por el siguiente algoritmo:\n",
    "\n",
    "1. Determinar el centroide de cada clase como el valor promedio de todas las muestras asignadas a dicha clase para cada característica\n",
    "2. Asignar las muestras a la clase representada por el centroide más cercano\n",
    "\n",
    "Como se observar, no hay que elegir ningún parámetro, por lo que es un buen clasificador de referencia. \n",
    "\n",
    "Veamos cómo funciona con un ejemplo:"
   ]
  },
  {
   "cell_type": "code",
   "execution_count": null,
   "metadata": {
    "ExecuteTime": {
     "end_time": "2021-05-17T10:29:03.194208Z",
     "start_time": "2021-05-17T10:29:02.417244Z"
    },
    "id": "k1aeVIwnU1EO"
   },
   "outputs": [],
   "source": [
    "import matplotlib.pyplot as plt\n",
    "import numpy as np\n",
    "\n",
    "from sklearn.neighbors import NearestCentroid\n",
    "from sklearn.datasets import make_blobs, make_moons, make_circles\n",
    "\n",
    "n_centers = [2, 3, 4, 5]\n",
    "\n",
    "fig, axs = plt.subplots(nrows=2, ncols=len(n_centers), figsize=(5*len(n_centers), 10))\n",
    "fig.tight_layout(pad=4.0)\n",
    "\n",
    "for i in range(len(n_centers)):\n",
    "\n",
    "  X, y = make_blobs(n_samples=300, n_features=2, centers=n_centers[i], cluster_std=2.0, random_state=42)\n",
    "\n",
    "  min = np.amin(X, axis=0)\n",
    "  max = np.amax(X, axis=0)\n",
    "\n",
    "  diff = max - min\n",
    "\n",
    "  min = min - 0.1 * diff\n",
    "  max = max + 0.1 * diff\n",
    "\n",
    "  axs[0,i].set_title('Muestras en crudo (' + str(n_centers[i]) + ' clases)')\n",
    "  axs[0,i].set_xlabel('X1')\n",
    "  axs[0,i].set_ylabel('X2')\n",
    "\n",
    "  axs[0,i].set_xlim(min[0], max[0])\n",
    "  axs[0,i].set_ylim(min[1], max[1])\n",
    "\n",
    "  axs[0,i].scatter(X[:,0], X[:,1], c=y, cmap='rainbow')\n",
    "\n",
    "  nc = NearestCentroid().fit(X, y)\n",
    "\n",
    "  xx, yy = np.meshgrid(np.linspace(min[0], max[0]), np.linspace(min[1], max[1]))\n",
    "  Z = nc.predict(np.c_[xx.ravel(), yy.ravel()])\n",
    "  Z = Z.reshape(xx.shape) \n",
    "\n",
    "  axs[1,i].set_title('Muestras clasificadas (' + str(n_centers[i]) + ' clases)')\n",
    "  axs[1,i].set_xlabel('X1')\n",
    "  axs[1,i].set_ylabel('X2')\n",
    "\n",
    "  axs[1,i].set_xlim(min[0], max[0])\n",
    "  axs[1,i].set_ylim(min[1], max[1])\n",
    "\n",
    "  axs[1,i].contourf(xx, yy, Z, cmap='rainbow', alpha=0.6, antialiased=True)\n",
    "  axs[1,i].scatter(X[:,0], X[:,1], c=y, edgecolor='black', cmap='rainbow')\n",
    "\n",
    "  axs[1,i].scatter(nc.centroids_[:,0], nc.centroids_[:,1], c='white', edgecolor='black', s=200)"
   ]
  },
  {
   "cell_type": "markdown",
   "metadata": {
    "id": "DHAAs05b6fcH"
   },
   "source": [
    "Aunque en el caso del conjunto de datos `blobs` su desempeño es aceptable, cuando tratamos de clasificar muestras no separables linealmente, el algoritmo ofrece unos resultados muy probres.\n",
    "\n",
    "Con `moons`:"
   ]
  },
  {
   "cell_type": "code",
   "execution_count": null,
   "metadata": {
    "ExecuteTime": {
     "end_time": "2021-05-17T10:31:07.825695Z",
     "start_time": "2021-05-17T10:31:07.512879Z"
    },
    "id": "_ILCSwlf4IiY"
   },
   "outputs": [],
   "source": [
    "import matplotlib.pyplot as plt\n",
    "import numpy as np\n",
    "from sklearn.neighbors import NearestCentroid\n",
    "from sklearn.datasets import make_moons\n",
    "\n",
    "fig, axs = plt.subplots(nrows=1, ncols=2, figsize=(10, 5))\n",
    "fig.tight_layout(pad=4.0)\n",
    "\n",
    "X, y = make_moons(n_samples=300, noise=0.15, random_state=42)\n",
    "\n",
    "min = np.amin(X, axis=0)\n",
    "max = np.amax(X, axis=0)\n",
    "\n",
    "diff = max - min\n",
    "\n",
    "min = min - 0.1 * diff\n",
    "max = max + 0.1 * diff\n",
    "\n",
    "axs[0].set_title('Muestras en crudo')\n",
    "axs[0].set_xlabel('X1')\n",
    "axs[0].set_ylabel('X2')\n",
    "\n",
    "axs[0].set_xlim(min[0], max[0])\n",
    "axs[0].set_ylim(min[1], max[1])\n",
    "\n",
    "axs[0].scatter(X[:,0], X[:,1], c=y, cmap=plt.cm.bwr, alpha=0.75)\n",
    "\n",
    "nc = NearestCentroid().fit(X, y)\n",
    "\n",
    "xx, yy = np.meshgrid(np.linspace(min[0], max[0]), np.linspace(min[1], max[1]))\n",
    "Z = nc.predict(np.c_[xx.ravel(), yy.ravel()])\n",
    "Z = Z.reshape(xx.shape) \n",
    "\n",
    "axs[1].set_title('Muestras clasificadas')\n",
    "axs[1].set_xlabel('X1')\n",
    "axs[1].set_ylabel('X2')\n",
    "\n",
    "axs[1].set_xlim(min[0], max[0])\n",
    "axs[1].set_ylim(min[1], max[1])\n",
    "\n",
    "axs[1].contourf(xx, yy, Z, cmap='bwr', alpha=0.8, antialiased=True)\n",
    "axs[1].scatter(X[:,0], X[:,1], c=y, edgecolor='black', cmap='bwr')\n",
    "\n",
    "axs[1].scatter(nc.centroids_[:,0], nc.centroids_[:,1], c='white', edgecolor='black', s=200)"
   ]
  },
  {
   "cell_type": "markdown",
   "metadata": {
    "id": "XrwxZ6Um6vWn"
   },
   "source": [
    "Con `circles`:"
   ]
  },
  {
   "cell_type": "code",
   "execution_count": null,
   "metadata": {
    "ExecuteTime": {
     "end_time": "2021-05-17T10:32:52.201172Z",
     "start_time": "2021-05-17T10:32:51.947455Z"
    },
    "id": "sMQLTweU5Ou8"
   },
   "outputs": [],
   "source": [
    "import matplotlib.pyplot as plt\n",
    "import numpy as np\n",
    "from sklearn.neighbors import NearestCentroid\n",
    "from sklearn.datasets import make_circles\n",
    "\n",
    "fig, axs = plt.subplots(nrows=1, ncols=2, figsize=(10, 5))\n",
    "fig.tight_layout(pad=4.0)\n",
    "\n",
    "X, y = make_circles(n_samples=300, noise=0.20, factor=0.2, random_state=42)\n",
    "\n",
    "min = np.amin(X, axis=0)\n",
    "max = np.amax(X, axis=0)\n",
    "\n",
    "diff = max - min\n",
    "\n",
    "min = min - 0.1 * diff\n",
    "max = max + 0.1 * diff\n",
    "\n",
    "axs[0].set_title('Muestras en crudo')\n",
    "axs[0].set_xlabel('X1')\n",
    "axs[0].set_ylabel('X2')\n",
    "\n",
    "axs[0].set_xlim(min[0], max[0])\n",
    "axs[0].set_ylim(min[1], max[1])\n",
    "\n",
    "axs[0].scatter(X[:,0], X[:,1], c=y, cmap=plt.cm.bwr, alpha=0.75)\n",
    "\n",
    "nc = NearestCentroid().fit(X, y)\n",
    "\n",
    "xx, yy = np.meshgrid(np.linspace(min[0], max[0]), np.linspace(min[1], max[1]))\n",
    "Z = nc.predict(np.c_[xx.ravel(), yy.ravel()])\n",
    "Z = Z.reshape(xx.shape) \n",
    "\n",
    "axs[1].set_title('Muestras clasificadas')\n",
    "axs[1].set_xlabel('X1')\n",
    "axs[1].set_ylabel('X2')\n",
    "\n",
    "axs[1].set_xlim(min[0], max[0])\n",
    "axs[1].set_ylim(min[1], max[1])\n",
    "\n",
    "axs[1].contourf(xx, yy, Z, cmap='bwr', alpha=0.8, antialiased=True)\n",
    "axs[1].scatter(X[:,0], X[:,1], c=y, edgecolor='black', cmap='bwr')\n",
    "\n",
    "axs[1].scatter(nc.centroids_[:,0], nc.centroids_[:,1], c='white', edgecolor='black', s=200)"
   ]
  },
  {
   "cell_type": "markdown",
   "metadata": {
    "id": "rIpUkGyy6zJj"
   },
   "source": [
    "Con `spirals`:"
   ]
  },
  {
   "cell_type": "code",
   "execution_count": null,
   "metadata": {
    "ExecuteTime": {
     "end_time": "2021-05-17T10:32:58.406767Z",
     "start_time": "2021-05-17T10:32:58.140996Z"
    },
    "id": "jVmSMcDS5bQO"
   },
   "outputs": [],
   "source": [
    "import matplotlib.pyplot as plt\n",
    "import numpy as np\n",
    "from sklearn.neighbors import NearestCentroid\n",
    "from make_spirals import make_spirals\n",
    "\n",
    "fig, axs = plt.subplots(nrows=1, ncols=2, figsize=(10, 5))\n",
    "fig.tight_layout(pad=4.0)\n",
    "\n",
    "X, y = make_spirals(n_samples=1000, random_state=42)\n",
    "\n",
    "min = np.amin(X, axis=0)\n",
    "max = np.amax(X, axis=0)\n",
    "\n",
    "diff = max - min\n",
    "\n",
    "min = min - 0.1 * diff\n",
    "max = max + 0.1 * diff\n",
    "\n",
    "axs[0].set_title('Muestras en crudo')\n",
    "axs[0].set_xlabel('X1')\n",
    "axs[0].set_ylabel('X2')\n",
    "\n",
    "axs[0].set_xlim(min[0], max[0])\n",
    "axs[0].set_ylim(min[1], max[1])\n",
    "\n",
    "axs[0].scatter(X[:,0], X[:,1], c=y, cmap=plt.cm.bwr, alpha=0.75)\n",
    "\n",
    "nc = NearestCentroid().fit(X, y)\n",
    "\n",
    "xx, yy = np.meshgrid(np.linspace(min[0], max[0]), np.linspace(min[1], max[1]))\n",
    "Z = nc.predict(np.c_[xx.ravel(), yy.ravel()])\n",
    "Z = Z.reshape(xx.shape) \n",
    "\n",
    "axs[1].set_title('Muestras clasificadas')\n",
    "axs[1].set_xlabel('X1')\n",
    "axs[1].set_ylabel('X2')\n",
    "\n",
    "axs[1].set_xlim(min[0], max[0])\n",
    "axs[1].set_ylim(min[1], max[1])\n",
    "\n",
    "axs[1].contourf(xx, yy, Z, cmap='bwr', alpha=0.8, antialiased=True)\n",
    "axs[1].scatter(X[:,0], X[:,1], c=y, edgecolor='black', cmap='bwr')\n",
    "\n",
    "axs[1].scatter(nc.centroids_[:,0], nc.centroids_[:,1], c='white', edgecolor='black', s=200)"
   ]
  },
  {
   "cell_type": "markdown",
   "metadata": {
    "id": "aHqGemq163iy"
   },
   "source": [
    "El algoritmo permite parametrizar la métrica de distancia utilizada mediante `metric` y un umbral `shrink_threshold` que modifica el cáculo del centroide dividiendo su valor para cada característica por la varianza de dicha carácteristica en cada clase. Esto permite ser menos sensible a conjuntos de datos con varianzas dispares."
   ]
  },
  {
   "cell_type": "code",
   "execution_count": null,
   "metadata": {
    "ExecuteTime": {
     "end_time": "2021-05-17T10:35:34.985092Z",
     "start_time": "2021-05-17T10:35:34.533936Z"
    },
    "id": "8fTYacrd7X1Q"
   },
   "outputs": [],
   "source": [
    "import matplotlib.pyplot as plt\n",
    "\n",
    "fig, axs = plt.subplots(nrows=1, ncols=4, figsize=(20, 5))\n",
    "fig.tight_layout(pad=4.0)\n",
    "\n",
    "# dataset\n",
    "\n",
    "X, y = make_blobs(n_samples=100, n_features=2, centers=3, cluster_std=1.0, random_state=42)\n",
    "X = X * [1, 3]\n",
    "\n",
    "min = np.min(X)\n",
    "max = np.max(X)\n",
    "\n",
    "diff = max - min\n",
    "\n",
    "min = min - 0.1 * diff\n",
    "max = max + 0.1 * diff\n",
    "\n",
    "xx, yy = np.meshgrid(np.linspace(min, max), np.linspace(min, max))\n",
    "\n",
    "\n",
    "# plot dataset\n",
    "\n",
    "axs[0].set_title('Muestras clasificadas')\n",
    "axs[0].set_xlabel('X1')\n",
    "axs[0].set_ylabel('X2')\n",
    "\n",
    "axs[0].set_xlim(min, max)\n",
    "axs[0].set_ylim(min, max)\n",
    "\n",
    "axs[0].scatter(X[:,0], X[:,1], c=y, cmap='rainbow')\n",
    "\n",
    "\n",
    "# shrink_threshold=None\n",
    "\n",
    "nc = NearestCentroid(shrink_threshold=None).fit(X, y)\n",
    "\n",
    "Z = nc.predict(np.c_[xx.ravel(), yy.ravel()])\n",
    "Z = Z.reshape(xx.shape) \n",
    "\n",
    "axs[1].set_title('Muestras clasificadas (shrink_threshold=None)')\n",
    "axs[1].set_xlabel('X1')\n",
    "axs[1].set_ylabel('X2')\n",
    "\n",
    "axs[1].set_xlim(min, max)\n",
    "axs[1].set_ylim(min, max)\n",
    "\n",
    "axs[1].contourf(xx, yy, Z, cmap='rainbow', alpha=0.7, antialiased=True)\n",
    "axs[1].scatter(X[:,0], X[:,1], c=y, cmap='rainbow', edgecolor='black')\n",
    "\n",
    "axs[1].scatter(nc.centroids_[:,0], nc.centroids_[:,1], c='white', edgecolor='black', s=200)\n",
    "\n",
    "# shrink_threshold=2\n",
    "\n",
    "nc = NearestCentroid(shrink_threshold=2).fit(X, y)\n",
    "\n",
    "xx, yy = np.meshgrid(np.linspace(min, max), np.linspace(min, max))\n",
    "Z = nc.predict(np.c_[xx.ravel(), yy.ravel()])\n",
    "Z = Z.reshape(xx.shape) \n",
    "\n",
    "axs[2].set_title('Muestras clasificadas (shrink_threshold=2)')\n",
    "axs[2].set_xlabel('X1')\n",
    "axs[2].set_ylabel('X2')\n",
    "\n",
    "axs[2].set_xlim(min, max)\n",
    "axs[2].set_ylim(min, max)\n",
    "\n",
    "axs[2].contourf(xx, yy, Z, cmap='rainbow', alpha=0.7, antialiased=True)\n",
    "axs[2].scatter(X[:,0], X[:,1], c=y, cmap='rainbow', edgecolor='black')\n",
    "\n",
    "axs[2].scatter(nc.centroids_[:,0], nc.centroids_[:,1], c='white', edgecolor='black', s=200)\n",
    "\n",
    "\n",
    "# shrink_threshold=8\n",
    "\n",
    "nc = NearestCentroid(shrink_threshold=8).fit(X, y)\n",
    "\n",
    "xx, yy = np.meshgrid(np.linspace(min, max), np.linspace(min, max))\n",
    "Z = nc.predict(np.c_[xx.ravel(), yy.ravel()])\n",
    "Z = Z.reshape(xx.shape) \n",
    "\n",
    "axs[3].set_title('Muestras clasificadas (shrink_threshold=8)')\n",
    "axs[3].set_xlabel('X1')\n",
    "axs[3].set_ylabel('X2')\n",
    "\n",
    "axs[3].set_xlim(min, max)\n",
    "axs[3].set_ylim(min, max)\n",
    "\n",
    "axs[3].contourf(xx, yy, Z, cmap='rainbow', alpha=0.7, antialiased=True)\n",
    "axs[3].scatter(X[:,0], X[:,1], c=y, cmap='rainbow', edgecolor='black')\n",
    "\n",
    "axs[3].scatter(nc.centroids_[:,0], nc.centroids_[:,1], c='white', edgecolor='black', s=200)"
   ]
  },
  {
   "cell_type": "markdown",
   "metadata": {
    "id": "Hvor-GmBNIAG"
   },
   "source": [
    "---\n",
    "\n",
    "Creado por **Fernando Ortega** (fernando.ortega@upm.es)\n",
    "\n",
    "<img src=\"https://licensebuttons.net/l/by-nc-sa/3.0/88x31.png\">"
   ]
  }
 ],
 "metadata": {
  "colab": {
   "collapsed_sections": [],
   "name": "Nearest Centroid.ipynb",
   "private_outputs": true,
   "provenance": []
  },
  "kernelspec": {
   "display_name": "Python 3",
   "language": "python",
   "name": "python3"
  },
  "language_info": {
   "codemirror_mode": {
    "name": "ipython",
    "version": 3
   },
   "file_extension": ".py",
   "mimetype": "text/x-python",
   "name": "python",
   "nbconvert_exporter": "python",
   "pygments_lexer": "ipython3",
   "version": "3.8.5"
  },
  "latex_envs": {
   "LaTeX_envs_menu_present": true,
   "autoclose": true,
   "autocomplete": true,
   "bibliofile": "biblio.bib",
   "cite_by": "apalike",
   "current_citInitial": 1,
   "eqLabelWithNumbers": true,
   "eqNumInitial": 1,
   "hotkeys": {
    "equation": "Ctrl-E",
    "itemize": "Ctrl-I"
   },
   "labels_anchors": false,
   "latex_user_defs": false,
   "report_style_numbering": false,
   "user_envs_cfg": false
  },
  "toc": {
   "base_numbering": 1,
   "nav_menu": {},
   "number_sections": false,
   "sideBar": true,
   "skip_h1_title": false,
   "title_cell": "Table of Contents",
   "title_sidebar": "Contents",
   "toc_cell": false,
   "toc_position": {},
   "toc_section_display": true,
   "toc_window_display": false
  }
 },
 "nbformat": 4,
 "nbformat_minor": 1
}
