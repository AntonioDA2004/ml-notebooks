{
 "cells": [
  {
   "cell_type": "markdown",
   "metadata": {
    "id": "X49REMXANn07"
   },
   "source": [
    "# Aprendizaje desbalanceado\n",
    "\n",
    "Hasta ahora, todos los conjuntos de datos que hemos procesado y utilizado para entrenar modelos de clasificación estaban **equilibrados**, es decir, **tenían un número similar de observaciones para cada una de las etiquetas del problema**. Esto ha resultado ser muy conveniente, ya que los modelos de clasificación que hemos estudiado funcionan mejor cuanto más equilibrado es el conjunto de datos de entrenamiento.\n",
    "\n",
    "Sin embargo, encontrar conjuntos de datos desequilibrados es más frecuente de lo que parece cuando trabajamos con información obtenida del mundo real. Vamos a estudiar **diferentes técnicas para mitigar el problema de tener un conjunto de datos desequilibrado con respecto a las clases**."
   ]
  },
  {
   "cell_type": "markdown",
   "metadata": {
    "id": "ISd_5glwO3ST"
   },
   "source": [
    "## Un dataset desequilibrado\n",
    "\n",
    "Para analizar diferentes técnicas de aprendizaje de problemas de desequilibrio vamos a utilizar un conjunto de datos alojado en [Kaggle](https://www.kaggle.com/c/porto-seguro-safe-driver-prediction). Este *dataset* recoge **más de 50 características** relacionadas con el historial de clientes de una aseguradora de coches brasileña. Según la descripción del conjunto de datos:\n",
    "\n",
    "> In the training and test data, features belonging to similar groups are labeled as such in the feature names (e.g., `ind`, `reg`, `car`, `calc`). In addition, feature names include the prefix `bin` to indicate binary features and `cat` to indicate categorical features. Attributes without these designations are continuous or ordinal. Values of $-1$ indicate that the attribute was missing from the observation. The target column signifies whether or not a claim was filed for that policyholder.\n",
    "\n",
    "\n",
    "\n"
   ]
  },
  {
   "cell_type": "code",
   "execution_count": 1,
   "metadata": {
    "ExecuteTime": {
     "end_time": "2021-11-02T12:40:12.363904Z",
     "start_time": "2021-11-02T12:40:02.143316Z"
    },
    "id": "jrLeo9EUItcg",
    "scrolled": true
   },
   "outputs": [
    {
     "name": "stdout",
     "output_type": "stream",
     "text": [
      "Requirement already satisfied: imbalanced-learn in /opt/conda/lib/python3.8/site-packages (0.7.0)\n",
      "Collecting imbalanced-learn\n",
      "  Downloading imbalanced_learn-0.8.1-py3-none-any.whl (189 kB)\n",
      "\u001b[K     |████████████████████████████████| 189 kB 2.3 MB/s eta 0:00:01     |████████▋                       | 51 kB 2.0 MB/s eta 0:00:01\n",
      "\u001b[?25hRequirement already satisfied: scipy>=0.19.1 in /opt/conda/lib/python3.8/site-packages (from imbalanced-learn) (1.5.4)\n",
      "Requirement already satisfied: joblib>=0.11 in /opt/conda/lib/python3.8/site-packages (from imbalanced-learn) (1.0.1)\n",
      "Requirement already satisfied: numpy>=1.13.3 in /opt/conda/lib/python3.8/site-packages (from imbalanced-learn) (1.19.5)\n",
      "Requirement already satisfied: scikit-learn>=0.24 in /opt/conda/lib/python3.8/site-packages (from imbalanced-learn) (1.0)\n",
      "Requirement already satisfied: threadpoolctl>=2.0.0 in /opt/conda/lib/python3.8/site-packages (from scikit-learn>=0.24->imbalanced-learn) (2.1.0)\n",
      "Installing collected packages: imbalanced-learn\n",
      "  Attempting uninstall: imbalanced-learn\n",
      "    Found existing installation: imbalanced-learn 0.7.0\n",
      "    Uninstalling imbalanced-learn-0.7.0:\n",
      "      Successfully uninstalled imbalanced-learn-0.7.0\n",
      "\u001b[31mERROR: pip's dependency resolver does not currently take into account all the packages that are installed. This behaviour is the source of the following dependency conflicts.\n",
      "pycaret 2.3.4 requires imbalanced-learn==0.7.0, but you have imbalanced-learn 0.8.1 which is incompatible.\n",
      "pycaret 2.3.4 requires scikit-learn==0.23.2, but you have scikit-learn 1.0 which is incompatible.\u001b[0m\n",
      "Successfully installed imbalanced-learn-0.8.1\n",
      "\u001b[0m"
     ]
    }
   ],
   "source": [
    "!pip install -U imbalanced-learn"
   ]
  },
  {
   "cell_type": "code",
   "execution_count": 2,
   "metadata": {
    "ExecuteTime": {
     "end_time": "2021-11-04T14:52:32.039267Z",
     "start_time": "2021-11-04T14:52:27.643717Z"
    },
    "id": "vw4OQPGINkuz"
   },
   "outputs": [],
   "source": [
    "import pandas as pd\n",
    "import matplotlib.pyplot as plt\n",
    "\n",
    "# 100 MB dataset... please, be patient\n",
    "raw_data = pd.read_csv('https://drive.upm.es/index.php/s/F6OxUlDc5nV9870/download')"
   ]
  },
  {
   "cell_type": "code",
   "execution_count": 3,
   "metadata": {
    "ExecuteTime": {
     "end_time": "2021-11-04T14:52:35.028074Z",
     "start_time": "2021-11-04T14:52:34.788730Z"
    },
    "id": "1QeV1g5Ga529"
   },
   "outputs": [
    {
     "name": "stdout",
     "output_type": "stream",
     "text": [
      "Class 0: 573518\n",
      "Class 1: 21694\n",
      "Proportion: 26.44 : 1\n"
     ]
    },
    {
     "data": {
      "image/png": "[encoded data removed]",
      "text/plain": [
       "<Figure size 432x288 with 1 Axes>"
      ]
     },
     "metadata": {
      "needs_background": "light"
     },
     "output_type": "display_data"
    }
   ],
   "source": [
    "# Split the dataset into features X and target Y\n",
    "X = raw_data.iloc[:,2:]\n",
    "Y = raw_data['target']\n",
    "\n",
    "target_count = Y.value_counts()\n",
    "print('Class 0:', target_count[0])\n",
    "print('Class 1:', target_count[1])\n",
    "print('Proportion:', round(target_count[0] / target_count[1], 2), ': 1')\n",
    "\n",
    "target_count.plot(kind='bar', title='Count (target)');"
   ]
  },
  {
   "cell_type": "markdown",
   "metadata": {
    "id": "EkMuDlo0c6Lo"
   },
   "source": [
    "Como podemos ver en la figura, la distribución de las etiquetas no está en absoluto equilibrada. Por cada observación con **etiqueta 1** tenemos **26 observaciones con etiqueta 0**. Es evidente que estamos ante un problema de desequilibrio."
   ]
  },
  {
   "cell_type": "markdown",
   "metadata": {
    "id": "qTdfgiMnja_c"
   },
   "source": [
    "## El problema de las métricas optimistas\n",
    "\n",
    "Veamos por qué es importante utilizar las métricas adecuadas cuando evaluamos el rendimiento de un estimador.\n",
    "\n",
    "Supongamos que, como primera aproximación, vamos a entrenar un modelo **Random Forest**. Como ya sabemos, es un modelo sin distribución, por lo que no necesitamos preprocesar el *conjunto de datos* para estandarizar los valores de los atributos."
   ]
  },
  {
   "cell_type": "code",
   "execution_count": 5,
   "metadata": {
    "ExecuteTime": {
     "end_time": "2021-11-04T14:54:15.700808Z",
     "start_time": "2021-11-04T14:54:06.637857Z"
    },
    "id": "_lwM1gshcScE"
   },
   "outputs": [
    {
     "data": {
      "text/plain": [
       "RandomForestClassifier(n_jobs=-1)"
      ]
     },
     "execution_count": 5,
     "metadata": {},
     "output_type": "execute_result"
    }
   ],
   "source": [
    "from sklearn.ensemble import RandomForestClassifier\n",
    "from sklearn.model_selection import train_test_split\n",
    "from sklearn.metrics import accuracy_score\n",
    "\n",
    "X_train, X_test, y_train, y_test = train_test_split(X, Y, test_size=0.2, random_state=0, stratify=Y)\n",
    "\n",
    "clf = RandomForestClassifier(n_jobs=-1)\n",
    "\n",
    "clf.fit(X_train, y_train)"
   ]
  },
  {
   "cell_type": "code",
   "execution_count": 6,
   "metadata": {
    "ExecuteTime": {
     "end_time": "2021-11-04T14:54:25.200915Z",
     "start_time": "2021-11-04T14:54:24.956192Z"
    },
    "id": "YhU3oNgSnfrK"
   },
   "outputs": [
    {
     "name": "stdout",
     "output_type": "stream",
     "text": [
      "Accuracy: 96.36%\n"
     ]
    }
   ],
   "source": [
    "y_pred = clf.predict(X_test)\n",
    "\n",
    "accuracy = accuracy_score(y_test, y_pred)\n",
    "print(\"Accuracy: %.2f%%\" % (accuracy * 100.0))"
   ]
  },
  {
   "cell_type": "markdown",
   "metadata": {
    "id": "7o5PMc95kmL9"
   },
   "source": [
    "El uso de métricas simples como `accuracy_score` puede ser engañoso. En un conjunto de datos con clases muy desequilibradas, si el clasificador **siempre predice la clase más común** sin realizar ningún análisis de características, seguirá teniendo una puntuación de precisión obviamente ilusoria."
   ]
  },
  {
   "cell_type": "code",
   "execution_count": 8,
   "metadata": {
    "ExecuteTime": {
     "end_time": "2021-11-02T12:43:59.292916Z",
     "start_time": "2021-11-02T12:43:58.609014Z"
    },
    "id": "_Eh0Gdiokkyn"
   },
   "outputs": [
    {
     "data": {
      "text/plain": [
       "<sklearn.metrics._plot.confusion_matrix.ConfusionMatrixDisplay at 0x7fa1ecdfa910>"
      ]
     },
     "execution_count": 8,
     "metadata": {},
     "output_type": "execute_result"
    },
    {
     "data": {
      "image/png": "[encoded data removed]",
      "text/plain": [
       "<Figure size 432x288 with 2 Axes>"
      ]
     },
     "metadata": {
      "needs_background": "light"
     },
     "output_type": "display_data"
    }
   ],
   "source": [
    "from sklearn.metrics import ConfusionMatrixDisplay\n",
    "\n",
    "ConfusionMatrixDisplay.from_estimator(clf, X_test, y_test, cmap='Blues', normalize='true')"
   ]
  },
  {
   "cell_type": "markdown",
   "metadata": {
    "id": "-XAT2jZIoNZa"
   },
   "source": [
    "Al representar la matriz de confusión del modelo, observamos que **apenas** predijo con éxito una **etiqueta 1**. Este era el comportamiento esperado. Ahora tenemos que considerar qué técnicas podemos utilizar para mejorar estos resultados de forma que el clasificador no tenga un buen rendimiento por estar limitado a predecir sólo la clase mayoritaria."
   ]
  },
  {
   "cell_type": "markdown",
   "metadata": {
    "id": "UK39dZqUow8V"
   },
   "source": [
    "## Resampling\n",
    "\n",
    "Una de las técnicas más sencillas que pueden utilizarse para mitigar los efectos de un conjunto desequilibrado es el **resampling**. Dentro del **resampling** distinguiremos dos enfoques:\n",
    "\n",
    "* Undersampling\n",
    "* Oversampling\n",
    "\n",
    "![](https://raw.githubusercontent.com/rafjaa/machine_learning_fecib/master/src/static/img/resampling.png)"
   ]
  },
  {
   "cell_type": "markdown",
   "metadata": {
    "id": "UTnejZt2ps3f"
   },
   "source": [
    "### Undersampling\n",
    "\n",
    "El concepto de esta técnica es muy sencillo: **eliminar muestras seleccionadas al azar de la clase predominante** para equilibrar el conjunto de datos. Obviamente, esta técnica provoca una pérdida de información que dependerá del ratio de desequilibrio que exista entre las clases, cuanto mayor sea el ratio, mayor será la pérdida de información.\n",
    "\n",
    "Vamos a ver cómo podemos realizar un **submuestreo aleatorio** combinando *scikit-learn* con una librería de Python específica para datos desequilibrados llamada [Imbalanced Learning](https://imbalanced-learn.readthedocs.io).\n"
   ]
  },
  {
   "cell_type": "code",
   "execution_count": 9,
   "metadata": {
    "ExecuteTime": {
     "end_time": "2021-11-02T12:44:05.092855Z",
     "start_time": "2021-11-02T12:44:04.729190Z"
    },
    "id": "EYq3WlBllUbQ"
   },
   "outputs": [],
   "source": [
    "from imblearn.under_sampling import RandomUnderSampler\n",
    "\n",
    "rus = RandomUnderSampler()\n",
    "\n",
    "X_rus, y_rus = rus.fit_resample(X_train, y_train)"
   ]
  },
  {
   "cell_type": "markdown",
   "metadata": {
    "id": "mD9Ps9LIrI_Z"
   },
   "source": [
    "Ahora hemos construido un conjunto de datos con clases equilibradas eliminando algunas muestras de la clase mayoritaria:"
   ]
  },
  {
   "cell_type": "code",
   "execution_count": 10,
   "metadata": {
    "ExecuteTime": {
     "end_time": "2021-11-02T12:44:08.815393Z",
     "start_time": "2021-11-02T12:44:08.666512Z"
    },
    "id": "LDwK7hfDrbTQ"
   },
   "outputs": [
    {
     "name": "stdout",
     "output_type": "stream",
     "text": [
      "Class 0: 17355\n",
      "Class 1: 17355\n",
      "Proportion: 1.0 : 1\n"
     ]
    },
    {
     "data": {
      "text/plain": [
       "<AxesSubplot:title={'center':'Count (target)'}>"
      ]
     },
     "execution_count": 10,
     "metadata": {},
     "output_type": "execute_result"
    },
    {
     "data": {
      "image/png": "[encoded data removed]",
      "text/plain": [
       "<Figure size 432x288 with 1 Axes>"
      ]
     },
     "metadata": {
      "needs_background": "light"
     },
     "output_type": "display_data"
    }
   ],
   "source": [
    "target_count = pd.Series(y_rus).value_counts()\n",
    "print('Class 0:', target_count[0])\n",
    "print('Class 1:', target_count[1])\n",
    "print('Proportion:', round(target_count[0] / target_count[1], 2), ': 1')\n",
    "\n",
    "target_count.plot(kind='bar', title='Count (target)')"
   ]
  },
  {
   "cell_type": "markdown",
   "metadata": {
    "id": "pdON8PMRsTv7"
   },
   "source": [
    "Veamos cómo se comporta el clasificador cuando lo entrenamos con este conjunto de datos ya equilibrado:"
   ]
  },
  {
   "cell_type": "code",
   "execution_count": 11,
   "metadata": {
    "ExecuteTime": {
     "end_time": "2021-11-02T12:44:32.265141Z",
     "start_time": "2021-11-02T12:44:30.493531Z"
    },
    "id": "V91Zrnh0roDw"
   },
   "outputs": [
    {
     "data": {
      "text/plain": [
       "<sklearn.metrics._plot.confusion_matrix.ConfusionMatrixDisplay at 0x7fa1e1f78130>"
      ]
     },
     "execution_count": 11,
     "metadata": {},
     "output_type": "execute_result"
    },
    {
     "data": {
      "image/png": "[encoded data removed]",
      "text/plain": [
       "<Figure size 432x288 with 2 Axes>"
      ]
     },
     "metadata": {
      "needs_background": "light"
     },
     "output_type": "display_data"
    }
   ],
   "source": [
    "clf_rus = RandomForestClassifier(n_jobs=-1)\n",
    "\n",
    "clf_rus.fit(X_rus, y_rus)\n",
    "\n",
    "ConfusionMatrixDisplay.from_estimator(clf_rus, X_test, y_test, cmap='Blues', normalize='true')"
   ]
  },
  {
   "cell_type": "markdown",
   "metadata": {
    "id": "2ClxHzFXtFD9"
   },
   "source": [
    "Hemos mejorado bastante la tasa de aciertos de la **clase 1**, aunque está lejos de ser una buena tasa. Era de esperar, ya que hemos perdido mucha información al realizar el **submuestreo**, como también se refleja en el descenso de la precisión de la **clase 0**."
   ]
  },
  {
   "cell_type": "markdown",
   "metadata": {
    "id": "WOYlJOZ5tV1Y"
   },
   "source": [
    "### Under-sampling: Tomek links\n",
    "\n",
    "Los enlaces Tomek son pares de instancias muy cercanas, pero de clases opuestas. La eliminación de instancias de la clase mayoritaria de cada par aumenta el espacio entre las dos clases, facilitando el proceso de clasificación.\n",
    "\n",
    "![](https://st2.ning.com/topology/rest/1.0/file/get/2808332936?profile=original)\n"
   ]
  },
  {
   "cell_type": "code",
   "execution_count": 13,
   "metadata": {
    "ExecuteTime": {
     "end_time": "2021-11-03T10:15:05.474769Z",
     "start_time": "2021-11-03T08:39:39.956740Z"
    },
    "id": "q6W_EUmQsqew"
   },
   "outputs": [
    {
     "name": "stdout",
     "output_type": "stream",
     "text": [
      "Class 0: 453611\n",
      "Class 1: 17355\n",
      "Proportion: 26.14 : 1\n"
     ]
    },
    {
     "data": {
      "text/plain": [
       "<AxesSubplot:title={'center':'Count (target)'}>"
      ]
     },
     "execution_count": 13,
     "metadata": {},
     "output_type": "execute_result"
    },
    {
     "data": {
      "image/png": "[encoded data removed]",
      "text/plain": [
       "<Figure size 432x288 with 1 Axes>"
      ]
     },
     "metadata": {
      "needs_background": "light"
     },
     "output_type": "display_data"
    }
   ],
   "source": [
    "from imblearn.under_sampling import TomekLinks\n",
    "\n",
    "tl = TomekLinks(sampling_strategy='auto', n_jobs=-1)\n",
    "X_tl, y_tl = tl.fit_resample(X_train, y_train)\n",
    "\n",
    "target_count = pd.Series(y_tl).value_counts()\n",
    "print('Class 0:', target_count[0])\n",
    "print('Class 1:', target_count[1])\n",
    "print('Proportion:', round(target_count[0] / target_count[1], 2), ': 1')\n",
    "\n",
    "target_count.plot(kind='bar', title='Count (target)')"
   ]
  },
  {
   "cell_type": "markdown",
   "metadata": {},
   "source": [
    "Podemos observar que, a pesar de haber eliminado los enlaces Tomek, no hemos reducido casi el desequilibrio en el conjunto de datos, por lo que cabe esperar que el modelo siga funcionando mal:"
   ]
  },
  {
   "cell_type": "code",
   "execution_count": 16,
   "metadata": {
    "ExecuteTime": {
     "end_time": "2021-11-03T10:24:05.266499Z",
     "start_time": "2021-11-03T10:23:51.297251Z"
    },
    "id": "BaieCuNfNiVQ"
   },
   "outputs": [
    {
     "data": {
      "text/plain": [
       "<sklearn.metrics._plot.confusion_matrix.ConfusionMatrixDisplay at 0x7fa1eca215b0>"
      ]
     },
     "execution_count": 16,
     "metadata": {},
     "output_type": "execute_result"
    },
    {
     "data": {
      "image/png": "[encoded data removed]",
      "text/plain": [
       "<Figure size 432x288 with 2 Axes>"
      ]
     },
     "metadata": {
      "needs_background": "light"
     },
     "output_type": "display_data"
    }
   ],
   "source": [
    "clf_tomek = RandomForestClassifier(n_jobs=-1)\n",
    "\n",
    "clf_tomek.fit(X_tl, y_tl)\n",
    "ConfusionMatrixDisplay.from_estimator(clf_tomek, X_test, y_test, cmap='Blues', normalize='true')"
   ]
  },
  {
   "cell_type": "markdown",
   "metadata": {
    "id": "nlqlyc2EvsYP"
   },
   "source": [
    "### Under-sampling: cluster centroids\n",
    "\n",
    "Esta técnica consiste en calcular los centroides de los clusters de las observaciones de la clase mayoritaria. Las observaciones que pertenecen al mismo clúster se eliminan del conjunto de datos y todas se sustituyen por una única observación que es el centroide del clúster.\n",
    "\n",
    "Jugando con el parámetro `sampling_strategy` podemos especificar la relación interclase deseada para el nuevo conjunto de datos:"
   ]
  },
  {
   "cell_type": "code",
   "execution_count": 7,
   "metadata": {
    "ExecuteTime": {
     "end_time": "2021-11-05T09:29:19.844046Z",
     "start_time": "2021-11-04T14:55:04.550986Z"
    },
    "id": "b7ILsLPWws_R"
   },
   "outputs": [
    {
     "name": "stdout",
     "output_type": "stream",
     "text": [
      "Class 0: 43387\n",
      "Class 1: 17355\n",
      "Proportion: 2.5 : 1\n"
     ]
    },
    {
     "data": {
      "text/plain": [
       "<AxesSubplot:title={'center':'Count (target)'}>"
      ]
     },
     "execution_count": 7,
     "metadata": {},
     "output_type": "execute_result"
    },
    {
     "data": {
      "image/png": "[encoded data removed]",
      "text/plain": [
       "<Figure size 432x288 with 1 Axes>"
      ]
     },
     "metadata": {
      "needs_background": "light"
     },
     "output_type": "display_data"
    }
   ],
   "source": [
    "from imblearn.under_sampling import ClusterCentroids\n",
    "\n",
    "cc = ClusterCentroids(sampling_strategy=0.4)\n",
    "X_cc, y_cc = cc.fit_resample(X_train, y_train)\n",
    "\n",
    "target_count = pd.Series(y_cc).value_counts()\n",
    "print('Class 0:', target_count[0])\n",
    "print('Class 1:', target_count[1])\n",
    "print('Proportion:', round(target_count[0] / target_count[1], 2), ': 1')\n",
    "\n",
    "target_count.plot(kind='bar', title='Count (target)')"
   ]
  },
  {
   "cell_type": "markdown",
   "metadata": {
    "id": "gYgxm_Hpxnvj"
   },
   "source": [
    "Ajustamos un clasificador utilizando el nuevo conjunto de datos equilibrado:"
   ]
  },
  {
   "cell_type": "code",
   "execution_count": 9,
   "metadata": {
    "ExecuteTime": {
     "end_time": "2021-11-05T09:49:21.252486Z",
     "start_time": "2021-11-05T09:49:08.347546Z"
    },
    "id": "X7FUY-qZxqqp"
   },
   "outputs": [
    {
     "data": {
      "text/plain": [
       "<sklearn.metrics._plot.confusion_matrix.ConfusionMatrixDisplay at 0x7f681a325730>"
      ]
     },
     "execution_count": 9,
     "metadata": {},
     "output_type": "execute_result"
    },
    {
     "data": {
      "image/png": "[encoded data removed]",
      "text/plain": [
       "<Figure size 432x288 with 2 Axes>"
      ]
     },
     "metadata": {
      "needs_background": "light"
     },
     "output_type": "display_data"
    }
   ],
   "source": [
    "from sklearn.metrics import ConfusionMatrixDisplay\n",
    "\n",
    "clf_cc = RandomForestClassifier(n_jobs=-1)\n",
    "\n",
    "clf_cc.fit(X_cc, y_cc)\n",
    "ConfusionMatrixDisplay.from_estimator(clf_cc, X_test, y_test, normalize='true', cmap='Blues')"
   ]
  },
  {
   "cell_type": "markdown",
   "metadata": {
    "id": "daCSz5SKx4FB"
   },
   "source": [
    "### Random oversampling\n",
    "\n",
    "De forma análoga al **submuestreo**, esta técnica duplica las observaciones de la clase minoritaria tantas veces como sea necesario para alcanzar un equilibrio en la distribución de las clases:"
   ]
  },
  {
   "cell_type": "code",
   "execution_count": 10,
   "metadata": {
    "ExecuteTime": {
     "end_time": "2021-11-05T09:53:00.017254Z",
     "start_time": "2021-11-05T09:52:54.619577Z"
    },
    "id": "ktzMASNiyJUR"
   },
   "outputs": [
    {
     "name": "stdout",
     "output_type": "stream",
     "text": [
      "Class 0: 458814\n",
      "Class 1: 458814\n",
      "Proportion: 1.0 : 1\n"
     ]
    },
    {
     "data": {
      "text/plain": [
       "<AxesSubplot:title={'center':'Count (target)'}>"
      ]
     },
     "execution_count": 10,
     "metadata": {},
     "output_type": "execute_result"
    },
    {
     "data": {
      "image/png": "[encoded data removed]",
      "text/plain": [
       "<Figure size 432x288 with 1 Axes>"
      ]
     },
     "metadata": {
      "needs_background": "light"
     },
     "output_type": "display_data"
    }
   ],
   "source": [
    "from imblearn.over_sampling import RandomOverSampler\n",
    "\n",
    "ros = RandomOverSampler()\n",
    "X_ros, y_ros = ros.fit_resample(X_train, y_train)\n",
    "\n",
    "target_count = pd.Series(y_ros).value_counts()\n",
    "print('Class 0:', target_count[0])\n",
    "print('Class 1:', target_count[1])\n",
    "print('Proportion:', round(target_count[0] / target_count[1], 2), ': 1')\n",
    "\n",
    "target_count.plot(kind='bar', title='Count (target)')"
   ]
  },
  {
   "cell_type": "markdown",
   "metadata": {
    "id": "ax4mGIOgyVvc"
   },
   "source": [
    "Calculamos la matriz de confusión de **Random Forest** entrenando el modelo con el conjunto de datos equilibrado que hemos obtenido aplicando un **sobremuestreo aleatorio**:"
   ]
  },
  {
   "cell_type": "code",
   "execution_count": 12,
   "metadata": {
    "ExecuteTime": {
     "end_time": "2021-11-05T09:53:48.291583Z",
     "start_time": "2021-11-05T09:53:46.097584Z"
    },
    "id": "qLo_YE3DyeF5"
   },
   "outputs": [
    {
     "data": {
      "text/plain": [
       "<sklearn.metrics._plot.confusion_matrix.ConfusionMatrixDisplay at 0x7f681a332190>"
      ]
     },
     "execution_count": 12,
     "metadata": {},
     "output_type": "execute_result"
    },
    {
     "data": {
      "image/png": "[encoded data removed]",
      "text/plain": [
       "<Figure size 432x288 with 2 Axes>"
      ]
     },
     "metadata": {
      "needs_background": "light"
     },
     "output_type": "display_data"
    }
   ],
   "source": [
    "clf_ros = RandomForestClassifier(n_jobs=-1)\n",
    "\n",
    "clf_ros.fit(X_cc, y_cc)\n",
    "ConfusionMatrixDisplay.from_estimator(clf_ros, X_test, y_test, normalize='true', cmap='Blues')"
   ]
  },
  {
   "cell_type": "markdown",
   "metadata": {
    "id": "2Sst0QKuyrOu"
   },
   "source": [
    "### Over-sampling: SMOTE\n",
    "\n",
    "**SMOTE (Synthetic Minority Oversampling TEchnique)** es una técnica que consiste en crear observaciones sintéticas para la clase minoritaria, a partir de las que ya existen. Funciona eligiendo aleatoriamente un punto de la clase minoritaria y calculando los vecinos más cercanos para este punto. Los puntos sintéticos se añaden entre el punto elegido y sus vecinos.\n",
    "\n",
    "![](https://raw.githubusercontent.com/rafjaa/machine_learning_fecib/master/src/static/img/smote.png)"
   ]
  },
  {
   "cell_type": "code",
   "execution_count": 13,
   "metadata": {
    "ExecuteTime": {
     "end_time": "2021-11-05T09:54:52.517561Z",
     "start_time": "2021-11-05T09:54:45.570613Z"
    },
    "id": "28_R-h0dzIbB"
   },
   "outputs": [
    {
     "name": "stdout",
     "output_type": "stream",
     "text": [
      "Class 0: 458814\n",
      "Class 1: 458814\n",
      "Proportion: 1.0 : 1\n"
     ]
    },
    {
     "data": {
      "text/plain": [
       "<AxesSubplot:title={'center':'Count (target)'}>"
      ]
     },
     "execution_count": 13,
     "metadata": {},
     "output_type": "execute_result"
    },
    {
     "data": {
      "image/png": "[encoded data removed]",
      "text/plain": [
       "<Figure size 432x288 with 1 Axes>"
      ]
     },
     "metadata": {
      "needs_background": "light"
     },
     "output_type": "display_data"
    }
   ],
   "source": [
    "from imblearn.over_sampling import SMOTE\n",
    "\n",
    "smote = SMOTE(sampling_strategy='minority')\n",
    "X_sm, y_sm = smote.fit_resample(X_train, y_train)\n",
    "\n",
    "target_count = pd.Series(y_sm).value_counts()\n",
    "print('Class 0:', target_count[0])\n",
    "print('Class 1:', target_count[1])\n",
    "print('Proportion:', round(target_count[0] / target_count[1], 2), ': 1')\n",
    "\n",
    "target_count.plot(kind='bar', title='Count (target)')"
   ]
  },
  {
   "cell_type": "markdown",
   "metadata": {
    "id": "3lJTiyFIzYQL"
   },
   "source": [
    "Evaluamos el rendimiento del modelo una vez realizado el **sobremuestreo SMOTE**:"
   ]
  },
  {
   "cell_type": "code",
   "execution_count": 14,
   "metadata": {
    "ExecuteTime": {
     "end_time": "2021-11-05T09:57:32.675103Z",
     "start_time": "2021-11-05T09:54:59.112382Z"
    },
    "id": "PE0rgHzYzdW6"
   },
   "outputs": [
    {
     "data": {
      "text/plain": [
       "<sklearn.metrics._plot.confusion_matrix.ConfusionMatrixDisplay at 0x7f68189693d0>"
      ]
     },
     "execution_count": 14,
     "metadata": {},
     "output_type": "execute_result"
    },
    {
     "data": {
      "image/png": "[encoded data removed]",
      "text/plain": [
       "<Figure size 432x288 with 2 Axes>"
      ]
     },
     "metadata": {
      "needs_background": "light"
     },
     "output_type": "display_data"
    }
   ],
   "source": [
    "clf_sm = RandomForestClassifier(n_jobs=-1)\n",
    "\n",
    "clf_sm.fit(X_sm, y_sm)\n",
    "ConfusionMatrixDisplay.from_estimator(clf_sm, X_test, y_test, normalize='true', cmap='Blues')"
   ]
  },
  {
   "cell_type": "markdown",
   "metadata": {
    "id": "Err4kTSVzoID"
   },
   "source": [
    "---\n",
    "\n",
    "Creado por **Raúl Lara Cabrera** (raul.lara@upm.es)\n",
    "\n",
    "<img src=\"https://licensebuttons.net/l/by-nc-sa/3.0/88x31.png\">"
   ]
  }
 ],
 "metadata": {
  "colab": {
   "authorship_tag": "ABX9TyOV5ZhKRMcWhIV9vT9gloQi",
   "collapsed_sections": [],
   "name": "08 - Imbalanced Learning.ipynb",
   "private_outputs": true,
   "provenance": [
    {
     "file_id": "1DpYFhO7DYvSXFxDwaPWPhYl67KBeB7dn",
     "timestamp": 1621418731100
    }
   ]
  },
  "kernelspec": {
   "display_name": "Python 3",
   "language": "python",
   "name": "python3"
  },
  "language_info": {
   "codemirror_mode": {
    "name": "ipython",
    "version": 3
   },
   "file_extension": ".py",
   "mimetype": "text/x-python",
   "name": "python",
   "nbconvert_exporter": "python",
   "pygments_lexer": "ipython3",
   "version": "3.8.5"
  },
  "toc": {
   "base_numbering": 1,
   "nav_menu": {},
   "number_sections": false,
   "sideBar": true,
   "skip_h1_title": false,
   "title_cell": "Table of Contents",
   "title_sidebar": "Contents",
   "toc_cell": false,
   "toc_position": {},
   "toc_section_display": true,
   "toc_window_display": false
  }
 },
 "nbformat": 4,
 "nbformat_minor": 1
}
