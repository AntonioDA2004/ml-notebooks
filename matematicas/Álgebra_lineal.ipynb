{
  "nbformat": 4,
  "nbformat_minor": 0,
  "metadata": {
    "kernelspec": {
      "name": "python3",
      "display_name": "Python 3"
    },
    "colab": {
      "name": "Álgebra lineal.ipynb",
      "provenance": [],
      "collapsed_sections": [
        "Crn33RU3xX56",
        "L8G5K-RBxX8A"
      ]
    }
  },
  "cells": [
    {
      "cell_type": "code",
      "metadata": {
        "id": "wi8CHSWD0PCP",
        "colab_type": "code",
        "colab": {}
      },
      "source": [
        "# Inicialización del setup\n",
        "%matplotlib inline\n",
        "import matplotlib.pyplot as plt\n",
        "\n",
        "from sympy import *\n",
        "init_printing()"
      ],
      "execution_count": 1,
      "outputs": []
    },
    {
      "cell_type": "markdown",
      "metadata": {
        "id": "-2y1Vn4yxX2A",
        "colab_type": "text"
      },
      "source": [
        "# 0. Introducción\n",
        "\n",
        "En el 'espacio', las estructuras que mejor conocemos y que más fácilmente podemos manejar son las estructuras lineales. Estas vienen dadas por soluciones a sistemas de ecuaciones lineales.\n",
        "\n",
        "Por ejemplo, en el plano $\\mathbb{R}^2$, podemos tener la recta\n",
        "\n",
        "$$\n",
        "    x + 2y=0.\n",
        "$$"
      ]
    },
    {
      "cell_type": "code",
      "metadata": {
        "id": "IVB7ty2ZxX2D",
        "colab_type": "code",
        "colab": {
          "base_uri": "https://localhost:8080/",
          "height": 38
        },
        "outputId": "1ab050b6-59e8-4ec8-da4c-341657816645"
      },
      "source": [
        "x, y = symbols(\"x, y\")\n",
        "\n",
        "\n",
        "x + 2*y"
      ],
      "execution_count": 2,
      "outputs": [
        {
          "output_type": "execute_result",
          "data": {
            "image/png": "[encoded data removed]",
            "text/latex": "$$x + 2 y$$",
            "text/plain": [
              "x + 2⋅y"
            ]
          },
          "metadata": {
            "tags": []
          },
          "execution_count": 2
        }
      ]
    },
    {
      "cell_type": "code",
      "metadata": {
        "id": "nOKvpb9TxX2Q",
        "colab_type": "code",
        "colab": {
          "base_uri": "https://localhost:8080/",
          "height": 497
        },
        "outputId": "eb6d7bec-2290-48ce-8864-4d8e0b8c203e"
      },
      "source": [
        "#f1 = lambdify([x], (x + pi)**2, 'numpy')\n",
        "\n",
        "#implicit_plot(x + 2*y, (x, -2, 2), (y, -2, 2))\n",
        "\n",
        "plot_implicit(x+2*y, (x, -4, 4), (y, -4, 4))"
      ],
      "execution_count": 3,
      "outputs": [
        {
          "output_type": "stream",
          "text": [
            "/usr/local/lib/python3.6/dist-packages/sympy/plotting/plot.py:890: MatplotlibDeprecationWarning: \n",
            "The set_smart_bounds function was deprecated in Matplotlib 3.2 and will be removed two minor releases later.\n",
            "  self.ax.spines['left'].set_smart_bounds(True)\n",
            "/usr/local/lib/python3.6/dist-packages/sympy/plotting/plot.py:891: MatplotlibDeprecationWarning: \n",
            "The set_smart_bounds function was deprecated in Matplotlib 3.2 and will be removed two minor releases later.\n",
            "  self.ax.spines['bottom'].set_smart_bounds(False)\n",
            "/usr/local/lib/python3.6/dist-packages/sympy/plotting/plot.py:930: MatplotlibDeprecationWarning: \n",
            "The set_smart_bounds function was deprecated in Matplotlib 3.2 and will be removed two minor releases later.\n",
            "  self.ax.spines['left'].set_smart_bounds(False)\n",
            "/usr/local/lib/python3.6/dist-packages/sympy/plotting/plot.py:931: MatplotlibDeprecationWarning: \n",
            "The set_smart_bounds function was deprecated in Matplotlib 3.2 and will be removed two minor releases later.\n",
            "  self.ax.spines['bottom'].set_smart_bounds(False)\n"
          ],
          "name": "stderr"
        },
        {
          "output_type": "display_data",
          "data": {
            "image/png": "[encoded data removed]",
            "text/plain": [
              "<Figure size 432x288 with 1 Axes>"
            ]
          },
          "metadata": {
            "tags": [],
            "needs_background": "light"
          }
        },
        {
          "output_type": "execute_result",
          "data": {
            "text/plain": [
              "<sympy.plotting.plot.Plot at 0x7f9d3b0996d8>"
            ]
          },
          "metadata": {
            "tags": []
          },
          "execution_count": 3
        }
      ]
    },
    {
      "cell_type": "markdown",
      "metadata": {
        "id": "3t275k1HxX2f",
        "colab_type": "text"
      },
      "source": [
        "Esta es una 'recta vectorial', porque pasa por el $(0,0)$. Del mismo modo, podemos tener rectas afines como la siguiente\n",
        "\n",
        "$$\n",
        "    x + 2y = -5\n",
        "$$"
      ]
    },
    {
      "cell_type": "code",
      "metadata": {
        "id": "qrhwtlJ_xX2h",
        "colab_type": "code",
        "colab": {
          "base_uri": "https://localhost:8080/",
          "height": 490
        },
        "outputId": "8bcdb2d2-9061-465d-d054-a074121ecb66"
      },
      "source": [
        "plot_implicit(x + 2*y + 5, (x, -5, 5), (y, -5, 5))"
      ],
      "execution_count": 4,
      "outputs": [
        {
          "output_type": "stream",
          "text": [
            "/usr/local/lib/python3.6/dist-packages/sympy/plotting/plot.py:890: MatplotlibDeprecationWarning: \n",
            "The set_smart_bounds function was deprecated in Matplotlib 3.2 and will be removed two minor releases later.\n",
            "  self.ax.spines['left'].set_smart_bounds(True)\n",
            "/usr/local/lib/python3.6/dist-packages/sympy/plotting/plot.py:891: MatplotlibDeprecationWarning: \n",
            "The set_smart_bounds function was deprecated in Matplotlib 3.2 and will be removed two minor releases later.\n",
            "  self.ax.spines['bottom'].set_smart_bounds(False)\n",
            "/usr/local/lib/python3.6/dist-packages/sympy/plotting/plot.py:930: MatplotlibDeprecationWarning: \n",
            "The set_smart_bounds function was deprecated in Matplotlib 3.2 and will be removed two minor releases later.\n",
            "  self.ax.spines['left'].set_smart_bounds(False)\n",
            "/usr/local/lib/python3.6/dist-packages/sympy/plotting/plot.py:931: MatplotlibDeprecationWarning: \n",
            "The set_smart_bounds function was deprecated in Matplotlib 3.2 and will be removed two minor releases later.\n",
            "  self.ax.spines['bottom'].set_smart_bounds(False)\n"
          ],
          "name": "stderr"
        },
        {
          "output_type": "display_data",
          "data": {
            "image/png": "[encoded data removed]",
            "text/plain": [
              "<Figure size 432x288 with 1 Axes>"
            ]
          },
          "metadata": {
            "tags": [],
            "needs_background": "light"
          }
        },
        {
          "output_type": "execute_result",
          "data": {
            "text/plain": [
              "<sympy.plotting.plot.Plot at 0x7f9d3aa1b470>"
            ]
          },
          "metadata": {
            "tags": []
          },
          "execution_count": 4
        }
      ]
    },
    {
      "cell_type": "markdown",
      "metadata": {
        "id": "CLzYIVlsxX2p",
        "colab_type": "text"
      },
      "source": [
        "En general, las rectas del plano son de la forma\n",
        "\n",
        "$$\n",
        "    a x + by = c\n",
        "$$\n",
        "\n",
        "para ciertos $a,b \\in \\mathbb{R}$.\n",
        "\n",
        "Ahora bien, si juntamos dos ecuaciones, el resultado que tenemos es el de cortar dos planos, por lo que obtenemos puntos.\n",
        "\n",
        "$$\n",
        "    \\left\\{\\begin{matrix} x+2y=-5 \\\\ x + y = -2 \\end{matrix} \\right. .\n",
        "$$"
      ]
    },
    {
      "cell_type": "code",
      "metadata": {
        "id": "zzF4j9LaxX2r",
        "colab_type": "code",
        "colab": {
          "base_uri": "https://localhost:8080/",
          "height": 471
        },
        "outputId": "e9e50c31-247c-43fa-fdd1-721532a1129d"
      },
      "source": [
        "p1 = plot_implicit(x + 2*y + 5, (x, -5, 5), (y, -5, 5), show=False)\n",
        "p2 = plot_implicit(x + y + 2, (x, -5, 5), (y, -5, 5), line_color = 'red', show=False)\n",
        "p1.append(p2[0])\n",
        "p1.show()"
      ],
      "execution_count": 5,
      "outputs": [
        {
          "output_type": "stream",
          "text": [
            "/usr/local/lib/python3.6/dist-packages/sympy/plotting/plot.py:890: MatplotlibDeprecationWarning: \n",
            "The set_smart_bounds function was deprecated in Matplotlib 3.2 and will be removed two minor releases later.\n",
            "  self.ax.spines['left'].set_smart_bounds(True)\n",
            "/usr/local/lib/python3.6/dist-packages/sympy/plotting/plot.py:891: MatplotlibDeprecationWarning: \n",
            "The set_smart_bounds function was deprecated in Matplotlib 3.2 and will be removed two minor releases later.\n",
            "  self.ax.spines['bottom'].set_smart_bounds(False)\n",
            "/usr/local/lib/python3.6/dist-packages/sympy/plotting/plot.py:930: MatplotlibDeprecationWarning: \n",
            "The set_smart_bounds function was deprecated in Matplotlib 3.2 and will be removed two minor releases later.\n",
            "  self.ax.spines['left'].set_smart_bounds(False)\n",
            "/usr/local/lib/python3.6/dist-packages/sympy/plotting/plot.py:931: MatplotlibDeprecationWarning: \n",
            "The set_smart_bounds function was deprecated in Matplotlib 3.2 and will be removed two minor releases later.\n",
            "  self.ax.spines['bottom'].set_smart_bounds(False)\n"
          ],
          "name": "stderr"
        },
        {
          "output_type": "display_data",
          "data": {
            "image/png": "[encoded data removed]",
            "text/plain": [
              "<Figure size 432x288 with 1 Axes>"
            ]
          },
          "metadata": {
            "tags": [],
            "needs_background": "light"
          }
        }
      ]
    },
    {
      "cell_type": "markdown",
      "metadata": {
        "id": "RXU6fkmoxX2x",
        "colab_type": "text"
      },
      "source": [
        "El punto de corte no es sino la solución del sistema de ecuaciones."
      ]
    },
    {
      "cell_type": "code",
      "metadata": {
        "id": "HT5gVv8xxX2y",
        "colab_type": "code",
        "colab": {
          "base_uri": "https://localhost:8080/",
          "height": 38
        },
        "outputId": "8ebb3f56-1279-4e1e-85f6-a12cbf24e6a2"
      },
      "source": [
        "solve([x + 2*y + 5, x + y + 2], x, y)"
      ],
      "execution_count": 6,
      "outputs": [
        {
          "output_type": "execute_result",
          "data": {
            "image/png": "[encoded data removed]",
            "text/latex": "$$\\left \\{ x : 1, \\quad y : -3\\right \\}$$",
            "text/plain": [
              "{x: 1, y: -3}"
            ]
          },
          "metadata": {
            "tags": []
          },
          "execution_count": 6
        }
      ]
    },
    {
      "cell_type": "markdown",
      "metadata": {
        "id": "yNYHL0YdxX3K",
        "colab_type": "text"
      },
      "source": [
        "En dimensión mayor, la situación es análoga, pero ahora tenemos 'más espacio'. Por ejemplo, en el espacio tridimensional $\\mathbb{R}^3$, el análogo de la recta es el plano.\n",
        "\n",
        "$$\n",
        "    x - 2y + z = 0 \\Leftrightarrow z = -x + 2y\n",
        "$$"
      ]
    },
    {
      "cell_type": "markdown",
      "metadata": {
        "id": "y9awdBY7xX3T",
        "colab_type": "text"
      },
      "source": [
        "En este caso, una recta se obtiene como la intersección de dos planos\n",
        "\n",
        "$$\n",
        "    \\left\\{\\begin{matrix} x-2y+z=0 \\\\ x + y + 2z = 0 \\end{matrix} \\right. \\Rightarrow \\left\\{\\begin{matrix} x=5y \\\\ z = -3y \\end{matrix} \\right..\n",
        "$$"
      ]
    },
    {
      "cell_type": "code",
      "metadata": {
        "id": "dDcaYE2AxX3V",
        "colab_type": "code",
        "colab": {
          "base_uri": "https://localhost:8080/",
          "height": 38
        },
        "outputId": "4f2f1aca-f55f-40aa-e30c-04d259ad5fc9"
      },
      "source": [
        "z = Symbol(\"z\")\n",
        "\n",
        "solve([x - 2*y + z, x + y + 2*z], z, x, y)"
      ],
      "execution_count": 7,
      "outputs": [
        {
          "output_type": "execute_result",
          "data": {
            "image/png": "[encoded data removed]",
            "text/latex": "$$\\left \\{ x : 5 y, \\quad z : - 3 y\\right \\}$$",
            "text/plain": [
              "{x: 5⋅y, z: -3⋅y}"
            ]
          },
          "metadata": {
            "tags": []
          },
          "execution_count": 7
        }
      ]
    },
    {
      "cell_type": "markdown",
      "metadata": {
        "id": "FWTGjEoRxX3k",
        "colab_type": "text"
      },
      "source": [
        "De este modo, los puntos se obtendrían como la intersección de tres planos, es decir, como la solución a un sistema de tres ecuaciones.\n",
        "\n",
        "El objetivo de álgebra lineal es entender estos objetos geométricos en más dimensiones e, incluso, en espacios más generales conocidos como **espacios vectoriales**."
      ]
    },
    {
      "cell_type": "markdown",
      "metadata": {
        "id": "C_8dyyMZxX3m",
        "colab_type": "text"
      },
      "source": [
        "## 0.1. Clasificador de Joke-Toy\n",
        "\n",
        "Un clasificador muy sencillo que puede construirse únicamente sabiendo qué es una recta es el clasificador de Joke-Toy. Suponemos que tenemos dos nubes de puntos de dos clases distintas."
      ]
    },
    {
      "cell_type": "code",
      "metadata": {
        "id": "azxjslQ9xX3n",
        "colab_type": "code",
        "colab": {
          "base_uri": "https://localhost:8080/",
          "height": 265
        },
        "outputId": "d8e7d84c-4e8c-4fd8-94e5-533b6b76a9cd"
      },
      "source": [
        "import numpy as np\n",
        "import matplotlib.pyplot as plt\n",
        "\n",
        "mean1 = [20, 20]\n",
        "cov1 = [[1, 0], [0, 10]]\n",
        "sample1 = np.random.multivariate_normal(mean1, cov1, int(5000))\n",
        "plt.plot(sample1[:,0], sample1[:,1], 'x', color='blue')\n",
        "\n",
        "mean2 = [-20, -25]\n",
        "cov2 = [[10, 0], [0, 5]]\n",
        "sample2 = np.random.multivariate_normal(mean2, cov2, int(5000))\n",
        "plt.plot(sample2[:,0], sample2[:,1], 'x', color='red')\n",
        "\n",
        "plt.show()"
      ],
      "execution_count": 8,
      "outputs": [
        {
          "output_type": "display_data",
          "data": {
            "image/png": "[encoded data removed]",
            "text/plain": [
              "<Figure size 432x288 with 1 Axes>"
            ]
          },
          "metadata": {
            "tags": [],
            "needs_background": "light"
          }
        }
      ]
    },
    {
      "cell_type": "markdown",
      "metadata": {
        "id": "dhUEhqkzxX3v",
        "colab_type": "text"
      },
      "source": [
        "La mejor forma de 'resumir' la información de ambas nubes es quedarse con sus centros de gravedad (sus medias)."
      ]
    },
    {
      "cell_type": "code",
      "metadata": {
        "id": "bHtS-srQxX3x",
        "colab_type": "code",
        "colab": {
          "base_uri": "https://localhost:8080/",
          "height": 265
        },
        "outputId": "a801f784-7281-40ed-d24f-a33d36998718"
      },
      "source": [
        "center1 = sample1.mean(axis=0)\n",
        "center2 = sample2.mean(axis=0)\n",
        "\n",
        "plt.plot(sample1[:,0], sample1[:,1], 'x', color='blue')\n",
        "plt.plot(sample2[:,0], sample2[:,1], 'x', color='red')\n",
        "plt.plot(center1[0], center1[1], 'o', color='black')\n",
        "plt.plot(center2[0], center2[1], 'o', color='green')\n",
        "plt.show()"
      ],
      "execution_count": 9,
      "outputs": [
        {
          "output_type": "display_data",
          "data": {
            "image/png": "[encoded data removed]",
            "text/plain": [
              "<Figure size 432x288 with 1 Axes>"
            ]
          },
          "metadata": {
            "tags": [],
            "needs_background": "light"
          }
        }
      ]
    },
    {
      "cell_type": "markdown",
      "metadata": {
        "id": "Sby9W5gzxX34",
        "colab_type": "text"
      },
      "source": [
        "Una vez tenemos los centros, $c_1$ y $c_2$, la recta que los une es la recta que pasa por $c_1$ y $c_2$. De este modo, la familia de rectas que es perpendicular a la recta que une $c_1$ y $c_2$, o lo que es igual, al vector $c_1-c_2$. Así, tienen la forma:\n",
        "\n",
        "$$\n",
        "    (c_1 - c_2)_x x + (c_1 - c_2)_y y + a = 0\n",
        "$$\n",
        "\n",
        "para algún $a \\in \\mathbb{R}$."
      ]
    },
    {
      "cell_type": "code",
      "metadata": {
        "id": "x5wyj8cCxX37",
        "colab_type": "code",
        "colab": {
          "base_uri": "https://localhost:8080/",
          "height": 285
        },
        "outputId": "b71d804a-366c-41c3-d131-7c8ce1d7a1a4"
      },
      "source": [
        "direccion = center1 - center2\n",
        "\n",
        "step = np.linspace(-25, 25)\n",
        "\n",
        "plt.plot(step, (-direccion[0]*step-500)/direccion[1], color = 'yellow')\n",
        "plt.plot(step, (-direccion[0]*step)/direccion[1], color = 'purple')\n",
        "plt.plot(step, (-direccion[0]*step+500)/direccion[1], color = 'orange')\n",
        "\n",
        "plt.plot(sample1[:,0], sample1[:,1], 'x', color='blue')\n",
        "plt.plot(sample2[:,0], sample2[:,1], 'x', color='red')\n",
        "plt.plot(center1[0], center1[1], 'o', color='black')\n",
        "plt.plot(center2[0], center2[1], 'o', color='green')\n",
        "\n",
        "plt.axis('equal')\n",
        "plt.plot()"
      ],
      "execution_count": 10,
      "outputs": [
        {
          "output_type": "execute_result",
          "data": {
            "image/png": "[encoded data removed]",
            "text/latex": "$$\\left [ \\right ]$$",
            "text/plain": [
              "[]"
            ]
          },
          "metadata": {
            "tags": []
          },
          "execution_count": 10
        },
        {
          "output_type": "display_data",
          "data": {
            "image/png": "[encoded data removed]",
            "text/plain": [
              "<Figure size 432x288 with 1 Axes>"
            ]
          },
          "metadata": {
            "tags": [],
            "needs_background": "light"
          }
        }
      ]
    },
    {
      "cell_type": "markdown",
      "metadata": {
        "id": "QJnc7nuPxX4F",
        "colab_type": "text"
      },
      "source": [
        "Para encontrar la mejor de todas las rectas de esta familia, podemos por ejemplo imponer que pase por el punto medio de $c_1$ y $c_2$, $m = (c_1 + c_2)/2$. De este modo, $a$ tiene que satisfacer\n",
        "\n",
        "$$\n",
        "    (c_1 - c_2)_x m_x + (c_1 - c_2)_y m_y + a = 0\n",
        "$$\n",
        "\n",
        "lo que, resolviendo, permite obtener $a$ y la recta separadora completa."
      ]
    },
    {
      "cell_type": "code",
      "metadata": {
        "id": "kzFmen6dxX4G",
        "colab_type": "code",
        "colab": {
          "base_uri": "https://localhost:8080/",
          "height": 38
        },
        "outputId": "87bc7c9a-da0e-4de2-e206-12c6c08cb980"
      },
      "source": [
        "a = Symbol(\"a\")\n",
        "\n",
        "mid_point = (center1 + center2)/2\n",
        "\n",
        "a0 = solve([direccion[0]*mid_point[0] + direccion[1]*mid_point[1] + a], a, dict=True)\n",
        "a0"
      ],
      "execution_count": 11,
      "outputs": [
        {
          "output_type": "execute_result",
          "data": {
            "image/png": "[encoded data removed]",
            "text/latex": "$$\\left [ \\left \\{ a : 111.847778942126\\right \\}\\right ]$$",
            "text/plain": [
              "[{a: 111.847778942126}]"
            ]
          },
          "metadata": {
            "tags": []
          },
          "execution_count": 11
        }
      ]
    },
    {
      "cell_type": "code",
      "metadata": {
        "id": "LNROpkd_xX4O",
        "colab_type": "code",
        "colab": {
          "base_uri": "https://localhost:8080/",
          "height": 38
        },
        "outputId": "09095e32-c2b2-4d96-d708-80586fd348ee"
      },
      "source": [
        "mid_point = (center1 + center2)/2\n",
        "\n",
        "separator = direccion[0]*x + direccion[1]*y + a0[0][a].n()\n",
        "\n",
        "separator"
      ],
      "execution_count": 12,
      "outputs": [
        {
          "output_type": "execute_result",
          "data": {
            "image/png": "[encoded data removed]",
            "text/latex": "$$39.9688317790106 x + 44.9916020261318 y + 111.847778942126$$",
            "text/plain": [
              "39.9688317790106⋅x + 44.9916020261318⋅y + 111.847778942126"
            ]
          },
          "metadata": {
            "tags": []
          },
          "execution_count": 12
        }
      ]
    },
    {
      "cell_type": "code",
      "metadata": {
        "id": "9Xw-IG_O9VpU",
        "colab_type": "code",
        "colab": {
          "base_uri": "https://localhost:8080/",
          "height": 37
        },
        "outputId": "0c83f6c5-31d0-4058-83c2-49173efa9029"
      },
      "source": [
        "solve(separator, y, dict=True)[0][y].subs(x, 10)"
      ],
      "execution_count": 13,
      "outputs": [
        {
          "output_type": "execute_result",
          "data": {
            "image/png": "[encoded data removed]",
            "text/latex": "$$-11.3695906279382$$",
            "text/plain": [
              "-11.3695906279382"
            ]
          },
          "metadata": {
            "tags": []
          },
          "execution_count": 13
        }
      ]
    },
    {
      "cell_type": "code",
      "metadata": {
        "id": "GTJjjh1axX4b",
        "colab_type": "code",
        "colab": {
          "base_uri": "https://localhost:8080/",
          "height": 285
        },
        "outputId": "3d19f1e2-ae8d-4022-ddad-b15172ce7e55"
      },
      "source": [
        "plt.plot(sample1[:,0], sample1[:,1], 'x', color='blue')\n",
        "plt.plot(sample2[:,0], sample2[:,1], 'x', color='red')\n",
        "plt.plot(center1[0], center1[1], 'o', color='black')\n",
        "plt.plot(center2[0], center2[1], 'o', color='green')\n",
        "\n",
        "# plt.plot(step, np.array([solve(separator, y, solution_dict=True)[0][y].subs(x == x0) for x0 in step]), color = 'orange')\n",
        "plt.plot(step, np.array([solve(separator, y, dict=True)[0][y].subs(x, x0) for x0 in step]), color = 'orange')\n",
        "\n",
        "plt.axis('equal')\n",
        "plt.plot()"
      ],
      "execution_count": 14,
      "outputs": [
        {
          "output_type": "execute_result",
          "data": {
            "image/png": "[encoded data removed]",
            "text/latex": "$$\\left [ \\right ]$$",
            "text/plain": [
              "[]"
            ]
          },
          "metadata": {
            "tags": []
          },
          "execution_count": 14
        },
        {
          "output_type": "display_data",
          "data": {
            "image/png": "[encoded data removed]",
            "text/plain": [
              "<Figure size 432x288 with 1 Axes>"
            ]
          },
          "metadata": {
            "tags": [],
            "needs_background": "light"
          }
        }
      ]
    },
    {
      "cell_type": "markdown",
      "metadata": {
        "id": "BrBOjCN2xX4i",
        "colab_type": "text"
      },
      "source": [
        "## 0.2 Clasificador de Joke-Toy en dimensión general"
      ]
    },
    {
      "cell_type": "code",
      "metadata": {
        "id": "nZMikUtHxX4i",
        "colab_type": "code",
        "colab": {}
      },
      "source": [
        "def joke_toy(sample1, sample2):\n",
        "    center1 = sample1.mean(axis=0)\n",
        "    center2 = sample2.mean(axis=0)\n",
        "\n",
        "    direction = center1 - center2\n",
        "    mid_point = (center1 + center2)/2\n",
        "    intercept = -sum([direction[i]*mid_point[i] for i in range(len(direction))])\n",
        "    \n",
        "    string_vars = ''\n",
        "    for i in range(1,len(direction)+1):\n",
        "        string_vars += ' x_%s'%(i)\n",
        "    \n",
        "    varibs = var(string_vars)\n",
        "    \n",
        "    return sum([direction[i]*varibs[i] for i in range(len(direction))]) + intercept"
      ],
      "execution_count": 15,
      "outputs": []
    },
    {
      "cell_type": "code",
      "metadata": {
        "id": "Qi49AxE2xX4n",
        "colab_type": "code",
        "colab": {
          "base_uri": "https://localhost:8080/",
          "height": 38
        },
        "outputId": "8b123cf9-80cc-4e03-d8e4-9ad8db739d2e"
      },
      "source": [
        "joke_toy(sample1, sample2)"
      ],
      "execution_count": 16,
      "outputs": [
        {
          "output_type": "execute_result",
          "data": {
            "image/png": "[encoded data removed]",
            "text/latex": "$$39.9688317790106 x_{1} + 44.9916020261318 x_{2} + 111.847778942126$$",
            "text/plain": [
              "39.9688317790106⋅x₁ + 44.9916020261318⋅x₂ + 111.847778942126"
            ]
          },
          "metadata": {
            "tags": []
          },
          "execution_count": 16
        }
      ]
    },
    {
      "cell_type": "code",
      "metadata": {
        "id": "4cyBxRHrxX4s",
        "colab_type": "code",
        "colab": {}
      },
      "source": [
        "import numpy as np\n",
        "import matplotlib.pyplot as plt\n",
        "\n",
        "mean1 = [20, 20, 15]\n",
        "cov1 = [[1, 0,0], [0, 10, 0],[0, 0, 5]]\n",
        "sample1 = np.random.multivariate_normal(mean1, cov1, int(500))\n",
        "\n",
        "mean2 = [-20, -25, -12]\n",
        "cov2 = [[10, 0, 0], [0, 5, 0],[0, 0, 12]]\n",
        "sample2 = np.random.multivariate_normal(mean2, cov2, int(500))"
      ],
      "execution_count": 17,
      "outputs": []
    },
    {
      "cell_type": "code",
      "metadata": {
        "id": "8u2QNar9xX40",
        "colab_type": "code",
        "colab": {
          "base_uri": "https://localhost:8080/",
          "height": 38
        },
        "outputId": "ff1c548b-03b8-40ba-8679-ae85582bfa86"
      },
      "source": [
        "separator = joke_toy(sample1, sample2)\n",
        "separator"
      ],
      "execution_count": 18,
      "outputs": [
        {
          "output_type": "execute_result",
          "data": {
            "image/png": "[encoded data removed]",
            "text/latex": "$$39.9557019276872 x_{1} + 45.0934855344654 x_{2} + 26.9479272121834 x_{3} + 67.41527352516$$",
            "text/plain": [
              "39.9557019276872⋅x₁ + 45.0934855344654⋅x₂ + 26.9479272121834⋅x₃ + 67.415273525\n",
              "16"
            ]
          },
          "metadata": {
            "tags": []
          },
          "execution_count": 18
        }
      ]
    },
    {
      "cell_type": "markdown",
      "metadata": {
        "id": "DriVwBGI-2E8",
        "colab_type": "text"
      },
      "source": [
        "![](https://i.imgur.com/TYhrVtb.png)"
      ]
    },
    {
      "cell_type": "markdown",
      "metadata": {
        "id": "TO2m39hVxX48",
        "colab_type": "text"
      },
      "source": [
        "# 1. Conceptos básicos\n",
        "## 1.1. Espacios vectoriales\n",
        "\n",
        "**Definición.** Un espacio vectorial es un conjunto $V$ con dos operaciones, denotadas $+$ y $\\cdot$.\n",
        "* La operación $+$, llamada suma, toma dos vectores $v,w \\in V$ y devuelve un vector $v+w$.\n",
        "* La operación $\\cdot$, llamada producto por escalares, toma un número $\\lambda \\in \\mathbb{R}$ y un vector $v$ y devuelve un vector $\\lambda \\cdot v \\in V$.\n",
        "\n",
        "**Ejemplos**\n",
        "* $\\mathbb{R}^n$ con la suma y producto componente a componente.\n",
        "* Soluciones de sistemas de ecuaciones.\n",
        "\n",
        "**Observación.** También se pueden considerar espacios vectoriales sobre $\\mathbb{C}$ o, en general, sobre cualquier cuerpo.\n",
        "\n",
        "## 1.2. Subespacios vectoriales\n",
        "\n",
        "Consideremos el sistema\n",
        "$$\n",
        "\\left\\{\\begin{matrix}x+y=0 \\\\ 2x+2y=0\\end{matrix}\\right.\n",
        "$$\n",
        "\n",
        "Este sistema tiene por soluciones el conjunto $S$ de los puntos $(x,y) \\in \\mathbb{R}^2$ de la forma $(x,y)=(a, -a)$. Este conjunto es un espacio vectorial: Si yo cojo dos vectores $v = (a, -a)$ y $w = (b, -b)$ entonces $v+w=(a+b,-(a+b)) \\in S$ y $\\lambda v=(\\lambda a, -\\lambda a) \\in S$.\n",
        "\n",
        "De hecho, se tiene que $S$ es un subconjunto del espacio vectorial $\\mathbb{R}^2$ y hereda sus operaciones. Este fenómeno se llama *subespacio vectorial*.\n",
        "\n",
        "**Ejercicios.**\n",
        "* El espacio de polinomios, $\\mathbb{R}[x]$, con la suma de polinomios y el producto por números es un espacio vectorial.\n",
        "* El espacio de polinomios de grado menor o igual que $n$, $\\mathbb{R}^{\\leq n}[x]$, es un espacio vectorial."
      ]
    },
    {
      "cell_type": "markdown",
      "metadata": {
        "id": "9oWpT0S2xX49",
        "colab_type": "text"
      },
      "source": [
        "## 1.3. Bases\n",
        "\n",
        "**Definición** Sea $V$ un espacio vectorial. Dado un subconjunto finito $\\left\\{b_1, \\ldots, b_d\\right\\} \\subseteq V$, se dice que es\n",
        "* *Sistema de generadores* si, para todo $v \\in V$, existen $\\lambda_1, \\ldots, \\lambda_d \\in \\mathbb{R}$ tales que\n",
        "$$\n",
        "    v = \\lambda_1 b_1 + \\ldots + \\lambda_d b_d.\n",
        "$$\n",
        "* *Linealmente independiente* si, para cualesquiera $\\lambda_1, \\ldots, \\lambda_d \\in \\mathbb{R}$ tales que\n",
        "$$\n",
        "    \\lambda_1 b_1 + \\ldots + \\lambda_d b_d = 0 \\Rightarrow \\lambda_1 = \\lambda_2 = \\ldots = \\lambda_d = 0.\n",
        "$$\n",
        "* *Base* si es un sistema de generadores linealmente independiente. En ese caso se dice que $d$ es la dimensión de $V$ y se escribe $d = \\mathrm{dim}\\,V$.\n",
        "\n",
        "**Ejemplos**\n",
        "* $e_1 = (1,0,\\ldots), \\ldots, e_n = (0,\\ldots, 1)$ es base de $\\mathbb{R}^n$. Luego $\\mathrm{dim}\\,\\mathbb{R}^n =n$.\n",
        "* Dar una base y calcular la dimensión del espacio de polinomios de grado menor que $n$. ¿Y de todo el espacio de polinomios?\n",
        "* Dar una base de $S$ del ejemplo anterior."
      ]
    },
    {
      "cell_type": "code",
      "metadata": {
        "id": "UMhVrmdjxX4_",
        "colab_type": "code",
        "colab": {
          "base_uri": "https://localhost:8080/",
          "height": 38
        },
        "outputId": "50eaaa30-7ad8-458f-88fe-d4739ba0dfe6"
      },
      "source": [
        "solve([x+y, 2*x+2*y], [x, y])"
      ],
      "execution_count": 19,
      "outputs": [
        {
          "output_type": "execute_result",
          "data": {
            "image/png": "[encoded data removed]",
            "text/latex": "$$\\left \\{ x : - y\\right \\}$$",
            "text/plain": [
              "{x: -y}"
            ]
          },
          "metadata": {
            "tags": []
          },
          "execution_count": 19
        }
      ]
    },
    {
      "cell_type": "markdown",
      "metadata": {
        "id": "jQ3eg5vaxX5H",
        "colab_type": "text"
      },
      "source": [
        "* Dar una base del espacio de soluciones del sistema\n",
        "\n",
        "$$\n",
        "\\left\\{\\begin{matrix}\n",
        " x   + 2y   + 3z & = 0\\\\\n",
        "4x  +5y  +6z& = 0\\\\\n",
        " 7x   +8y   +9z& = 0\\\\\n",
        "\\end{matrix}\\right.\n",
        "$$"
      ]
    },
    {
      "cell_type": "code",
      "metadata": {
        "id": "wLKCUxcdxX5J",
        "colab_type": "code",
        "colab": {
          "base_uri": "https://localhost:8080/",
          "height": 38
        },
        "outputId": "97dd8103-c422-4c86-b82d-fe931419d526"
      },
      "source": [
        "solve([x + 2*y + 3*z, 4*x + 5*y + 6*z, 7*x + 8*y +9*z], [x, y, z])"
      ],
      "execution_count": 20,
      "outputs": [
        {
          "output_type": "execute_result",
          "data": {
            "image/png": "[encoded data removed]",
            "text/latex": "$$\\left \\{ x : z, \\quad y : - 2 z\\right \\}$$",
            "text/plain": [
              "{x: z, y: -2⋅z}"
            ]
          },
          "metadata": {
            "tags": []
          },
          "execution_count": 20
        }
      ]
    },
    {
      "cell_type": "markdown",
      "metadata": {
        "id": "XO6HK-z6xX5P",
        "colab_type": "text"
      },
      "source": [
        "* Dar una base del espacio de soluciones del sistema\n",
        "\n",
        "$$\n",
        "\\left\\{\\begin{matrix}\n",
        " x_1   +2x_2   +2x_3  -5x_4   +6x_5 & = 0\\\\\n",
        "-x_1  -2x_2  -x_3   +x_4  -x_5& = 0\\\\\n",
        " 4x_1   +8x_2   +5x_3  -8x_4   +9x_5& = 0\\\\\n",
        " 3x_1   +6x_2   +x_3   +5x_4  -7x_5& = 0\n",
        "\\end{matrix}\\right.\n",
        "$$"
      ]
    },
    {
      "cell_type": "code",
      "metadata": {
        "id": "twdqVaMUyNdT",
        "colab_type": "code",
        "colab": {
          "base_uri": "https://localhost:8080/",
          "height": 99
        },
        "outputId": "244d112f-337c-40de-8346-0d75a3c094f7"
      },
      "source": [
        "x1, x2, x3, x4, x5 = symbols('x1, x2, x3, x4, x5')\n",
        "\n",
        "A = Matrix([[1 ,  2 ,  2 , -5 ,  6], [-1, -2, -1,  1, -1], [4,  8,  5, -8,  9],[3,  6, 1,  5, -7]])\n",
        "A"
      ],
      "execution_count": 21,
      "outputs": [
        {
          "output_type": "execute_result",
          "data": {
            "text/latex": "$$\\left[\\begin{matrix}1 & 2 & 2 & -5 & 6\\\\-1 & -2 & -1 & 1 & -1\\\\4 & 8 & 5 & -8 & 9\\\\3 & 6 & 1 & 5 & -7\\end{matrix}\\right]$$",
            "text/plain": [
              "⎡1   2   2   -5  6 ⎤\n",
              "⎢                  ⎥\n",
              "⎢-1  -2  -1  1   -1⎥\n",
              "⎢                  ⎥\n",
              "⎢4   8   5   -8  9 ⎥\n",
              "⎢                  ⎥\n",
              "⎣3   6   1   5   -7⎦"
            ]
          },
          "metadata": {
            "tags": []
          },
          "execution_count": 21
        }
      ]
    },
    {
      "cell_type": "code",
      "metadata": {
        "id": "ZS5cCdhsxX5Q",
        "colab_type": "code",
        "colab": {
          "base_uri": "https://localhost:8080/",
          "height": 57
        },
        "outputId": "70636294-1cf7-4909-b337-9ef3aee495f1"
      },
      "source": [
        "Ax = A*Matrix([[x1, x2, x3, x4, x5]]).T\n",
        "Ax\n",
        "print('Solucion:')\n",
        "solve(Ax, x1, x2, x3, x4, x5)"
      ],
      "execution_count": 22,
      "outputs": [
        {
          "output_type": "stream",
          "text": [
            "Solucion:\n"
          ],
          "name": "stdout"
        },
        {
          "output_type": "execute_result",
          "data": {
            "image/png": "[encoded data removed]",
            "text/latex": "$$\\left \\{ x_{1} : - 2 x_{2} - 3 x_{4} + 4 x_{5}, \\quad x_{3} : 4 x_{4} - 5 x_{5}\\right \\}$$",
            "text/plain": [
              "{x₁: -2⋅x₂ - 3⋅x₄ + 4⋅x₅, x₃: 4⋅x₄ - 5⋅x₅}"
            ]
          },
          "metadata": {
            "tags": []
          },
          "execution_count": 22
        }
      ]
    },
    {
      "cell_type": "markdown",
      "metadata": {
        "id": "_LHLTOk3xX5r",
        "colab_type": "text"
      },
      "source": [
        "* **Modelo de Leontief.** Apple, Intel y Nvidia son tres empresas interrelacionadas, en el sentido de que cada una de ellas genera un bien específico (digamos Mac's, CPUs y tarjetas gráficas, respectivamente) que las demás requieren para continuar su proporción. Supongamos que las dependencias son como sigue: Cada unidad de Mac requiere 0.3 unidades de otros Mac's, 0.4 unidades CPUs y 0.3 unidades de tarjetas gráficas. Cada CPU producida por Intel necesita 0.3 unidades de Mac's, 0.2 CPUs y 0.5 tarjetas gráficas. Finalmente, cada tarjeta gráfica necesita 0.4 Mac's, 0.4 CPUs y 0.2 tarjetas gráficas para ser producidas. Determinar los niveles de proporción necesarios para que la economía se encuentre en equilibrio."
      ]
    },
    {
      "cell_type": "code",
      "metadata": {
        "id": "JMMbIbU8xX5s",
        "colab_type": "code",
        "colab": {
          "base_uri": "https://localhost:8080/",
          "height": 38
        },
        "outputId": "dc918367-c4a0-4807-cbb8-6620b3df8014"
      },
      "source": [
        "A = Matrix([[0.3-1,  0.4,  0.3], [0.3, 0.2-1, 0.5], [0.4,  0.4,  0.2-1]])\n",
        "solve(A*Matrix([x1, x2, x3]), x1, x2, x3)"
      ],
      "execution_count": 23,
      "outputs": [
        {
          "output_type": "execute_result",
          "data": {
            "image/png": "[encoded data removed]",
            "text/latex": "$$\\left \\{ x_{1} : x_{3}, \\quad x_{2} : x_{3}\\right \\}$$",
            "text/plain": [
              "{x₁: x₃, x₂: x₃}"
            ]
          },
          "metadata": {
            "tags": []
          },
          "execution_count": 23
        }
      ]
    },
    {
      "cell_type": "markdown",
      "metadata": {
        "id": "JzOsbPUExX5v",
        "colab_type": "text"
      },
      "source": [
        "## 1.4. Aplicaciones lineales\n",
        "\n",
        "**Definición** Sean $V, W$ dos espacio vectoriales. Una función $f: V \\to W$ se dice una *aplicación lineal* si\n",
        "* $f(v+w)=f(v) + f(w)$.\n",
        "* $f(\\lambda v) = \\lambda f(v)$.\n",
        "\n",
        "**Ejemplos**\n",
        "* $f: \\mathbb{R} \\to \\mathbb{R}$ dada por $f(x)=5x$.\n",
        "* $f: \\mathbb{R}^2 \\to \\mathbb{R}^3$ dada por $f(x,y) = (3x+5y, x-y, x-2y)$.\n",
        "* $f: \\mathbb{R} \\to \\mathbb{R}$ dada por $f(x)=x^2$ **no es** aplicación lineal.\n",
        "* $f: \\mathbb{R}[x] \\to \\mathbb{R}$, $f(P)=P(5)$.\n",
        "\n",
        "**Definición** Si $f: V \\to W$ es una aplicación lineal, definimos:\n",
        "* El *kernel* (o *núcleo*) es\n",
        "$$\n",
        "    \\mathrm{Ker}\\,f = \\left\\{v \\in V\\,|\\, f(v)=0\\right\\}.\n",
        "$$\n",
        "* La *imagen* es\n",
        "$$\n",
        "    \\mathrm{Im}\\,f = f(V) \\subseteq W.\n",
        "$$\n",
        "\n",
        "La dimensión de la imagen se suele llamar el *rango* de $f$ y se denota $\\mathrm{rk}\\,f = \\mathrm{dim}\\,\\mathrm{Im}\\,f$.\n",
        "\n",
        "**Ejercicios**\n",
        "* $\\mathrm{Ker}\\,f \\subseteq V$ es un subespacio vectorial.\n",
        "* Calcular el kernel, la imagen y el rango de todas las aplicaciones anteriores.\n",
        "\n",
        "**Proposición (Principio de inclusión-exclusión).** Para toda aplicación lineal $f: V \\to W$, se tiene\n",
        "\n",
        "$$\n",
        "    \\mathrm{dim}\\,\\mathrm{Ker}\\,f + \\mathrm{dim}\\,\\mathrm{Im}\\,f = \\mathrm{dim}\\,V\n",
        "$$\n",
        "\n",
        "**Observación clave:** Una aplicación lineal $f: \\mathbb{R}^n \\to \\mathbb{R}^m$ se puede describir como una matrix. Por ejemplo, la matrix de $f(x,y) = (3x+5y, x-y, x-2y)$ es\n",
        "$$\n",
        "    \\begin{pmatrix}\n",
        "    3 & 5 \\\\\n",
        "    1 & -1 \\\\\n",
        "    1 & -2 \\\\\n",
        "    \\end{pmatrix}\n",
        "$$\n",
        "de manera que\n",
        "$$\n",
        "f(x,y) = \\begin{pmatrix}\n",
        "    3 & 5 \\\\\n",
        "    1 & -1 \\\\\n",
        "    1 & -2 \\\\\n",
        "    \\end{pmatrix}\\begin{pmatrix}\n",
        "    x \\\\\n",
        "    y \\\\\n",
        "    \\end{pmatrix}\n",
        "$$"
      ]
    },
    {
      "cell_type": "code",
      "metadata": {
        "id": "sAo4KKu8xX5x",
        "colab_type": "code",
        "colab": {
          "base_uri": "https://localhost:8080/",
          "height": 79
        },
        "outputId": "9d5b6ecf-5c2e-40fb-e6d0-a8f3d5ea5fd9"
      },
      "source": [
        "A = Matrix([[3,5],[1,-1],[1,-2]])\n",
        "A"
      ],
      "execution_count": 24,
      "outputs": [
        {
          "output_type": "execute_result",
          "data": {
            "text/latex": "$$\\left[\\begin{matrix}3 & 5\\\\1 & -1\\\\1 & -2\\end{matrix}\\right]$$",
            "text/plain": [
              "⎡3  5 ⎤\n",
              "⎢     ⎥\n",
              "⎢1  -1⎥\n",
              "⎢     ⎥\n",
              "⎣1  -2⎦"
            ]
          },
          "metadata": {
            "tags": []
          },
          "execution_count": 24
        }
      ]
    },
    {
      "cell_type": "code",
      "metadata": {
        "id": "TxmRcuYU1tPe",
        "colab_type": "code",
        "colab": {
          "base_uri": "https://localhost:8080/",
          "height": 37
        },
        "outputId": "07e91e1e-0d15-4d0e-ebfc-278d4f68b227"
      },
      "source": [
        "# Se puede calcular el kernel\n",
        "A.nullspace()"
      ],
      "execution_count": 25,
      "outputs": [
        {
          "output_type": "execute_result",
          "data": {
            "image/png": "[encoded data removed]",
            "text/latex": "$$\\left [ \\right ]$$",
            "text/plain": [
              "[]"
            ]
          },
          "metadata": {
            "tags": []
          },
          "execution_count": 25
        }
      ]
    },
    {
      "cell_type": "code",
      "metadata": {
        "id": "oK_sUHK8xX53",
        "colab_type": "code",
        "colab": {
          "base_uri": "https://localhost:8080/",
          "height": 79
        },
        "outputId": "12b38af3-e42f-4c15-e4c7-cb9c8f40ac38"
      },
      "source": [
        "# Y la imagen\n",
        "A.columnspace()"
      ],
      "execution_count": 26,
      "outputs": [
        {
          "output_type": "execute_result",
          "data": {
            "text/latex": "$$\\left [ \\left[\\begin{matrix}3\\\\1\\\\1\\end{matrix}\\right], \\quad \\left[\\begin{matrix}5\\\\-1\\\\-2\\end{matrix}\\right]\\right ]$$",
            "text/plain": [
              "⎡⎡3⎤  ⎡5 ⎤⎤\n",
              "⎢⎢ ⎥  ⎢  ⎥⎥\n",
              "⎢⎢1⎥, ⎢-1⎥⎥\n",
              "⎢⎢ ⎥  ⎢  ⎥⎥\n",
              "⎣⎣1⎦  ⎣-2⎦⎦"
            ]
          },
          "metadata": {
            "tags": []
          },
          "execution_count": 26
        }
      ]
    },
    {
      "cell_type": "markdown",
      "metadata": {
        "id": "Crn33RU3xX56",
        "colab_type": "text"
      },
      "source": [
        "**Ejercicio.** Calcular bases de la imagen y del kernel de las aplicaciones lineales dadas por las siguientes matrices:\n",
        "\n",
        "$$\n",
        "A= \\begin{pmatrix}\n",
        "1 & -1 & 0 \\\\ 0 & 1 & 2 \\\\\n",
        "\\end{pmatrix} \\hspace{1cm}\n",
        "A= \\begin{pmatrix}\n",
        "1 &0 &-1 \\\\ 2 &-4 &1 \\\\ -1 & 0 &-1 \\\\ 2 & -2 &-2\\\\\n",
        "\\end{pmatrix} \\hspace{1cm}\n",
        "A= \\begin{pmatrix}\n",
        "6 &-4 & 16 \\\\\n",
        "-2 &-5 & 1 \\\\\n",
        "1 &14 &-12 \\\\\n",
        "\\end{pmatrix}\n",
        "$$\n",
        "\n",
        "## 1.5. Comprobación de Kernel nulo\n",
        "\n",
        "Sea $f: V \\to V$ una aplicación lineal y sea $A$ su matriz. ¿Cómo podemos comprobar si $\\mathrm{Ker}\\,f = 0$?\n",
        "\n",
        "$$\n",
        "\\mathrm{Ker}\\,f = 0 \\Leftrightarrow Ax=0 \\textrm{ solo tiene la solución trivial} \\Leftrightarrow A \\textrm{ es invertible } \\Leftrightarrow \\det{A}\\neq 0.\n",
        "$$\n",
        "\n",
        "**Proposición.** Sea $f: V \\to V$ una aplicación linea con matriz $A$. Entonces $\\mathrm{Ker}\\,f = 0$ si y solo si $\\det{A} \\neq 0$. \n",
        "\n",
        "*Demostración.* Sea $A$ la matriz de $f$. Entonces el kernel de $f$ está dado por los vectores $x = (x_1, \\ldots, x_n)$ tales que \n",
        "\n",
        "$$\n",
        "    Ax = 0\n",
        "$$\n",
        "\n",
        "Este sistema tiene la solución obvia $x = (0, \\ldots, 0)$. Ahora bien, esta será la única solución si y solo si $\\det{A} \\neq 0$, que es exactamente la condición buscada.\n",
        "\n",
        "**Observación.** Si $f: V \\to V$ tiene kernel trivial, entonces $ \\mathrm{dim}\\,V= \\mathrm{dim}\\,\\mathrm{Ker}\\,f + \\mathrm{dim}\\,\\mathrm{Im}\\,f=\\mathrm{dim}\\,\\mathrm{Im}\\,f$ y, por tanto $f(V)=V$ y $f$ es sobreyectiva."
      ]
    },
    {
      "cell_type": "markdown",
      "metadata": {
        "collapsed": true,
        "id": "Y4QzPmCVxX57",
        "colab_type": "text"
      },
      "source": [
        "# 2. Diagonalización\n",
        "\n",
        "## 2.1. Autovalores, autovectores\n",
        "\n",
        "**Definición.** Sea $f: V \\to W$ una aplicación lineal. Se dice que $v \\in V$, $v \\neq 0$, es un *autovector* de $f$ con autovalor $\\lambda \\in k$ si $f(v)=\\lambda v$.\n",
        "\n",
        "**Forma de cálculo.** Sea $A$ la matriz de la aplicación $f$.\n",
        "\n",
        "$$\n",
        "    v \\textrm{ autovector de autovalor } \\lambda \\Leftrightarrow Av = \\lambda v \\Leftrightarrow Av-\\lambda v=0 \\Leftrightarrow (A-\\lambda \\mathrm{I})v=0 \\Leftrightarrow v \\in \\mathrm{Ker}\\left(A-\\lambda \\mathrm{I}\\right)\n",
        "$$\n",
        "\n",
        "De este modo, $A$ tiene autovectores no nulos de autovalor $\\lambda$ si y solo si $\\mathrm{det}\\left(A-\\lambda \\mathrm{I}\\right)=0$. Esto proporciona una receta para calcular autovalores y autovectores:\n",
        "* Para calcular los autovalores: se forma el polinomio $p(\\lambda)=\\mathrm{det}\\left(A-\\lambda \\mathrm{I}\\right)$, llamado polinomio característico. Los ceros de $p(\\lambda)$ son los autovalores.\n",
        "* Para calcular los autovectores de un autovalor: Una base de autovectores de autovalor $\\lambda$ está dada por una base de $\\mathrm{Ker}\\left(A-\\lambda \\mathrm{I}\\right)$\n",
        "\n",
        "**Definición.** Una matriz $A$ se dice *diagonalizable* si existe una base de autovectores de $A$.\n",
        "\n",
        "**Ejemplo.** Consideremos la matriz\n",
        "$$\n",
        "    A = \\begin{pmatrix}\n",
        "6 &-4 & 16 \\\\\n",
        "-2 &-5 & 1 \\\\\n",
        "1 &14 &-12 \\\\\n",
        "\\end{pmatrix}\n",
        "$$\n",
        "Determinar los autovalores de $A$, así como una base de autovectores para cada uno de ellos. ¿Es $A$ diagonalizable?"
      ]
    },
    {
      "cell_type": "code",
      "metadata": {
        "id": "owsNzsL92qKS",
        "colab_type": "code",
        "colab": {
          "base_uri": "https://localhost:8080/",
          "height": 79
        },
        "outputId": "c887f1f1-0df3-4000-de7a-cc966350978b"
      },
      "source": [
        "mu = Symbol('mu')\n",
        "\n",
        "A = Matrix([[6 ,-4 , 16],[-2 ,-5 , 1],[1 ,14 ,-12]])\n",
        "A"
      ],
      "execution_count": 27,
      "outputs": [
        {
          "output_type": "execute_result",
          "data": {
            "text/latex": "$$\\left[\\begin{matrix}6 & -4 & 16\\\\-2 & -5 & 1\\\\1 & 14 & -12\\end{matrix}\\right]$$",
            "text/plain": [
              "⎡6   -4  16 ⎤\n",
              "⎢           ⎥\n",
              "⎢-2  -5   1 ⎥\n",
              "⎢           ⎥\n",
              "⎣1   14  -12⎦"
            ]
          },
          "metadata": {
            "tags": []
          },
          "execution_count": 27
        }
      ]
    },
    {
      "cell_type": "code",
      "metadata": {
        "id": "4C7c50Ed2woR",
        "colab_type": "code",
        "colab": {
          "base_uri": "https://localhost:8080/",
          "height": 79
        },
        "outputId": "7cd5988a-ea9c-4ce7-8f77-9fa67ef5cb06"
      },
      "source": [
        "# Se forma la matrix A -mu I\n",
        "I = eye(3)\n",
        "A-mu*I"
      ],
      "execution_count": 28,
      "outputs": [
        {
          "output_type": "execute_result",
          "data": {
            "text/latex": "$$\\left[\\begin{matrix}- \\mu + 6 & -4 & 16\\\\-2 & - \\mu - 5 & 1\\\\1 & 14 & - \\mu - 12\\end{matrix}\\right]$$",
            "text/plain": [
              "⎡-μ + 6    -4      16   ⎤\n",
              "⎢                       ⎥\n",
              "⎢  -2    -μ - 5     1   ⎥\n",
              "⎢                       ⎥\n",
              "⎣  1       14    -μ - 12⎦"
            ]
          },
          "metadata": {
            "tags": []
          },
          "execution_count": 28
        }
      ]
    },
    {
      "cell_type": "code",
      "metadata": {
        "id": "chjFaVVl201M",
        "colab_type": "code",
        "colab": {
          "base_uri": "https://localhost:8080/",
          "height": 38
        },
        "outputId": "87046f53-efdf-48ec-fe8d-8faaf0ca3cbb"
      },
      "source": [
        "# Se forma el polinomio característico\n",
        "p = (A-mu*I).det()\n",
        "p"
      ],
      "execution_count": 29,
      "outputs": [
        {
          "output_type": "execute_result",
          "data": {
            "image/png": "[encoded data removed]",
            "text/latex": "$$38 \\mu + \\left(- \\mu - 12\\right) \\left(- \\mu - 5\\right) \\left(- \\mu + 6\\right) - 360$$",
            "text/plain": [
              "38⋅μ + (-μ - 12)⋅(-μ - 5)⋅(-μ + 6) - 360"
            ]
          },
          "metadata": {
            "tags": []
          },
          "execution_count": 29
        }
      ]
    },
    {
      "cell_type": "code",
      "metadata": {
        "id": "9PdigSj0xX58",
        "colab_type": "code",
        "colab": {
          "base_uri": "https://localhost:8080/",
          "height": 37
        },
        "outputId": "2f308403-cc88-48e6-b914-6a0f42cb5553"
      },
      "source": [
        "# Se resuelve el polinomio característico\n",
        "solve(p, mu)"
      ],
      "execution_count": 30,
      "outputs": [
        {
          "output_type": "execute_result",
          "data": {
            "image/png": "[encoded data removed]",
            "text/latex": "$$\\left [ -16, \\quad 0, \\quad 5\\right ]$$",
            "text/plain": [
              "[-16, 0, 5]"
            ]
          },
          "metadata": {
            "tags": []
          },
          "execution_count": 30
        }
      ]
    },
    {
      "cell_type": "code",
      "metadata": {
        "id": "Vj4s3vBYxX6e",
        "colab_type": "code",
        "colab": {
          "base_uri": "https://localhost:8080/",
          "height": 79
        },
        "outputId": "c0860be2-8957-4838-de31-12d4f793b669"
      },
      "source": [
        "(A-(-16)*I).nullspace()\n",
        "(A-(0)*I).nullspace()\n",
        "(A-(5)*I).nullspace()"
      ],
      "execution_count": 31,
      "outputs": [
        {
          "output_type": "execute_result",
          "data": {
            "text/latex": "$$\\left [ \\left[\\begin{matrix}- \\frac{26}{3}\\\\\\frac{11}{6}\\\\1\\end{matrix}\\right]\\right ]$$",
            "text/plain": [
              "⎡⎡-26/3⎤⎤\n",
              "⎢⎢     ⎥⎥\n",
              "⎢⎢11/6 ⎥⎥\n",
              "⎢⎢     ⎥⎥\n",
              "⎣⎣  1  ⎦⎦"
            ]
          },
          "metadata": {
            "tags": []
          },
          "execution_count": 31
        }
      ]
    },
    {
      "cell_type": "code",
      "metadata": {
        "id": "nfPQbq74xX6m",
        "colab_type": "code",
        "colab": {
          "base_uri": "https://localhost:8080/",
          "height": 79
        },
        "outputId": "0eb5e29b-c67a-43c3-9342-586395f12c4c"
      },
      "source": [
        "# Otra forma de hacerlo usando las bibliotecas de Sympy\n",
        "\n",
        "A.eigenvals()\n",
        "A.eigenvects()"
      ],
      "execution_count": 32,
      "outputs": [
        {
          "output_type": "execute_result",
          "data": {
            "text/latex": "$$\\left [ \\left ( -16, \\quad 1, \\quad \\left [ \\left[\\begin{matrix}- \\frac{10}{13}\\\\- \\frac{3}{13}\\\\1\\end{matrix}\\right]\\right ]\\right ), \\quad \\left ( 0, \\quad 1, \\quad \\left [ \\left[\\begin{matrix}-2\\\\1\\\\1\\end{matrix}\\right]\\right ]\\right ), \\quad \\left ( 5, \\quad 1, \\quad \\left [ \\left[\\begin{matrix}- \\frac{26}{3}\\\\\\frac{11}{6}\\\\1\\end{matrix}\\right]\\right ]\\right )\\right ]$$",
            "text/plain": [
              "⎡⎛        ⎡⎡-10  ⎤⎤⎞                                   ⎤\n",
              "⎢⎜        ⎢⎢──── ⎥⎥⎟  ⎛      ⎡⎡-2⎤⎤⎞  ⎛      ⎡⎡-26/3⎤⎤⎞⎥\n",
              "⎢⎜        ⎢⎢ 13  ⎥⎥⎟  ⎜      ⎢⎢  ⎥⎥⎟  ⎜      ⎢⎢     ⎥⎥⎟⎥\n",
              "⎢⎜-16, 1, ⎢⎢     ⎥⎥⎟, ⎜0, 1, ⎢⎢1 ⎥⎥⎟, ⎜5, 1, ⎢⎢11/6 ⎥⎥⎟⎥\n",
              "⎢⎜        ⎢⎢-3/13⎥⎥⎟  ⎜      ⎢⎢  ⎥⎥⎟  ⎜      ⎢⎢     ⎥⎥⎟⎥\n",
              "⎢⎜        ⎢⎢     ⎥⎥⎟  ⎝      ⎣⎣1 ⎦⎦⎠  ⎝      ⎣⎣  1  ⎦⎦⎠⎥\n",
              "⎣⎝        ⎣⎣  1  ⎦⎦⎠                                   ⎦"
            ]
          },
          "metadata": {
            "tags": []
          },
          "execution_count": 32
        }
      ]
    },
    {
      "cell_type": "markdown",
      "metadata": {
        "id": "ZwdrCHKUxX66",
        "colab_type": "text"
      },
      "source": [
        "Supongamos que $A$ es una matriz diagonalizable con una base de autovectores $v_1, \\ldots, v_n$, con autovalores $\\lambda_1, \\ldots, \\lambda_n$ respectivamente. Obsérvese que, en la base $v_1, \\ldots, v_n$, la matriz de $A$ es la matriz diagonal\n",
        "$$\n",
        "D = \\begin{pmatrix}\n",
        "\\lambda_1 & 0 & \\ldots & & \\vdots\\\\\n",
        "0 & \\lambda_2 & & \\\\\n",
        "\\vdots & \\ddots & & \\\\\n",
        "0 & & \\ldots & & \\lambda_n\\\\\n",
        "\\end{pmatrix}\n",
        "$$\n",
        "De este modo, si consideramos la matriz\n",
        "$$\n",
        "    P = \\left(v_1 \\left|\\, v_2 \\left|\\, \\ldots \\left|\\, v_n\\right.\\right.\\right.\\right),\n",
        "$$\n",
        "entonces se tiene\n",
        "$$\n",
        "A = PDP^{-1}.\n",
        "$$\n",
        "Es decir *$A$ es diagonal, pero en la base equivocada*.\n",
        "\n",
        "*Demostración.*\n",
        "La clave es que $Pe_i = v_i$ por construcción. Entonces $PDP^{-1}v_i=PDe_i=P\\lambda_i e_i = \\lambda_iPe_i=\\lambda_i v_i$. De este modo, $PDP^{-1}v_i = Av_i$ para todo $v_i$ y, como los $v_i$ son una base, se tiene que $A=PDP^{-1}$.\n",
        "\n",
        "**Ejercicio.** Dar las matrices $P$ y $D$ de la diagonalización de la matriz del ejercicio anterior."
      ]
    },
    {
      "cell_type": "code",
      "metadata": {
        "id": "jIGpSQ0WxX7G",
        "colab_type": "code",
        "colab": {
          "base_uri": "https://localhost:8080/",
          "height": 79
        },
        "outputId": "492cb597-9d51-4bfa-a5ef-b7f6027a88bf"
      },
      "source": [
        "# Formamos la matriz de los autovectores obtenidos\n",
        "\n",
        "P = Matrix([[-10/13,-3/13,1], [-2,1, 1], [-26/3, 11/6,1]])\n",
        "P = P.T\n",
        "P"
      ],
      "execution_count": 33,
      "outputs": [
        {
          "output_type": "execute_result",
          "data": {
            "text/latex": "$$\\left[\\begin{matrix}-0.769230769230769 & -2 & -8.66666666666667\\\\-0.230769230769231 & 1 & 1.83333333333333\\\\1 & 1 & 1\\end{matrix}\\right]$$",
            "text/plain": [
              "⎡-0.769230769230769  -2  -8.66666666666667⎤\n",
              "⎢                                         ⎥\n",
              "⎢-0.230769230769231  1   1.83333333333333 ⎥\n",
              "⎢                                         ⎥\n",
              "⎣        1           1           1        ⎦"
            ]
          },
          "metadata": {
            "tags": []
          },
          "execution_count": 33
        }
      ]
    },
    {
      "cell_type": "code",
      "metadata": {
        "id": "_cVzbsMYxX7L",
        "colab_type": "code",
        "colab": {
          "base_uri": "https://localhost:8080/",
          "height": 79
        },
        "outputId": "00090b49-af58-4892-a9f3-f9dc47109328"
      },
      "source": [
        "# Formamos la matriz diagonal con los autovalores\n",
        "\n",
        "D = Matrix([[-16,0,0], [0,0, 0], [0, 0, 5]])\n",
        "D"
      ],
      "execution_count": 34,
      "outputs": [
        {
          "output_type": "execute_result",
          "data": {
            "text/latex": "$$\\left[\\begin{matrix}-16 & 0 & 0\\\\0 & 0 & 0\\\\0 & 0 & 5\\end{matrix}\\right]$$",
            "text/plain": [
              "⎡-16  0  0⎤\n",
              "⎢         ⎥\n",
              "⎢ 0   0  0⎥\n",
              "⎢         ⎥\n",
              "⎣ 0   0  5⎦"
            ]
          },
          "metadata": {
            "tags": []
          },
          "execution_count": 34
        }
      ]
    },
    {
      "cell_type": "code",
      "metadata": {
        "id": "iijn2VkM4PmX",
        "colab_type": "code",
        "colab": {
          "base_uri": "https://localhost:8080/",
          "height": 79
        },
        "outputId": "707d8c1c-02e6-4526-f1a2-15fa03e59cec"
      },
      "source": [
        "P*D*(P**-1)"
      ],
      "execution_count": 35,
      "outputs": [
        {
          "output_type": "execute_result",
          "data": {
            "text/latex": "$$\\left[\\begin{matrix}6.0 & -4.0 & 16.0\\\\-2.0 & -5.0 & 1.0\\\\0.999999999999999 & 14.0 & -12.0\\end{matrix}\\right]$$",
            "text/plain": [
              "⎡       6.0         -4.0  16.0 ⎤\n",
              "⎢                              ⎥\n",
              "⎢      -2.0         -5.0   1.0 ⎥\n",
              "⎢                              ⎥\n",
              "⎣0.999999999999999  14.0  -12.0⎦"
            ]
          },
          "metadata": {
            "tags": []
          },
          "execution_count": 35
        }
      ]
    },
    {
      "cell_type": "markdown",
      "metadata": {
        "id": "neCKejjVxX7b",
        "colab_type": "text"
      },
      "source": [
        "**Teorema (espectral).**\n",
        "* Si $A$ es una aplicación ortogonal, entonces es diagonalizable.\n",
        "* Si $A$ es una matriz simétrica (i.e. $A=A^t$) entonces $A$ es diagonalizable."
      ]
    },
    {
      "cell_type": "markdown",
      "metadata": {
        "id": "uEZ3EKwgxX7c",
        "colab_type": "text"
      },
      "source": [
        "# 3. Espacios euclídeos y SVD\n",
        "\n",
        "## 3.1. Productos escalares\n",
        "\n",
        "\n",
        "**Definición.** Sea $B: V \\times V \\to \\mathbb{R}$. Se dice que $B$ es un *producto escalar* si\n",
        "* $B$ es una aplicación bilineal: $B(-,v), B(v,-): V \\to \\mathbb{R}$ son lineales para todo $v \\in B$\n",
        "* $B$ es definido positivo: $B(v,v)\\geq 0$ para todo $v \\in V$ y $B(v,v)=0$ si y solo si $v=0$.\n",
        "* $B$ es simétrico: $B(v,w)=B(w,v)$ para todo $v,w \\in V$.\n",
        "En ese caso $(V,B)$ se llama un *espacio euclídeo* o *espacio de Hilbert*. Dado $v \\in V$, el número $||v||=\\sqrt{B(v,v)}$ se llama la *norma* de $v$.\n",
        "\n",
        "\n",
        "**Observación.** El producto $B(v,w)$ se suele denotar por $\\langle v,w \\rangle$ o simplemente por $v \\cdot w$.\n",
        "\n",
        "**Ejemplos**\n",
        "* $\\mathbb{R}^n$ con el producto escalar usual. Intrepretación geométrica: $v \\cdot w = ||v||\\,||w||\\cos{\\angle (u,v)}$.\n",
        "* Espacio de polinomios con (Producto $L^2$)\n",
        "$$\n",
        "    \\langle P, Q\\rangle = \\int_{-1}^1 P(t)Q(t)\\,dt.\n",
        "$$\n",
        "\n",
        "**Definición.** Una base $v_1, \\ldots, v_d$ de un espacio euclídeo $V$ se dice *ortonormal* si\n",
        "* $\\langle v_i, v_j\\rangle = 0$ si $i \\neq j$.\n",
        "* $||v_i||=1$ para todo $i$.\n",
        "\n",
        "**Ejemplo.** La base estándar de $\\mathbb{R}^n$ es ortonormal.\n",
        "\n",
        "**Proposición (Desigualdad de Cauchy-Schwarz).** En un espacio euclídeo se tiene que, para todos $v,w \\in V$\n",
        "\n",
        "$$\n",
        "    \\langle v,w \\rangle \\leq ||u||\\,\\,||w||\n",
        "$$\n",
        "\n",
        "Además, se tiene la igualdad si y solo si $v$ y $w$ son paralelos.\n",
        "\n",
        "**Corolario (Desigualdad triangular).** Para todos $v,w \\in V$ se tiene\n",
        "\n",
        "$$\n",
        "    ||v+ w || \\leq ||v|| + ||w||.\n",
        "$$\n",
        "\n",
        "*Demostración.* Expandiendo la normal y usando la desigualdad de Cauchy-Schwarz tenemos\n",
        "\n",
        "$$\n",
        "    ||v + w||^2 = \\langle v + w, v + w\\rangle = ||v||^2 + ||w||^2 +2 \\langle v, w\\rangle \\leq ||v||^2 + ||w||^2 +2||v||\\, ||w|| = (||v|| + ||w||)^2.\n",
        "$$\n",
        "\n",
        "Tomando la raiz cuadrada, se obtiene el resultado.\n",
        "\n",
        "## 3.2. Proceso de Gram-Schmidt\n",
        "\n",
        "Supongamos que tenemos una base $v_1, \\ldots, v_n$ de un espacio euclídeo $V$ y queremos convertirla en una base ortogonal $v_1', \\ldots, v_n'$. Para el primer vector es muy fácil, porque podemos tomar\n",
        "\n",
        "$$\n",
        "    v_1' = v_1\n",
        "$$\n",
        "\n",
        "Siguiendo el proceso recursivamente, supongamos que hemos conseguido ortonormalizar $v_1', \\ldots, v_k'$. Entonces, si tomamos \n",
        "\n",
        "$$\n",
        "    v_{k+1}' = v_{k+1} - \\sum_{i=1}^k \\frac{\\langle v_{k+1}, v_i'\\rangle}{||v_i'||^2} v_i',\n",
        "$$\n",
        "\n",
        "tenemos que, para todo $v_i'$ con $1 \\leq i \\leq k$,\n",
        "\n",
        "$$\n",
        "    \\langle v_{k+1}', v_i'\\rangle = \\langle v_{k+1}, v_i'\\rangle - \\frac{\\langle v_{k+1}, v_i'\\rangle}{||v_i'||^2} \\langle v_i',v_i'\\rangle = 0.\n",
        "$$\n",
        "\n",
        "De este modo, obtenemos una base ortogonal $v_1', \\ldots, v_n'$. Si queremos normalizarla para que sea, de hecho, ortogonal, podemo tomar $v_i'' = \\frac{v_i'}{||v_i'||}$.\n",
        "\n",
        "**Ejercicios.**\n",
        "* Aplicar el proceso de Gram-Schmidt a la base de $\\mathbb{R}^3$, $(1,-2,2), (0,0,1), (-1,0,1)$."
      ]
    },
    {
      "cell_type": "code",
      "metadata": {
        "id": "oRAenOf9xX7d",
        "colab_type": "code",
        "colab": {
          "base_uri": "https://localhost:8080/",
          "height": 89
        },
        "outputId": "a79a17b0-542d-42d4-8cdf-9eb3062b9b50"
      },
      "source": [
        "def GramSchmidt(base_original, B, base_ortogonal=[]):\n",
        "    if len(base_ortogonal) == 0:\n",
        "        base_ortogonal.append(base_original.pop(0))\n",
        "        return GramSchmidt(base_original, B, base_ortogonal)\n",
        "\n",
        "    if len(base_original) == 0:\n",
        "        return [v/sqrt(B(v,v)) for v in base_ortogonal]\n",
        "\n",
        "    v_k = base_original.pop(0)\n",
        "\n",
        "    v = base_ortogonal[0]\n",
        "    residuo = v*B(v_k, v)/(B(v,v))\n",
        "    for v in base_ortogonal[1:]:\n",
        "        residuo = residuo + v*B(v_k, v)/(B(v,v))\n",
        "\n",
        "    v_kp = v_k - residuo\n",
        "    base_ortogonal.append(v_kp)\n",
        "\n",
        "\n",
        "    return GramSchmidt(base_original, B, base_ortogonal)\n",
        "\n",
        "def B_euclideo(v, w):\n",
        "    return sum([v[i]*w[i] for i in range(len(v))])\n",
        "\n",
        "base_original = [Matrix([1,-2,2]), Matrix([0,0,1]), Matrix([-1,0,1])]\n",
        "GramSchmidt(base_original, B_euclideo)"
      ],
      "execution_count": 36,
      "outputs": [
        {
          "output_type": "execute_result",
          "data": {
            "text/latex": "$$\\left [ \\left[\\begin{matrix}\\frac{1}{3}\\\\- \\frac{2}{3}\\\\\\frac{2}{3}\\end{matrix}\\right], \\quad \\left[\\begin{matrix}- \\frac{2 \\sqrt{5}}{15}\\\\\\frac{4 \\sqrt{5}}{15}\\\\\\frac{\\sqrt{5}}{3}\\end{matrix}\\right], \\quad \\left[\\begin{matrix}- \\frac{2 \\sqrt{5}}{5}\\\\- \\frac{\\sqrt{5}}{5}\\\\0\\end{matrix}\\right]\\right ]$$",
            "text/plain": [
              "⎡        ⎡-2⋅√5 ⎤          ⎤\n",
              "⎢        ⎢──────⎥  ⎡-2⋅√5 ⎤⎥\n",
              "⎢        ⎢  15  ⎥  ⎢──────⎥⎥\n",
              "⎢⎡1/3 ⎤  ⎢      ⎥  ⎢  5   ⎥⎥\n",
              "⎢⎢    ⎥  ⎢ 4⋅√5 ⎥  ⎢      ⎥⎥\n",
              "⎢⎢-2/3⎥, ⎢ ──── ⎥, ⎢ -√5  ⎥⎥\n",
              "⎢⎢    ⎥  ⎢  15  ⎥  ⎢ ──── ⎥⎥\n",
              "⎢⎣2/3 ⎦  ⎢      ⎥  ⎢  5   ⎥⎥\n",
              "⎢        ⎢  √5  ⎥  ⎢      ⎥⎥\n",
              "⎢        ⎢  ──  ⎥  ⎣  0   ⎦⎥\n",
              "⎣        ⎣  3   ⎦          ⎦"
            ]
          },
          "metadata": {
            "tags": []
          },
          "execution_count": 36
        }
      ]
    },
    {
      "cell_type": "markdown",
      "metadata": {
        "id": "CPz4pQ1wxX77",
        "colab_type": "text"
      },
      "source": [
        "* Aplicar el proceso de Gram-Schimidt a la base $1, t, t^2$ del espacio de polinomios de grado menor o igual que $2$. Esta base se llama polinomios de Legendre."
      ]
    },
    {
      "cell_type": "code",
      "metadata": {
        "id": "2r-XiJx_xX77",
        "colab_type": "code",
        "colab": {
          "base_uri": "https://localhost:8080/",
          "height": 48
        },
        "outputId": "4ef6b7e3-e369-46cc-a2f2-b21e306688b5"
      },
      "source": [
        "x = Symbol('x')\n",
        "\n",
        "def B_polinomios(P, Q):\n",
        "    return integrate(P*Q, (x, -1, 1))\n",
        "\n",
        "base_original_pols = [1+0*x, x, x**2]\n",
        "\n",
        "GramSchmidt(base_original_pols, B_polinomios, base_ortogonal=[])"
      ],
      "execution_count": 37,
      "outputs": [
        {
          "output_type": "execute_result",
          "data": {
            "image/png": "[encoded data removed]",
            "text/latex": "$$\\left [ \\frac{\\sqrt{2}}{2}, \\quad \\frac{\\sqrt{6} x}{2}, \\quad \\frac{3 \\sqrt{10}}{4} \\left(x^{2} - \\frac{1}{3}\\right)\\right ]$$",
            "text/plain": [
              "⎡                ⎛ 2   1⎞⎤\n",
              "⎢          3⋅√10⋅⎜x  - ─⎟⎥\n",
              "⎢√2  √6⋅x        ⎝     3⎠⎥\n",
              "⎢──, ────, ──────────────⎥\n",
              "⎣2    2          4       ⎦"
            ]
          },
          "metadata": {
            "tags": []
          },
          "execution_count": 37
        }
      ]
    },
    {
      "cell_type": "markdown",
      "metadata": {
        "id": "L8G5K-RBxX8A",
        "colab_type": "text"
      },
      "source": [
        "## 3.3. Aplicaciones ortogonales\n",
        "\n",
        "**Definición.** Una aplicación lineal $f: V \\to W$ entre espacios euclídeos se dice *ortogonal* si\n",
        "$$\n",
        "    \\langle f(v), f(w)\\rangle = \\langle v, w\\rangle\n",
        "$$\n",
        "para todo $v,w\\in V$.\n",
        "\n",
        "**Observación.**\n",
        "* Si $f$ es ortogonal, entonces $||f(v)|| = ||v||$. De este modo, se suele decir que una aplicación ortogonal es aquella que preserva módulos y ángulos.\n",
        "* $f$ es ortogonal si y solo si manda bases ortonormales en bases ortonomales.\n",
        "* En particular, eso implica que, si $A$ es la matriz de $f$, entonces las columnas de $A$ forman una base ortonormal. De este modo $f$ es ortogonal si y solo si $AA^t=\\mathrm{I}$.\n",
        "\n",
        "**Ejercicio.** Comprobar si las siguientes aplicaciones lineales son ortogonales\n",
        "\n",
        "$$\n",
        "A= \\begin{pmatrix}\n",
        "1 & -1 & 0 \\\\ 0 & 1 & 2 \\\\ 2 & 3 & 1 \\\\\n",
        "\\end{pmatrix} \\hspace{1cm}\n",
        "A= \\begin{pmatrix}\n",
        "1 &0 &-1 \\\\ 2 &-4 &1 \\\\ -1 & 0 &-1 \\\\\n",
        "\\end{pmatrix} \\hspace{1cm}\n",
        "A= \\begin{pmatrix}\n",
        "0 & 0 & 1 \\\\\n",
        "1 & 0 & 0 \\\\\n",
        "0 & 1 & 0 \\\\\n",
        "\\end{pmatrix}\n",
        "$$"
      ]
    },
    {
      "cell_type": "markdown",
      "metadata": {
        "id": "c2HchWqkxX8B",
        "colab_type": "text"
      },
      "source": [
        "## 3.4. Singular Value Decomposition\n",
        "\n",
        "Sea $A$ una matriz. Si $A$ no es cuadrada, no podemos diagonalizar $A$. Sin embargo, existe una 'versión débil' de diagonalización que será muy útil para nuestros propósitos.\n",
        "\n",
        "**Teorema (Descomposición en Valores Singulares, SVD).** Sea $A$ una matriz de tamaño $n \\times m$. Existen aplicaciones ortogonales $U$ de orden $n$ y $V$ de orden $m$ tales que\n",
        "\n",
        "$$\n",
        "A = U\\Sigma V^t.\n",
        "$$\n",
        "\n",
        "Aquí, $\\Sigma = \\textrm{diag}\\left(\\sigma_1, \\ldots, \\sigma_k\\right)$ con $k = \\min(n,m)$ y $\\sigma_1 \\geq \\sigma_2 \\geq \\ldots \\geq \\sigma_k \\geq 0$, llamados los *valores singulares*.\n",
        "\n",
        "Para ser precisos, obsérvese que $\\Sigma$ es de la forma\n",
        "$$\n",
        "\\Sigma=\\begin{pmatrix}\n",
        "\\sigma_1 & 0 & \\ldots & & & 0 & \\ldots & 0 \\\\\n",
        "0 & \\sigma_2 & & & & \\vdots& &\\vdots\\\\\n",
        "\\vdots & \\ddots & & \\\\\n",
        "0 & & \\ldots & & \\sigma_n & 0 & \\ldots & 0\\\\\n",
        "\\end{pmatrix} \\;\\;\\;\\;\\; \\textrm{ si }n\\leq m\n",
        "$$\n",
        "$$\n",
        "\\Sigma=\\begin{pmatrix}\n",
        "\\sigma_1 & 0 & \\ldots & \\\\\n",
        "0 & \\sigma_2 & & & \\\\\n",
        "\\vdots & \\ddots & & \\\\\n",
        "0 & & \\ldots & & \\sigma_m \\\\\n",
        "0 & & \\ldots & & 0 \\\\\n",
        "\\vdots & & \\ldots & & \\vdots \\\\\n",
        "0 & & \\ldots & & 0 \\\\\n",
        "\\end{pmatrix} \\;\\;\\;\\;\\; \\textrm{ si }n\\geq m\n",
        "$$\n",
        "\n",
        "**Ejercicio** Calcular la descomposición SVD de la matriz\n",
        "$$\n",
        "    A = \\begin{pmatrix}\n",
        "6 &-4 & 16 \\\\\n",
        "-2 &-5 & 1 \\\\\n",
        "1 &14 &-12 \\\\\n",
        "\\end{pmatrix}\n",
        "$$"
      ]
    },
    {
      "cell_type": "code",
      "metadata": {
        "id": "0ffxv5c9xX8C",
        "colab_type": "code",
        "colab": {
          "base_uri": "https://localhost:8080/",
          "height": 79
        },
        "outputId": "d91fe838-0072-43d1-8b2b-338597f481d6"
      },
      "source": [
        "from mpmath import svd\n",
        "\n",
        "X = Matrix([[6, -4, 16], [-2, -5, 1], [1, 14, -12]])\n",
        "U, sigma, V = svd(X)\n",
        "U"
      ],
      "execution_count": 38,
      "outputs": [
        {
          "output_type": "execute_result",
          "data": {
            "text/latex": "$$\\left[\\begin{matrix}-0.667463667132614 & -0.707143254276596 & -0.233325247217245\\\\-0.141260548822435 & 0.427892118440678 & -0.89272268500511\\\\0.731120858958536 & -0.562900304589946 & -0.385493886706752\\end{matrix}\\right]$$",
            "text/plain": [
              "⎡-0.667463667132614  -0.707143254276596  -0.233325247217245⎤\n",
              "⎢                                                          ⎥\n",
              "⎢-0.141260548822435  0.427892118440678   -0.89272268500511 ⎥\n",
              "⎢                                                          ⎥\n",
              "⎣0.731120858958536   -0.562900304589946  -0.385493886706752⎦"
            ]
          },
          "metadata": {
            "tags": []
          },
          "execution_count": 38
        }
      ]
    },
    {
      "cell_type": "code",
      "metadata": {
        "id": "q03wUFZzSRil",
        "colab_type": "code",
        "colab": {
          "base_uri": "https://localhost:8080/",
          "height": 90
        },
        "outputId": "0374f125-679a-4226-8786-0e3c275d980b"
      },
      "source": [
        "sigma"
      ],
      "execution_count": 39,
      "outputs": [
        {
          "output_type": "execute_result",
          "data": {
            "text/plain": [
              "matrix(\n",
              "[['24.0449428353725'],\n",
              " ['10.0419482195274'],\n",
              " ['1.45532640693132e-15']])"
            ]
          },
          "metadata": {
            "tags": []
          },
          "execution_count": 39
        }
      ]
    },
    {
      "cell_type": "code",
      "metadata": {
        "id": "sD1BBf2hSTYm",
        "colab_type": "code",
        "colab": {
          "base_uri": "https://localhost:8080/",
          "height": 90
        },
        "outputId": "a7b7437d-57cc-4828-dfcf-851d656f0244"
      },
      "source": [
        "V"
      ],
      "execution_count": 40,
      "outputs": [
        {
          "output_type": "execute_result",
          "data": {
            "text/plain": [
              "matrix(\n",
              "[['-0.124397885520943', '0.566100303554798', '-0.814896074596684'],\n",
              " ['-0.563789410517129', '-0.716145082820861', '-0.411433738213397'],\n",
              " ['0.816496580927726', '-0.408248290463863', '-0.408248290463863']])"
            ]
          },
          "metadata": {
            "tags": []
          },
          "execution_count": 40
        }
      ]
    },
    {
      "cell_type": "code",
      "metadata": {
        "scrolled": true,
        "id": "XVvhIRbfxX8E",
        "colab_type": "code",
        "colab": {
          "base_uri": "https://localhost:8080/",
          "height": 72
        },
        "outputId": "7df68df7-87e1-4499-93f8-b22578566d0b"
      },
      "source": [
        "# Tambien se puede hacer usando la libreria NumPy\n",
        "\n",
        "import numpy as np\n",
        "from numpy import linalg as la\n",
        "\n",
        "X = np.matrix('6 -4 16; -2 -5 1; 1 14 -12')\n",
        "\n",
        "U, sigma, V = la.svd(X) # Calculamos la SVD de X\n",
        "\n",
        "U"
      ],
      "execution_count": 41,
      "outputs": [
        {
          "output_type": "execute_result",
          "data": {
            "text/plain": [
              "matrix([[-0.66746367,  0.70714325,  0.23332525],\n",
              "        [-0.14126055, -0.42789212,  0.89272269],\n",
              "        [ 0.73112086,  0.5629003 ,  0.38549389]])"
            ]
          },
          "metadata": {
            "tags": []
          },
          "execution_count": 41
        }
      ]
    },
    {
      "cell_type": "markdown",
      "metadata": {
        "id": "9azIu4WJxX8O",
        "colab_type": "text"
      },
      "source": [
        "# 4. Detección de componentes principales\n",
        "\n",
        "Una de las utilidades prácticas más importantes de diagonalización y SVD es detectar los vectores 'más importantes' de un conjunto de datos. Para ilustrarlo, consideremos la base de datos MNIST."
      ]
    },
    {
      "cell_type": "code",
      "metadata": {
        "id": "Py3hVEoqxX8P",
        "colab_type": "code",
        "colab": {}
      },
      "source": [
        "from sklearn import datasets, svm, metrics\n",
        "import numpy as np\n",
        "from numpy import linalg as la\n",
        "import matplotlib.pyplot as plt\n",
        "\n",
        "mnist = datasets.load_digits()\n",
        "digits = mnist['data']"
      ],
      "execution_count": 42,
      "outputs": []
    },
    {
      "cell_type": "code",
      "metadata": {
        "id": "9PXQkQvpxX8T",
        "colab_type": "code",
        "colab": {
          "base_uri": "https://localhost:8080/",
          "height": 265
        },
        "outputId": "a0bceb60-3028-4125-c36d-d262b8c12470"
      },
      "source": [
        "def pintar_numero(d):\n",
        "    pixels = d.reshape((8, 8))\n",
        "    plt.imshow(pixels, cmap='gray')\n",
        "    plt.show()\n",
        "\n",
        "pintar_numero(digits[23])"
      ],
      "execution_count": 43,
      "outputs": [
        {
          "output_type": "display_data",
          "data": {
            "image/png": "[encoded data removed]",
            "text/plain": [
              "<Figure size 432x288 with 1 Axes>"
            ]
          },
          "metadata": {
            "tags": [],
            "needs_background": "light"
          }
        }
      ]
    },
    {
      "cell_type": "code",
      "metadata": {
        "id": "CEVtEtrOxX9E",
        "colab_type": "code",
        "colab": {
          "base_uri": "https://localhost:8080/",
          "height": 265
        },
        "outputId": "a3aaf518-fa5e-4b12-833d-e3c8ba79b9c0"
      },
      "source": [
        "digits_mean = digits.mean(0)\n",
        "\n",
        "pintar_numero(digits_mean)"
      ],
      "execution_count": 44,
      "outputs": [
        {
          "output_type": "display_data",
          "data": {
            "image/png": "[encoded data removed]",
            "text/plain": [
              "<Figure size 432x288 with 1 Axes>"
            ]
          },
          "metadata": {
            "tags": [],
            "needs_background": "light"
          }
        }
      ]
    },
    {
      "cell_type": "markdown",
      "metadata": {
        "id": "DpyxRgIWxX9H",
        "colab_type": "text"
      },
      "source": [
        "## 4.1 Usando diagonalización\n",
        "\n",
        "Consideremos un conjunto de datos $x_1, x_2, \\ldots, x_N$, de media $\\bar{x}$. La matrix\n",
        "$$\n",
        "    S = \\frac{1}{N}\\sum_{i=1}^N (x_i - \\bar{x})(x_i - \\bar{x})^t\n",
        "$$\n",
        "se llama *matriz de covarianzas* de los datos. Su entrada $(i,j)$ mide 'como varían' los atributos $i$-ésimo y $j$-ésimo respecto de su media.\n",
        "\n",
        "Los autovectores de $S$ pueden interpretarse como las 'direcciones de variación principal' y, cuanto mayor sea el autovalor asociado, mayor es la variación."
      ]
    },
    {
      "cell_type": "code",
      "metadata": {
        "id": "9vcT74XJxX9T",
        "colab_type": "code",
        "colab": {}
      },
      "source": [
        "digits_cent = [d - digits_mean for d in digits]\n",
        "cov = sum([d.reshape(64,1)*d.reshape(64,1).T for d in digits_cent]).reshape(64,64)\n",
        "\n",
        "eigenvalues, eigenvectors = la.eig(cov)"
      ],
      "execution_count": 45,
      "outputs": []
    },
    {
      "cell_type": "code",
      "metadata": {
        "id": "loujDE7IxX9W",
        "colab_type": "code",
        "colab": {
          "base_uri": "https://localhost:8080/",
          "height": 311
        },
        "outputId": "8897e132-1376-417a-bf6f-6191faa9e12b"
      },
      "source": [
        "eigenvectors[:,0] # Devuelve los autovectores por columnas"
      ],
      "execution_count": 46,
      "outputs": [
        {
          "output_type": "execute_result",
          "data": {
            "text/plain": [
              "array([ 0.00000000e+00,  1.73094651e-02,  2.23428835e-01,  1.35913304e-01,\n",
              "        3.30323092e-02,  9.66340844e-02,  8.32943805e-03, -2.26900082e-03,\n",
              "        3.20516495e-04,  1.19308905e-01,  2.44451676e-01, -1.48512745e-01,\n",
              "        4.67319410e-02,  2.17740744e-01,  1.48136776e-02, -4.47779518e-03,\n",
              "        4.94136398e-05,  7.95419375e-02, -8.33951454e-02, -2.15915342e-01,\n",
              "        1.72126801e-01,  1.63712098e-01, -2.86444452e-02, -4.23251803e-03,\n",
              "       -9.85488574e-05, -6.42319144e-02, -2.54093316e-01,  3.56771026e-02,\n",
              "        2.09462569e-01,  4.31311420e-02, -5.13118688e-02, -2.13422732e-04,\n",
              "        0.00000000e+00, -1.59950883e-01, -3.68690774e-01, -1.64406827e-01,\n",
              "       -8.52007908e-02, -3.72982855e-02, -2.15866980e-02,  0.00000000e+00,\n",
              "       -1.28865585e-03, -1.06945287e-01, -3.03067457e-01, -2.47813041e-01,\n",
              "       -2.09637296e-01, -1.22325219e-02,  3.69458497e-02, -1.61485028e-03,\n",
              "       -6.93023548e-04,  8.35144239e-03,  5.58598986e-02, -9.30534169e-02,\n",
              "       -1.07387720e-01,  1.37734565e-01,  6.32879466e-02, -9.61671077e-04,\n",
              "       -9.55079131e-06,  1.40786840e-02,  2.35675488e-01,  1.41225588e-01,\n",
              "        9.15964553e-03,  8.94184677e-02,  3.65977111e-02,  1.14684954e-02])"
            ]
          },
          "metadata": {
            "tags": []
          },
          "execution_count": 46
        }
      ]
    },
    {
      "cell_type": "code",
      "metadata": {
        "id": "5NWw0GvxxX9e",
        "colab_type": "code",
        "colab": {
          "base_uri": "https://localhost:8080/",
          "height": 265
        },
        "outputId": "b48ba218-9aa0-452c-fefa-06617bd943ee"
      },
      "source": [
        "pintar_numero(eigenvectors[:,0])"
      ],
      "execution_count": 47,
      "outputs": [
        {
          "output_type": "display_data",
          "data": {
            "image/png": "[encoded data removed]",
            "text/plain": [
              "<Figure size 432x288 with 1 Axes>"
            ]
          },
          "metadata": {
            "tags": [],
            "needs_background": "light"
          }
        }
      ]
    },
    {
      "cell_type": "markdown",
      "metadata": {
        "id": "whv4AzklxX9i",
        "colab_type": "text"
      },
      "source": [
        "## 4.2 Usando SVD\n",
        "\n",
        "Otra forma de realizar el mismo cálculo de forma más efectiva es la siguiente. Sea $X = \\left(x_1 - \\bar{x}\\,|\\, x_2- \\bar{x}\\,|\\,\\ldots\\,|\\, x_N- \\bar{x}\\right)$ la matriz de datos centrados en la media. Obsérvese que, en ese caso, $S = XX^t$.\n",
        "\n",
        "Apliquemos una descomposición SVD a $X$, de forma que\n",
        "\n",
        "$$\n",
        "    X = U\\Sigma V^t\n",
        "$$\n",
        "con $\\Sigma = \\mathrm{diag}(\\sigma_1, \\ldots, \\sigma_N)$ con $\\sigma_1 \\geq \\sigma_2 \\geq \\ldots \\geq \\sigma_N$ los valores principales ordenados. Entonces, tenemos que\n",
        "\n",
        "$$\n",
        "    S = XX^t = U\\Sigma V^t V \\Sigma^t U^t = U\\Sigma\\Sigma^t U^t = UD U^t,\n",
        "$$\n",
        "\n",
        "dónde $D = \\mathrm{diag}(\\sigma_1^2, \\ldots, \\sigma_N^2)$. De este modo, los autovalores de $S$ son $\\sigma_1^2, \\ldots, \\sigma_N^2$ y los autovectores vienen dados por $U$."
      ]
    },
    {
      "cell_type": "code",
      "metadata": {
        "id": "aKyIA-CLxX9j",
        "colab_type": "code",
        "colab": {}
      },
      "source": [
        "# Formamos la matriz X\n",
        "\n",
        "X = np.matrix(digits_cent).T\n",
        "\n",
        "U, sigma, V = la.svd(X) # Calculamos la SVD de X"
      ],
      "execution_count": 61,
      "outputs": []
    },
    {
      "cell_type": "code",
      "metadata": {
        "id": "APi3JxkvxX9m",
        "colab_type": "code",
        "colab": {
          "base_uri": "https://localhost:8080/",
          "height": 513
        },
        "outputId": "37106f90-98b1-47b4-e5b9-8103eeb7afa1"
      },
      "source": [
        "pintar_numero(np.array(U[:,2]))\n",
        "pintar_numero(eigenvectors[:,2])"
      ],
      "execution_count": 62,
      "outputs": [
        {
          "output_type": "display_data",
          "data": {
            "image/png": "[encoded data removed]",
            "text/plain": [
              "<Figure size 432x288 with 1 Axes>"
            ]
          },
          "metadata": {
            "tags": [],
            "needs_background": "light"
          }
        },
        {
          "output_type": "display_data",
          "data": {
            "image/png": "[encoded data removed]",
            "text/plain": [
              "<Figure size 432x288 with 1 Axes>"
            ]
          },
          "metadata": {
            "tags": [],
            "needs_background": "light"
          }
        }
      ]
    }
  ]
}