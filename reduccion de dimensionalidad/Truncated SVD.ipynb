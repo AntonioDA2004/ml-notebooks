{
 "cells": [
  {
   "cell_type": "markdown",
   "metadata": {},
   "source": [
    "# Truncated SVD\n",
    "\n",
    "El algoritmo de reducción dimensional de **_Truncated SVD_** implementa una variante de la descomposición en valores singulares (SVD) en la que sólo se computan los *k* valores singulares más altos. Este *k* representará, por tanto, el número de dimensiones en las que desea reducirse el conjunto de datos.\n",
    "\n",
    "Matemáticamente, _Truncated SVD_ es aplicado una matriz $X$ con $n$ muestras (filas) y $m$ características (columnas) para generar una aproximación de bajo dimensión de $X$:\n",
    "\n",
    "$$\n",
    "X \\approx X_k = U_k \\Sigma_k V_k^T\n",
    "$$\n",
    "\n",
    "Este proceso de factorización suele llevarse a cabo mediante dos algoritmos: [ARPACK](https://docs.scipy.org/doc/scipy/reference/tutorial/arpack.html) o [_randomized_](https://arxiv.org/abs/0909.4061).\n",
    "\n",
    "Tras el proceso de factorización, $U_k \\Sigma_k$ contendrá la representación _k_-dimensional de nuestro conjunto de datos. Igualmente, es posible transformar nuevas muestras $X^\\prime$ del siguiente modo:\n",
    "\n",
    "$$\n",
    "X^\\prime_k = X^\\prime V_k\n",
    "$$\n",
    "\n",
    "_Truncated SVD_ es similar a PCA pero, a diferencia de este:\n",
    "\n",
    "1. No requiere que la matriz $X$ esté estandarizada (centrada).\n",
    "2. Puede ser utilizado en matrices dispersas de forma eficiente.\n",
    "\n",
    "Este tipo de matrices dispersas son frecuentes cuando se trabaja sobre un conjunto de datos de documentos codificados mediante _Bag of Words (BOW)_ o _TF/IDF_. En esos casos, al algoritmo de _Truncated SVD_ se le conoce como _Latent Semantic Analysis (LSA)_ o _Latent Semantic Indexing (LSI)_. \n",
    "\n",
    "Veamos un ejemplo de la implementación de [`TruncatedSVD`](https://scikit-learn.org/stable/modules/generated/sklearn.decomposition.TruncatedSVD.html#sklearn.decomposition.TruncatedSVD) sobre el conjunto de datos de [_20 news group_](https://scikit-learn.org/stable/modules/generated/sklearn.datasets.fetch_20newsgroups.html?highlight=news%20group#sklearn.datasets.fetch_20newsgroups)."
   ]
  },
  {
   "cell_type": "markdown",
   "metadata": {},
   "source": [
    "Cargamos el conjunto de datos:"
   ]
  },
  {
   "cell_type": "code",
   "execution_count": null,
   "metadata": {
    "ExecuteTime": {
     "end_time": "2021-05-20T13:18:23.928653Z",
     "start_time": "2021-05-20T13:18:11.977888Z"
    }
   },
   "outputs": [],
   "source": [
    "from sklearn.datasets import fetch_20newsgroups\n",
    "news = fetch_20newsgroups()"
   ]
  },
  {
   "cell_type": "markdown",
   "metadata": {},
   "source": [
    "Lo procesamos con TF/IDF:"
   ]
  },
  {
   "cell_type": "code",
   "execution_count": null,
   "metadata": {
    "ExecuteTime": {
     "end_time": "2021-05-20T13:21:17.873840Z",
     "start_time": "2021-05-20T13:21:13.614671Z"
    }
   },
   "outputs": [],
   "source": [
    "from sklearn.feature_extraction.text import TfidfVectorizer\n",
    "\n",
    "vectorizer = TfidfVectorizer().fit(news.data)\n",
    "\n",
    "X = vectorizer.transform(news.data)"
   ]
  },
  {
   "cell_type": "code",
   "execution_count": null,
   "metadata": {
    "ExecuteTime": {
     "end_time": "2021-05-20T13:19:48.858807Z",
     "start_time": "2021-05-20T13:19:48.850203Z"
    }
   },
   "outputs": [],
   "source": [
    "X.shape"
   ]
  },
  {
   "cell_type": "markdown",
   "metadata": {},
   "source": [
    "Ejecutamos `TruncatedSVD`:"
   ]
  },
  {
   "cell_type": "code",
   "execution_count": null,
   "metadata": {
    "ExecuteTime": {
     "end_time": "2021-05-20T13:22:49.876059Z",
     "start_time": "2021-05-20T13:22:47.908731Z"
    }
   },
   "outputs": [],
   "source": [
    "from sklearn.decomposition import TruncatedSVD\n",
    "svd = TruncatedSVD(n_components=20, random_state=42).fit(X)"
   ]
  },
  {
   "cell_type": "markdown",
   "metadata": {},
   "source": [
    "Obtenemos la transformación usando `transform`. Esta transformación se corresponde con $U_k\\Sigma_k$:"
   ]
  },
  {
   "cell_type": "code",
   "execution_count": null,
   "metadata": {
    "ExecuteTime": {
     "end_time": "2021-05-20T13:24:08.740747Z",
     "start_time": "2021-05-20T13:24:08.686142Z"
    }
   },
   "outputs": [],
   "source": [
    "X_low = svd.transform(X)"
   ]
  },
  {
   "cell_type": "code",
   "execution_count": null,
   "metadata": {
    "ExecuteTime": {
     "end_time": "2021-05-20T13:24:15.793113Z",
     "start_time": "2021-05-20T13:24:15.784429Z"
    }
   },
   "outputs": [],
   "source": [
    "X_low.shape"
   ]
  },
  {
   "cell_type": "markdown",
   "metadata": {},
   "source": [
    "Mediante `components_` podemos recuperar $V_k$:"
   ]
  },
  {
   "cell_type": "code",
   "execution_count": null,
   "metadata": {
    "ExecuteTime": {
     "end_time": "2021-05-20T13:26:47.113609Z",
     "start_time": "2021-05-20T13:26:47.107867Z"
    }
   },
   "outputs": [],
   "source": [
    "V = svd.components_"
   ]
  },
  {
   "cell_type": "code",
   "execution_count": null,
   "metadata": {
    "ExecuteTime": {
     "end_time": "2021-05-20T13:26:47.843939Z",
     "start_time": "2021-05-20T13:26:47.836066Z"
    }
   },
   "outputs": [],
   "source": [
    "V.shape"
   ]
  },
  {
   "cell_type": "markdown",
   "metadata": {},
   "source": [
    "Esta matrices nos permiten calcular la similaridad entre dos palabras:"
   ]
  },
  {
   "cell_type": "code",
   "execution_count": null,
   "metadata": {
    "ExecuteTime": {
     "end_time": "2021-05-20T13:32:08.297347Z",
     "start_time": "2021-05-20T13:32:08.284534Z"
    }
   },
   "outputs": [],
   "source": [
    "from sklearn.metrics.pairwise import cosine_similarity\n",
    "\n",
    "vocabulary = vectorizer.vocabulary_\n",
    "\n",
    "word_a = V.T[vocabulary['religion']].reshape(1, -1)\n",
    "word_b = V.T[vocabulary['food']].reshape(1, -1)\n",
    "\n",
    "cosine_similarity(word_a, word_b)"
   ]
  },
  {
   "cell_type": "markdown",
   "metadata": {},
   "source": [
    "O entre dos documentos:"
   ]
  },
  {
   "cell_type": "code",
   "execution_count": null,
   "metadata": {
    "ExecuteTime": {
     "end_time": "2021-05-20T13:37:35.507123Z",
     "start_time": "2021-05-20T13:37:35.493254Z"
    }
   },
   "outputs": [],
   "source": [
    "from sklearn.metrics.pairwise import cosine_similarity\n",
    "\n",
    "doc_1 = 10\n",
    "print('First document:\\n', news.data[doc_1])\n",
    "\n",
    "doc_2 = 500\n",
    "print('\\n\\nSecond document:\\n', news.data[doc_2])\n",
    "\n",
    "sim = cosine_similarity(X_low[doc_1].reshape(1,-1), X_low[doc_2].reshape(1,-1))\n",
    "print('\\n\\nSimilarity:', sim[0][0])"
   ]
  },
  {
   "cell_type": "markdown",
   "metadata": {},
   "source": [
    "---\n",
    "\n",
    "Creado por **Fernando Ortega** (fernando.ortega@upm.es)\n",
    "\n",
    "<img src=\"https://licensebuttons.net/l/by-nc-sa/3.0/88x31.png\">"
   ]
  }
 ],
 "metadata": {
  "kernelspec": {
   "display_name": "Python 3",
   "language": "python",
   "name": "python3"
  },
  "language_info": {
   "codemirror_mode": {
    "name": "ipython",
    "version": 3
   },
   "file_extension": ".py",
   "mimetype": "text/x-python",
   "name": "python",
   "nbconvert_exporter": "python",
   "pygments_lexer": "ipython3",
   "version": "3.8.5"
  },
  "toc": {
   "base_numbering": 1,
   "nav_menu": {},
   "number_sections": false,
   "sideBar": true,
   "skip_h1_title": false,
   "title_cell": "Table of Contents",
   "title_sidebar": "Contents",
   "toc_cell": false,
   "toc_position": {},
   "toc_section_display": true,
   "toc_window_display": false
  }
 },
 "nbformat": 4,
 "nbformat_minor": 4
}
